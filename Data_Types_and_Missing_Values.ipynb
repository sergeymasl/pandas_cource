{
  "nbformat": 4,
  "nbformat_minor": 0,
  "metadata": {
    "colab": {
      "name": "Data Types and Missing Values.ipynb",
      "provenance": [],
      "collapsed_sections": [],
      "authorship_tag": "ABX9TyNSONRUbWaI8HpZ9A3ycGyh",
      "include_colab_link": true
    },
    "kernelspec": {
      "name": "python3",
      "display_name": "Python 3"
    },
    "language_info": {
      "name": "python"
    }
  },
  "cells": [
    {
      "cell_type": "markdown",
      "metadata": {
        "id": "view-in-github",
        "colab_type": "text"
      },
      "source": [
        "<a href=\"https://colab.research.google.com/github/sergeymasl/pandas_cource/blob/main/Data_Types_and_Missing_Values.ipynb\" target=\"_parent\"><img src=\"https://colab.research.google.com/assets/colab-badge.svg\" alt=\"Open In Colab\"/></a>"
      ]
    },
    {
      "cell_type": "markdown",
      "source": [
        "# **Data Types and Missing Values**"
      ],
      "metadata": {
        "id": "6KBcPefa1ge6"
      }
    },
    {
      "cell_type": "markdown",
      "source": [
        "## **Введение**\n",
        "\n",
        "В этом уроке вы изучете какие типы данных есть в DataFrame и Series.\n",
        "Также вы узнаете как заменять данные в DataFrame и Series."
      ],
      "metadata": {
        "id": "JWN0SLAX1kLr"
      }
    },
    {
      "cell_type": "markdown",
      "source": [
        "Для демонстрации мы будем использовать датасет с данными о винах."
      ],
      "metadata": {
        "id": "jiLoiQd75ig6"
      }
    },
    {
      "cell_type": "code",
      "source": [
        "# импорт библиотеки\n",
        "import pandas as pd\n",
        "# загрузка датасета для дальнейшей работы\n",
        "reviews = pd.read_csv(\"https://drive.google.com/uc?export=download&id=1z-1idT4mGbOvHgmEPzneqV54EJ1-w7tk\", index_col=0)\n",
        "# настройки по отображению строк\n",
        "pd.set_option('max_rows', 5)"
      ],
      "metadata": {
        "id": "p_LB32iP5jRy"
      },
      "execution_count": null,
      "outputs": []
    },
    {
      "cell_type": "markdown",
      "source": [
        "## **Типы данных**"
      ],
      "metadata": {
        "id": "vqTLg68s41HT"
      }
    },
    {
      "cell_type": "markdown",
      "source": [
        ">**Типы данных** -  это очень важная вещь, на которую **стоит потратить время** в самом начале вашей работы, то есть при загрузки данных.\n",
        "\n",
        ">В противном случае, вы можете столкнуться с неправильными результатами или ошибками слишком поздно и на исправление этих ошибок уйдет много-много больше времени и нервов, чем вы бы потратили на работу с типами данных при загрузке."
      ],
      "metadata": {
        "id": "mfgxlzERDZig"
      }
    },
    {
      "cell_type": "markdown",
      "source": [
        "Есть некоторая разница между типами данных в Pandas, NumPy и Python. Вот сравнительная табличка:"
      ],
      "metadata": {
        "id": "Vjuj9VrcIIcm"
      }
    },
    {
      "cell_type": "markdown",
      "source": [
        "|Pandas        | Python        | NumPy                                                         | Описание                                         |\n",
        "|---           |---            |---                                                            |---                                                    |\n",
        "|object        |str или смесь  |string_, unicode_, смешанные типы                              | Текстовые или смешанные числовые и нечисловые значения|\n",
        "|int64         |int            |int_, int8, int16, int32, int64, uint8, uint16, uint32, uint64 | Целые числа                                           |\n",
        "|float64       |float          |float_, float16, float32, float64                              | Числа с плавающей точкой                              |\n",
        "|bool          |bool           |bool_                                                          | Значения True/False                                   |\n",
        "|datetime64    |datetime             |datetime64[ns]                                                 | Значения даты и времени                               |\n",
        "|timedelta[ns] |NA             |NA                                                             | Разность между двумя datetimes                        |\n",
        "|category      |NA             |NA                                                             | Ограниченный список текстовых значений                |"
      ],
      "metadata": {
        "id": "CzN6Msk5CFiB"
      }
    },
    {
      "cell_type": "markdown",
      "source": [
        ""
      ],
      "metadata": {
        "id": "kR0vIiwOM1G9"
      }
    },
    {
      "cell_type": "code",
      "source": [
        "reviews['price'].dtype"
      ],
      "metadata": {
        "colab": {
          "base_uri": "https://localhost:8080/"
        },
        "id": "T3pwkWSf72lh",
        "outputId": "9cc6e87a-fe9c-4416-c93f-2420d4cce1e3"
      },
      "execution_count": null,
      "outputs": [
        {
          "output_type": "execute_result",
          "data": {
            "text/plain": [
              "dtype('float64')"
            ]
          },
          "metadata": {},
          "execution_count": 6
        }
      ]
    },
    {
      "cell_type": "markdown",
      "source": [
        "Еще один метод, позволяющий узнать типы данных это ```dtypes```. Он возвращяет тип данных для каждого столбца в DataFrame:"
      ],
      "metadata": {
        "id": "PfeXSOjT8OGy"
      }
    },
    {
      "cell_type": "code",
      "source": [
        "reviews.dtypes"
      ],
      "metadata": {
        "colab": {
          "base_uri": "https://localhost:8080/"
        },
        "id": "gV2b8NfF8nKJ",
        "outputId": "4dcfb86d-c14f-4e78-fb98-4b83a0715299"
      },
      "execution_count": null,
      "outputs": [
        {
          "output_type": "execute_result",
          "data": {
            "text/plain": [
              "country        object\n",
              "description    object\n",
              "                ...  \n",
              "variety        object\n",
              "winery         object\n",
              "Length: 13, dtype: object"
            ]
          },
          "metadata": {},
          "execution_count": 7
        }
      ]
    },
    {
      "cell_type": "markdown",
      "source": [
        "Тип данных говорит нам немного о том как Pandas хранит внутри себя данные.\n",
        ">```float64``` означает что это числа с плавающей запятой размером 64 бита (или 8 байт)\n",
        "\n",
        ">```int64``` означает целое число размером 64 бита (или 8 байт)\n",
        "\n",
        "Особенность, которую необходимо запомнить, столбцы со строковым типом данных получают тип данных ```object```."
      ],
      "metadata": {
        "id": "q7Lw__RB8pM5"
      }
    }
  ]
}