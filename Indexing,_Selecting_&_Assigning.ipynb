{
  "nbformat": 4,
  "nbformat_minor": 0,
  "metadata": {
    "colab": {
      "name": "Indexing, Selecting & Assigning.ipynb",
      "provenance": [],
      "collapsed_sections": [],
      "toc_visible": true,
      "authorship_tag": "ABX9TyMGjsCX1VEAJ86hheayQzuj",
      "include_colab_link": true
    },
    "kernelspec": {
      "name": "python3",
      "display_name": "Python 3"
    },
    "language_info": {
      "name": "python"
    }
  },
  "cells": [
    {
      "cell_type": "markdown",
      "metadata": {
        "id": "view-in-github",
        "colab_type": "text"
      },
      "source": [
        "<a href=\"https://colab.research.google.com/github/sergeymasl/pandas_cource/blob/main/Indexing%2C_Selecting_%26_Assigning.ipynb\" target=\"_parent\"><img src=\"https://colab.research.google.com/assets/colab-badge.svg\" alt=\"Open In Colab\"/></a>"
      ]
    },
    {
      "cell_type": "markdown",
      "source": [
        "# **Indexing, Selecting & Assigning**\n",
        "\n",
        "Работа по выбору(фильтрации) данных в DataFrame или Series и получению, необходимых в моменте, данных, будет происходит в большинстве операций, которые вы будете совершать в своей работе.\n",
        "Поэтому одна из первых вещей, которую вам необходимо изучить - это как быстро и эффективно выбрать из всего массива данных ту часть, которая релевантна для вас в моменте.\n",
        "\n",
        "\n",
        "https://drive.google.com/uc?export=download&id=1z-1idT4mGbOvHgmEPzneqV54EJ1-w7tk"
      ],
      "metadata": {
        "id": "qqbVHC6BdCbx"
      }
    },
    {
      "cell_type": "code",
      "source": [
        "# импорт библиотеки\n",
        "import pandas as pd\n",
        "# загрузка датасета для дальнейшей работы\n",
        "reviews = pd.read_csv(\"https://drive.google.com/uc?export=download&id=1z-1idT4mGbOvHgmEPzneqV54EJ1-w7tk\", index_col=0)\n",
        "# настройки по отображению строк\n",
        "pd.set_option('max_rows', 5)"
      ],
      "metadata": {
        "id": "vCsP0JPZgnth"
      },
      "execution_count": 1,
      "outputs": []
    },
    {
      "cell_type": "markdown",
      "source": [
        "## **Использование встроенных возможностей Python при работе с Pandas**"
      ],
      "metadata": {
        "id": "GAbuzJ_0hoag"
      }
    },
    {
      "cell_type": "markdown",
      "source": [
        "Язык Python уже использует удобные способы индексации данных (например индексы и срезы в строках и списках, ключи в словарях). Pandas вобрал в себя все эти способы, что позволяет легко начать работу с ним.\n",
        "\n",
        "Рассмотрим DataFrame загруженный выше:"
      ],
      "metadata": {
        "id": "t3pHD-SEiB5_"
      }
    },
    {
      "cell_type": "code",
      "source": [
        "reviews"
      ],
      "metadata": {
        "colab": {
          "base_uri": "https://localhost:8080/",
          "height": 236
        },
        "id": "63aQETI-irlg",
        "outputId": "11b288fe-a1d7-4202-e6cd-be9072cd2dd7"
      },
      "execution_count": 2,
      "outputs": [
        {
          "output_type": "execute_result",
          "data": {
            "text/plain": [
              "         country                                        description  \\\n",
              "0          Italy  Aromas include tropical fruit, broom, brimston...   \n",
              "1       Portugal  This is ripe and fruity, a wine that is smooth...   \n",
              "...          ...                                                ...   \n",
              "129969    France  A dry style of Pinot Gris, this is crisp with ...   \n",
              "129970    France  Big, rich and off-dry, this is powered by inte...   \n",
              "\n",
              "                          designation  points  price           province  \\\n",
              "0                        Vulkà Bianco      87    NaN  Sicily & Sardinia   \n",
              "1                            Avidagos      87   15.0              Douro   \n",
              "...                               ...     ...    ...                ...   \n",
              "129969                            NaN      90   32.0             Alsace   \n",
              "129970  Lieu-dit Harth Cuvée Caroline      90   21.0             Alsace   \n",
              "\n",
              "       region_1 region_2    taster_name taster_twitter_handle  \\\n",
              "0          Etna      NaN  Kerin O’Keefe          @kerinokeefe   \n",
              "1           NaN      NaN     Roger Voss            @vossroger   \n",
              "...         ...      ...            ...                   ...   \n",
              "129969   Alsace      NaN     Roger Voss            @vossroger   \n",
              "129970   Alsace      NaN     Roger Voss            @vossroger   \n",
              "\n",
              "                                                    title         variety  \\\n",
              "0                       Nicosia 2013 Vulkà Bianco  (Etna)     White Blend   \n",
              "1           Quinta dos Avidagos 2011 Avidagos Red (Douro)  Portuguese Red   \n",
              "...                                                   ...             ...   \n",
              "129969      Domaine Marcel Deiss 2012 Pinot Gris (Alsace)      Pinot Gris   \n",
              "129970  Domaine Schoffit 2012 Lieu-dit Harth Cuvée Car...  Gewürztraminer   \n",
              "\n",
              "                      winery  \n",
              "0                    Nicosia  \n",
              "1        Quinta dos Avidagos  \n",
              "...                      ...  \n",
              "129969  Domaine Marcel Deiss  \n",
              "129970      Domaine Schoffit  \n",
              "\n",
              "[129971 rows x 13 columns]"
            ],
            "text/html": [
              "\n",
              "  <div id=\"df-99067944-2ea0-43b8-988e-b917619a6341\">\n",
              "    <div class=\"colab-df-container\">\n",
              "      <div>\n",
              "<style scoped>\n",
              "    .dataframe tbody tr th:only-of-type {\n",
              "        vertical-align: middle;\n",
              "    }\n",
              "\n",
              "    .dataframe tbody tr th {\n",
              "        vertical-align: top;\n",
              "    }\n",
              "\n",
              "    .dataframe thead th {\n",
              "        text-align: right;\n",
              "    }\n",
              "</style>\n",
              "<table border=\"1\" class=\"dataframe\">\n",
              "  <thead>\n",
              "    <tr style=\"text-align: right;\">\n",
              "      <th></th>\n",
              "      <th>country</th>\n",
              "      <th>description</th>\n",
              "      <th>designation</th>\n",
              "      <th>points</th>\n",
              "      <th>price</th>\n",
              "      <th>province</th>\n",
              "      <th>region_1</th>\n",
              "      <th>region_2</th>\n",
              "      <th>taster_name</th>\n",
              "      <th>taster_twitter_handle</th>\n",
              "      <th>title</th>\n",
              "      <th>variety</th>\n",
              "      <th>winery</th>\n",
              "    </tr>\n",
              "  </thead>\n",
              "  <tbody>\n",
              "    <tr>\n",
              "      <th>0</th>\n",
              "      <td>Italy</td>\n",
              "      <td>Aromas include tropical fruit, broom, brimston...</td>\n",
              "      <td>Vulkà Bianco</td>\n",
              "      <td>87</td>\n",
              "      <td>NaN</td>\n",
              "      <td>Sicily &amp; Sardinia</td>\n",
              "      <td>Etna</td>\n",
              "      <td>NaN</td>\n",
              "      <td>Kerin O’Keefe</td>\n",
              "      <td>@kerinokeefe</td>\n",
              "      <td>Nicosia 2013 Vulkà Bianco  (Etna)</td>\n",
              "      <td>White Blend</td>\n",
              "      <td>Nicosia</td>\n",
              "    </tr>\n",
              "    <tr>\n",
              "      <th>1</th>\n",
              "      <td>Portugal</td>\n",
              "      <td>This is ripe and fruity, a wine that is smooth...</td>\n",
              "      <td>Avidagos</td>\n",
              "      <td>87</td>\n",
              "      <td>15.0</td>\n",
              "      <td>Douro</td>\n",
              "      <td>NaN</td>\n",
              "      <td>NaN</td>\n",
              "      <td>Roger Voss</td>\n",
              "      <td>@vossroger</td>\n",
              "      <td>Quinta dos Avidagos 2011 Avidagos Red (Douro)</td>\n",
              "      <td>Portuguese Red</td>\n",
              "      <td>Quinta dos Avidagos</td>\n",
              "    </tr>\n",
              "    <tr>\n",
              "      <th>...</th>\n",
              "      <td>...</td>\n",
              "      <td>...</td>\n",
              "      <td>...</td>\n",
              "      <td>...</td>\n",
              "      <td>...</td>\n",
              "      <td>...</td>\n",
              "      <td>...</td>\n",
              "      <td>...</td>\n",
              "      <td>...</td>\n",
              "      <td>...</td>\n",
              "      <td>...</td>\n",
              "      <td>...</td>\n",
              "      <td>...</td>\n",
              "    </tr>\n",
              "    <tr>\n",
              "      <th>129969</th>\n",
              "      <td>France</td>\n",
              "      <td>A dry style of Pinot Gris, this is crisp with ...</td>\n",
              "      <td>NaN</td>\n",
              "      <td>90</td>\n",
              "      <td>32.0</td>\n",
              "      <td>Alsace</td>\n",
              "      <td>Alsace</td>\n",
              "      <td>NaN</td>\n",
              "      <td>Roger Voss</td>\n",
              "      <td>@vossroger</td>\n",
              "      <td>Domaine Marcel Deiss 2012 Pinot Gris (Alsace)</td>\n",
              "      <td>Pinot Gris</td>\n",
              "      <td>Domaine Marcel Deiss</td>\n",
              "    </tr>\n",
              "    <tr>\n",
              "      <th>129970</th>\n",
              "      <td>France</td>\n",
              "      <td>Big, rich and off-dry, this is powered by inte...</td>\n",
              "      <td>Lieu-dit Harth Cuvée Caroline</td>\n",
              "      <td>90</td>\n",
              "      <td>21.0</td>\n",
              "      <td>Alsace</td>\n",
              "      <td>Alsace</td>\n",
              "      <td>NaN</td>\n",
              "      <td>Roger Voss</td>\n",
              "      <td>@vossroger</td>\n",
              "      <td>Domaine Schoffit 2012 Lieu-dit Harth Cuvée Car...</td>\n",
              "      <td>Gewürztraminer</td>\n",
              "      <td>Domaine Schoffit</td>\n",
              "    </tr>\n",
              "  </tbody>\n",
              "</table>\n",
              "<p>129971 rows × 13 columns</p>\n",
              "</div>\n",
              "      <button class=\"colab-df-convert\" onclick=\"convertToInteractive('df-99067944-2ea0-43b8-988e-b917619a6341')\"\n",
              "              title=\"Convert this dataframe to an interactive table.\"\n",
              "              style=\"display:none;\">\n",
              "        \n",
              "  <svg xmlns=\"http://www.w3.org/2000/svg\" height=\"24px\"viewBox=\"0 0 24 24\"\n",
              "       width=\"24px\">\n",
              "    <path d=\"M0 0h24v24H0V0z\" fill=\"none\"/>\n",
              "    <path d=\"M18.56 5.44l.94 2.06.94-2.06 2.06-.94-2.06-.94-.94-2.06-.94 2.06-2.06.94zm-11 1L8.5 8.5l.94-2.06 2.06-.94-2.06-.94L8.5 2.5l-.94 2.06-2.06.94zm10 10l.94 2.06.94-2.06 2.06-.94-2.06-.94-.94-2.06-.94 2.06-2.06.94z\"/><path d=\"M17.41 7.96l-1.37-1.37c-.4-.4-.92-.59-1.43-.59-.52 0-1.04.2-1.43.59L10.3 9.45l-7.72 7.72c-.78.78-.78 2.05 0 2.83L4 21.41c.39.39.9.59 1.41.59.51 0 1.02-.2 1.41-.59l7.78-7.78 2.81-2.81c.8-.78.8-2.07 0-2.86zM5.41 20L4 18.59l7.72-7.72 1.47 1.35L5.41 20z\"/>\n",
              "  </svg>\n",
              "      </button>\n",
              "      \n",
              "  <style>\n",
              "    .colab-df-container {\n",
              "      display:flex;\n",
              "      flex-wrap:wrap;\n",
              "      gap: 12px;\n",
              "    }\n",
              "\n",
              "    .colab-df-convert {\n",
              "      background-color: #E8F0FE;\n",
              "      border: none;\n",
              "      border-radius: 50%;\n",
              "      cursor: pointer;\n",
              "      display: none;\n",
              "      fill: #1967D2;\n",
              "      height: 32px;\n",
              "      padding: 0 0 0 0;\n",
              "      width: 32px;\n",
              "    }\n",
              "\n",
              "    .colab-df-convert:hover {\n",
              "      background-color: #E2EBFA;\n",
              "      box-shadow: 0px 1px 2px rgba(60, 64, 67, 0.3), 0px 1px 3px 1px rgba(60, 64, 67, 0.15);\n",
              "      fill: #174EA6;\n",
              "    }\n",
              "\n",
              "    [theme=dark] .colab-df-convert {\n",
              "      background-color: #3B4455;\n",
              "      fill: #D2E3FC;\n",
              "    }\n",
              "\n",
              "    [theme=dark] .colab-df-convert:hover {\n",
              "      background-color: #434B5C;\n",
              "      box-shadow: 0px 1px 3px 1px rgba(0, 0, 0, 0.15);\n",
              "      filter: drop-shadow(0px 1px 2px rgba(0, 0, 0, 0.3));\n",
              "      fill: #FFFFFF;\n",
              "    }\n",
              "  </style>\n",
              "\n",
              "      <script>\n",
              "        const buttonEl =\n",
              "          document.querySelector('#df-99067944-2ea0-43b8-988e-b917619a6341 button.colab-df-convert');\n",
              "        buttonEl.style.display =\n",
              "          google.colab.kernel.accessAllowed ? 'block' : 'none';\n",
              "\n",
              "        async function convertToInteractive(key) {\n",
              "          const element = document.querySelector('#df-99067944-2ea0-43b8-988e-b917619a6341');\n",
              "          const dataTable =\n",
              "            await google.colab.kernel.invokeFunction('convertToInteractive',\n",
              "                                                     [key], {});\n",
              "          if (!dataTable) return;\n",
              "\n",
              "          const docLinkHtml = 'Like what you see? Visit the ' +\n",
              "            '<a target=\"_blank\" href=https://colab.research.google.com/notebooks/data_table.ipynb>data table notebook</a>'\n",
              "            + ' to learn more about interactive tables.';\n",
              "          element.innerHTML = '';\n",
              "          dataTable['output_type'] = 'display_data';\n",
              "          await google.colab.output.renderOutput(dataTable, element);\n",
              "          const docLink = document.createElement('div');\n",
              "          docLink.innerHTML = docLinkHtml;\n",
              "          element.appendChild(docLink);\n",
              "        }\n",
              "      </script>\n",
              "    </div>\n",
              "  </div>\n",
              "  "
            ]
          },
          "metadata": {},
          "execution_count": 2
        }
      ]
    },
    {
      "cell_type": "markdown",
      "source": [
        "Out:\n",
        "\n",
        "|    | country   | description                                                                                                                                                                                                                         | designation   |   points |   price | province          | region_1   |   region_2 | taster_name   | taster_twitter_handle   | title                                         | variety        | winery              |\n",
        "|---:|:----------|:------------------------------------------------------------------------------------------------------------------------------------------------------------------------------------------------------------------------------------|:--------------|---------:|--------:|:------------------|:-----------|-----------:|:--------------|:------------------------|:----------------------------------------------|:---------------|:--------------------|\n",
        "|  0 | Italy     | Aromas include tropical fruit, broom, brimstone and dried herb. The palate isn't overly expressive, offering unripened apple, citrus and dried sage alongside brisk acidity.                                                        | Vulkà Bianco  |       87 |     nan | Sicily & Sardinia | Etna       |        nan | Kerin O’Keefe | @kerinokeefe            | Nicosia 2013 Vulkà Bianco  (Etna)             | White Blend    | Nicosia             |\n",
        "|  1 | Portugal  | This is ripe and fruity, a wine that is smooth while still structured. Firm tannins are filled out with juicy red berry fruits and freshened with acidity. It's  already drinkable, although it will certainly be better from 2016. | Avidagos      |       87 |      15 | Douro             | nan        |        nan | Roger Voss    | @vossroger              | Quinta dos Avidagos 2011 Avidagos Red (Douro) | Portuguese Red | Quinta dos Avidagos |\n",
        "| ...|...| ...| ...  |       ... |     ...| ... |... |... | ... | ...| ...| ...|...|\n",
        "| 129969 | France    | A dry style of Pinot Gris, this is crisp with some acidity. It also has weight and a solid, powerful core of spice and baked apple flavors. With its structure still developing, the wine needs to age. Drink from 2015. | nan                           |       90 |      32 | Alsace     | Alsace     |        nan | Roger Voss    | @vossroger              | Domaine Marcel Deiss 2012 Pinot Gris (Alsace)                               | Pinot Gris     | Domaine Marcel Deiss |\n",
        "| 129970 | France    | Big, rich and off-dry, this is powered by intense spiciness and rounded texture. Lychees dominate the fruit profile, giving an opulent feel to the aftertaste. Drink now.                                                | Lieu-dit Harth Cuvée Caroline |       90 |      21 | Alsace     | Alsace     |        nan | Roger Voss    | @vossroger              | Domaine Schoffit 2012 Lieu-dit Harth Cuvée Caroline Gewurztraminer (Alsace) | Gewürztraminer | Domaine Schoffit     |"
      ],
      "metadata": {
        "id": "KWs1DauAz5zO"
      }
    },
    {
      "cell_type": "markdown",
      "source": [
        "\\\n",
        "\n",
        "В Python мы можем вызвать свойство класса, обратившись к нему как объекту класса. Например, класс ```книга``` скорее всего имеет объект ```оглавление``` и мы можем обратиться в этому объекту вот так: ```книга.оглавление```. Вызов столбцов в DataFrame работает таким же образом.\n",
        "\n",
        "Следовательно, чтобы вызвать столбец ```counry``` из DataFrame ```reviews```, который мы используем в примере, использую вот такой код:"
      ],
      "metadata": {
        "id": "D0scigc07Cgr"
      }
    },
    {
      "cell_type": "code",
      "source": [
        "reviews.country"
      ],
      "metadata": {
        "id": "8ubBLMaK8nlL",
        "colab": {
          "base_uri": "https://localhost:8080/"
        },
        "outputId": "d4ee8592-d737-4981-951e-0a4b1e573938"
      },
      "execution_count": 3,
      "outputs": [
        {
          "output_type": "execute_result",
          "data": {
            "text/plain": [
              "0            Italy\n",
              "1         Portugal\n",
              "            ...   \n",
              "129969      France\n",
              "129970      France\n",
              "Name: country, Length: 129971, dtype: object"
            ]
          },
          "metadata": {},
          "execution_count": 3
        }
      ]
    },
    {
      "cell_type": "markdown",
      "source": [
        "Out:\n",
        "\n",
        "![image.png](data:image/png;base64,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)"
      ],
      "metadata": {
        "id": "XX6eXk7B8sEC"
      }
    },
    {
      "cell_type": "markdown",
      "source": [
        "Также в словаре(```dict```) Python, мы можем вызвать значение по ключу, используя квадратные скобки, вот так ```dict['key']```. Мы можем сделать такую же операцию и при вызове столбца из DataFrame:"
      ],
      "metadata": {
        "id": "89b7ZSyx8_FM"
      }
    },
    {
      "cell_type": "code",
      "source": [
        "reviews['country']"
      ],
      "metadata": {
        "colab": {
          "base_uri": "https://localhost:8080/"
        },
        "id": "cr1mflRe9kdJ",
        "outputId": "ae92833e-a395-4fe1-ea27-8417ee496c27"
      },
      "execution_count": 4,
      "outputs": [
        {
          "output_type": "execute_result",
          "data": {
            "text/plain": [
              "0            Italy\n",
              "1         Portugal\n",
              "            ...   \n",
              "129969      France\n",
              "129970      France\n",
              "Name: country, Length: 129971, dtype: object"
            ]
          },
          "metadata": {},
          "execution_count": 4
        }
      ]
    },
    {
      "cell_type": "markdown",
      "source": [
        "Out:\n",
        "\n",
        "![image.png](data:image/png;base64,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)"
      ],
      "metadata": {
        "id": "11mOIXqC9nfI"
      }
    },
    {
      "cell_type": "markdown",
      "source": [
        "Таким образом есть два способа выбора Series, то есть столбца, из DataFrame. Оба этих способа синтаксически правильны, но у способа с квадратными скобками ```[]``` есть неоспоримое преимущество, **так этот способ позволяет вызвать столбцы с особыми символами** (например, имея столбец с именем ```country providence```, вызов ```reviews.country providence``` не сработает.\n",
        "\n",
        "А вот использование ```reviews['country providence']``` сработает.)\n",
        "\\\n",
        "\n",
        "\\\n",
        "\n",
        "Не похожа ли Series на словарь Python? По большой части так и есть, поэтому для вызова отдельного значения из Series, нам нужно еще раз использовать оператор вызова ```[]```, вот так:"
      ],
      "metadata": {
        "id": "c-8e54u8-BCi"
      }
    },
    {
      "cell_type": "code",
      "source": [
        "reviews['country'][0]"
      ],
      "metadata": {
        "id": "8sBcb1mXHbak"
      },
      "execution_count": null,
      "outputs": []
    },
    {
      "cell_type": "markdown",
      "source": [
        "Out:\n",
        "\n",
        "'Italy'"
      ],
      "metadata": {
        "id": "4bQuEcSOHoCe"
      }
    },
    {
      "cell_type": "markdown",
      "source": [
        "## **Собственные методы Pandas для выбора значений**\n",
        "\n",
        "Операторы выбора, рассмотренные выше - хороши, потому что они работают также как и в экосистеме Python. Что позволяет быстро использовать эти методы новым пользователям.\n",
        "\n",
        "Однако, Pandas имеет свои собственные операторы выбора данных, ```loc``` и ```iloc```. Эти операторы необходимы для более сложных операций."
      ],
      "metadata": {
        "id": "snaq3zdaI-y9"
      }
    },
    {
      "cell_type": "markdown",
      "source": [
        "### **Выбор на основе позиции индекса**\n",
        "\n",
        "Выбор данных в Pandas работает по одной из двух парадигм. Первая из них - **Выбор на основе позиции индекса**, он подразумевает под собой выбор данных основываясь на порядковом номере их индекса (*первый, второй и т.д.*). Данную парадигму использует оператор ```iloc```. \n",
        "\n",
        "\n",
        "Для выбора **первой строки** в DataFrame, мы можем использовать следующий код:"
      ],
      "metadata": {
        "id": "7z0jkKs-7STr"
      }
    },
    {
      "cell_type": "code",
      "source": [
        "reviews.iloc[0]"
      ],
      "metadata": {
        "id": "JCkrsWxcR8Gf"
      },
      "execution_count": null,
      "outputs": []
    },
    {
      "cell_type": "markdown",
      "source": [
        "Out:\n",
        "\n",
        "![image.png](data:image/png;base64,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)"
      ],
      "metadata": {
        "id": "3d9jeR2jSEOw"
      }
    },
    {
      "cell_type": "markdown",
      "source": [
        "В каждом их двух методов ```loc``` и ```iloc``` **строка будет певым аргументом**, а **столбец вторым**.\n",
        "\n",
        "Это означает что извлечь строки в Pandas чуть проще, чем столбцы. И наоборот, столбцы извлечь чуть сложнее.\n",
        "\n",
        "Чтобы извлечь столбец используя оператор ```iloc```, мы можем использовать следующий код:"
      ],
      "metadata": {
        "id": "jm0GkSN9SZco"
      }
    },
    {
      "cell_type": "code",
      "source": [
        "reviews.iloc[:, 0]"
      ],
      "metadata": {
        "id": "359uWDO0n7vr"
      },
      "execution_count": null,
      "outputs": []
    },
    {
      "cell_type": "markdown",
      "source": [
        "Out:\n",
        "\n",
        "![image.png](data:image/png;base64,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)"
      ],
      "metadata": {
        "id": "-3XKein6oGlM"
      }
    },
    {
      "cell_type": "markdown",
      "source": [
        "Оператор ```:``` перекочевал из Python и так же как и в Python, он обозначет *срез*. Без указания дополнительных атрибутов оператор ```:``` будет означать *все элементы*. Так же как и при *срезе*, оператор ```:``` можно использовать для выбора нескольких значений. Например для выбора столбца ```country``` из первой, второй и третьей строки, мы можем использовать следующий код:"
      ],
      "metadata": {
        "id": "fRl-4mRkoSwk"
      }
    },
    {
      "cell_type": "code",
      "source": [
        "reviews.iloc[:3, 0]"
      ],
      "metadata": {
        "id": "HLj_w5Hl3oO1"
      },
      "execution_count": null,
      "outputs": []
    },
    {
      "cell_type": "markdown",
      "source": [
        "Out:\n",
        "\n",
        "![image.png](data:image/png;base64,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)"
      ],
      "metadata": {
        "id": "SAYC2MPf3sXd"
      }
    },
    {
      "cell_type": "markdown",
      "source": [
        "Или для выбора только из второй и третьей строки, мы бы использовали:"
      ],
      "metadata": {
        "id": "9-ywAFg-39pU"
      }
    },
    {
      "cell_type": "code",
      "source": [
        "reviews.iloc[1:3, 0]"
      ],
      "metadata": {
        "colab": {
          "base_uri": "https://localhost:8080/"
        },
        "id": "Ro_M0Ox64VKM",
        "outputId": "09e44eb2-6af1-4030-ba93-01477f4d88bb"
      },
      "execution_count": 10,
      "outputs": [
        {
          "output_type": "execute_result",
          "data": {
            "text/plain": [
              "1    Portugal\n",
              "2          US\n",
              "Name: country, dtype: object"
            ]
          },
          "metadata": {},
          "execution_count": 10
        }
      ]
    },
    {
      "cell_type": "markdown",
      "source": [
        "Out:\n",
        "\n",
        "![image.png](data:image/png;base64,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)"
      ],
      "metadata": {
        "id": "7mVSzBYw4XvE"
      }
    },
    {
      "cell_type": "markdown",
      "source": [
        "Так же как и в *срезах* при использовании двух параметров в операторе ```:```, будут выбраны все эллементы **до правого параметра, но не включая его**"
      ],
      "metadata": {
        "id": "xDB7nBPg9DpS"
      }
    },
    {
      "cell_type": "markdown",
      "source": [
        "Также можно импользовать список для вызова отельных эллементов:"
      ],
      "metadata": {
        "id": "SjvufvIa4lBV"
      }
    },
    {
      "cell_type": "code",
      "source": [
        "reviews.iloc[[0, 1, 2], 0]"
      ],
      "metadata": {
        "id": "X69IugBK52jk"
      },
      "execution_count": null,
      "outputs": []
    },
    {
      "cell_type": "markdown",
      "source": [
        "Out:\n",
        "\n",
        "![image.png](data:image/png;base64,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)"
      ],
      "metadata": {
        "id": "3aPjHw0n54UL"
      }
    },
    {
      "cell_type": "markdown",
      "source": [
        "И наконец, важно знать, что отрицательные числа тоже могут быть использованы при ```iloc```. При их использовании отсчет будет осуществляться с конца таблицы данных. Для примера вот как выбрать пять последних строк из набора данных:"
      ],
      "metadata": {
        "id": "GiajRE5f6Coc"
      }
    },
    {
      "cell_type": "code",
      "source": [
        "reviews.iloc[-5:]"
      ],
      "metadata": {
        "id": "aenaoW6W64yl"
      },
      "execution_count": null,
      "outputs": []
    },
    {
      "cell_type": "markdown",
      "source": [
        "Out:\n",
        "\n",
        "|        | country   | description                                                                                                                                                                                                                               | designation                            |   points |   price | province   | region_1   | region_2     | taster_name        | taster_twitter_handle   | title                                                                                                 | variety        | winery                                   |\n",
        "|-------:|:----------|:------------------------------------------------------------------------------------------------------------------------------------------------------------------------------------------------------------------------------------------|:---------------------------------------|---------:|--------:|:-----------|:-----------|:-------------|:-------------------|:------------------------|:------------------------------------------------------------------------------------------------------|:---------------|:-----------------------------------------|\n",
        "| 129966 | Germany   | Notes of honeysuckle and cantaloupe sweeten this deliciously feather-light spätlese. It's intensely juicy, quenching the palate with streams of tart tangerine and grapefruit acidity, yet wraps up with a kiss of honey and peach.       | Brauneberger Juffer-Sonnenuhr Spätlese |       90 |      28 | Mosel      | nan        | nan          | Anna Lee C. Iijima | nan                     | Dr. H. Thanisch (Erben Müller-Burggraef) 2013 Brauneberger Juffer-Sonnenuhr Spätlese Riesling (Mosel) | Riesling       | Dr. H. Thanisch (Erben Müller-Burggraef) |\n",
        "| 129967 | US        | Citation is given as much as a decade of bottle age prior to release, which means it is pre-cellared and drinking at its peak. Baked cherry, cocoa and coconut flavors combine gracefully, with soft, secondary fruit compote highlights. | nan                                    |       90 |      75 | Oregon     | Oregon     | Oregon Other | Paul Gregutt       | @paulgwine              | Citation 2004 Pinot Noir (Oregon)                                                                     | Pinot Noir     | Citation                                 |\n",
        "| 129968 | France    | Well-drained gravel soil gives this wine its crisp and dry character. It is ripe and fruity, although the spice is subdued in favor of a more serious structure. This is a wine to age for a couple of years, so drink from 2017.         | Kritt                                  |       90 |      30 | Alsace     | Alsace     | nan          | Roger Voss         | @vossroger              | Domaine Gresser 2013 Kritt Gewurztraminer (Alsace)                                                    | Gewürztraminer | Domaine Gresser                          |\n",
        "| 129969 | France    | A dry style of Pinot Gris, this is crisp with some acidity. It also has weight and a solid, powerful core of spice and baked apple flavors. With its structure still developing, the wine needs to age. Drink from 2015.                  | nan                                    |       90 |      32 | Alsace     | Alsace     | nan          | Roger Voss         | @vossroger              | Domaine Marcel Deiss 2012 Pinot Gris (Alsace)                                                         | Pinot Gris     | Domaine Marcel Deiss                     |\n",
        "| 129970 | France    | Big, rich and off-dry, this is powered by intense spiciness and rounded texture. Lychees dominate the fruit profile, giving an opulent feel to the aftertaste. Drink now.                                                                 | Lieu-dit Harth Cuvée Caroline          |       90 |      21 | Alsace     | Alsace     | nan          | Roger Voss         | @vossroger              | Domaine Schoffit 2012 Lieu-dit Harth Cuvée Caroline Gewurztraminer (Alsace)                           | Gewürztraminer | Domaine Schoffit                         |"
      ],
      "metadata": {
        "id": "sZyXGQxv7Bj6"
      }
    },
    {
      "cell_type": "markdown",
      "source": [
        "### **Выбор на основе значения индекса**"
      ],
      "metadata": {
        "id": "_S_ljail7acC"
      }
    },
    {
      "cell_type": "markdown",
      "source": [
        "Второй парадигмой "
      ],
      "metadata": {
        "id": "1mvojCIQ8Aui"
      }
    }
  ]
}