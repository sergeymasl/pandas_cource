{
  "nbformat": 4,
  "nbformat_minor": 0,
  "metadata": {
    "colab": {
      "name": "Exercise: Summary Functions and Maps.ipynb",
      "provenance": [],
      "collapsed_sections": [],
      "authorship_tag": "ABX9TyOXgJ2vgAIS72Tcbce8sXuG",
      "include_colab_link": true
    },
    "kernelspec": {
      "name": "python3",
      "display_name": "Python 3"
    },
    "language_info": {
      "name": "python"
    }
  },
  "cells": [
    {
      "cell_type": "markdown",
      "metadata": {
        "id": "view-in-github",
        "colab_type": "text"
      },
      "source": [
        "<a href=\"https://colab.research.google.com/github/sergeymasl/pandas_cource/blob/main/Exercise_Summary_Functions_and_Maps.ipynb\" target=\"_parent\"><img src=\"https://colab.research.google.com/assets/colab-badge.svg\" alt=\"Open In Colab\"/></a>"
      ]
    },
    {
      "cell_type": "markdown",
      "source": [
        "## **Exercise: Summary Functions and Maps**"
      ],
      "metadata": {
        "id": "Lnhy2UyK9BHJ"
      }
    },
    {
      "cell_type": "markdown",
      "source": [
        "## **Вступление**\n",
        "\n",
        "Запустите код ниже для импрорта библиотек которые понадобяться вам при работе на этом практическом занятии (включая модули для проверки ваших ответов)"
      ],
      "metadata": {
        "id": "AUbQ1Ko89V3E"
      }
    },
    {
      "cell_type": "code",
      "execution_count": 1,
      "metadata": {
        "colab": {
          "base_uri": "https://localhost:8080/"
        },
        "id": "9rs_gN5s87Ie",
        "outputId": "5be09dd9-e92b-4630-ed91-44d136a9652c"
      },
      "outputs": [
        {
          "output_type": "stream",
          "name": "stdout",
          "text": [
            "Setup complete.\n"
          ]
        }
      ],
      "source": [
        "# загружаем файл для импорта инструментов для проверки ответов\n",
        "#url = f\"https://raw.githubusercontent.com/sergeymasl/pandas_cource/main/learntools/core.py\"\n",
        "#!wget --no-cache --backups=1 {url}\n",
        "#url = f\"https://raw.githubusercontent.com/sergeymasl/pandas_cource/main/learntools/indexing_selecting_and_assigning.py\"\n",
        "#!wget --no-cache --backups=1 {url}\n",
        "# импорт инструментов для проверки\n",
        "#from indexing_selecting_and_assigning import *\n",
        "\n",
        "# импорты библиотек для работы\n",
        "import pandas as pd\n",
        "\n",
        "# чтение .csv файла из Google Colab\n",
        "reviews = pd.read_csv('https://drive.google.com/uc?export=download&id=1z-1idT4mGbOvHgmEPzneqV54EJ1-w7tk', index_col = 0)\n",
        "# настройка отображения\n",
        "pd.set_option(\"display.max_rows\", 5)\n",
        "\n",
        "print(\"Setup complete.\")"
      ]
    },
    {
      "cell_type": "markdown",
      "source": [
        "Взглянем как выглядят наши данные, использую следующий код:"
      ],
      "metadata": {
        "id": "ta9ZCpxE9k_-"
      }
    },
    {
      "cell_type": "code",
      "source": [
        "reviews.head()"
      ],
      "metadata": {
        "id": "lLtpvDYX9meC"
      },
      "execution_count": null,
      "outputs": []
    },
    {
      "cell_type": "markdown",
      "source": [
        "# **Упражнения**"
      ],
      "metadata": {
        "id": "sR6QkH-79oxO"
      }
    },
    {
      "cell_type": "markdown",
      "source": [
        "**1.** Расчитайте медиану столбца ```point``` из DataFrame ```reviews```:\n",
        "\n",
        "Подсказка: ищите метод в [документации](https://pandas.pydata.org/docs/reference/series.html#:~:text=Series%20or%20DataFrames.-,Computations%20/%20descriptive%20stats,-%C2%B6)"
      ],
      "metadata": {
        "id": "MS8QbYSL9qJ3"
      }
    },
    {
      "cell_type": "code",
      "source": [
        "median_points = ____\n",
        "\n",
        "# Проверьте свой ответ\n",
        "q1.check(median_points)"
      ],
      "metadata": {
        "id": "Rdo16kU09_al"
      },
      "execution_count": null,
      "outputs": []
    },
    {
      "cell_type": "markdown",
      "source": [
        "**2.** Какие страны представлены в DataFrame? Напишите код который вернет список уникальных значений (в ответе не должно быть дубликатов)"
      ],
      "metadata": {
        "id": "F9Az-uV7_HZ6"
      }
    },
    {
      "cell_type": "code",
      "source": [
        "countries = ____\n",
        "\n",
        "# Проверьте свой ответ\n",
        "q2.check(countries)"
      ],
      "metadata": {
        "id": "HCwpPCGWBB6U"
      },
      "execution_count": null,
      "outputs": []
    },
    {
      "cell_type": "markdown",
      "source": [
        "**3.** Как часто каждая страна появляется в этом датасете?\n",
        "Создайте Series ```reviews_per_country``` с количеством упоминаний каждой уникальной страны.\n",
        "\n",
        "Подсказка: подобная функция рассматривалась в теоретической части."
      ],
      "metadata": {
        "id": "coub9k0wBH8c"
      }
    },
    {
      "cell_type": "code",
      "source": [
        "reviews_per_country = ____\n",
        "\n",
        "# Проверьте свой ответ\n",
        "q3.check(reviews_per_country)"
      ],
      "metadata": {
        "id": "87-ZkBL7B7I6"
      },
      "execution_count": null,
      "outputs": []
    },
    {
      "cell_type": "markdown",
      "source": [
        "**4.** Создайте переменную ```centered_price``` со столбцом ```price``` в котором из каждой строки вычли [среднюю арифметичскую](https://pandas.pydata.org/docs/reference/api/pandas.Series.mean.html) цену:"
      ],
      "metadata": {
        "id": "sopLWwNHCR-C"
      }
    },
    {
      "cell_type": "code",
      "source": [
        "\n",
        "\n",
        "centered_price = ____\n",
        "\n",
        "# Проверьте свой ответ\n",
        "q4.check()"
      ],
      "metadata": {
        "id": "C-T4uLRBDPiM"
      },
      "execution_count": null,
      "outputs": []
    },
    {
      "cell_type": "markdown",
      "source": [
        "**5.** "
      ],
      "metadata": {
        "id": "QZ_wlAzpEPGp"
      }
    }
  ]
}