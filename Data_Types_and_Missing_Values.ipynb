{
  "nbformat": 4,
  "nbformat_minor": 0,
  "metadata": {
    "colab": {
      "name": "Data Types and Missing Values.ipynb",
      "provenance": [],
      "collapsed_sections": [],
      "authorship_tag": "ABX9TyNHVFZEjz+wrwui+/REWk9V",
      "include_colab_link": true
    },
    "kernelspec": {
      "name": "python3",
      "display_name": "Python 3"
    },
    "language_info": {
      "name": "python"
    }
  },
  "cells": [
    {
      "cell_type": "markdown",
      "metadata": {
        "id": "view-in-github",
        "colab_type": "text"
      },
      "source": [
        "<a href=\"https://colab.research.google.com/github/sergeymasl/pandas_cource/blob/main/Data_Types_and_Missing_Values.ipynb\" target=\"_parent\"><img src=\"https://colab.research.google.com/assets/colab-badge.svg\" alt=\"Open In Colab\"/></a>"
      ]
    },
    {
      "cell_type": "markdown",
      "source": [
        "# **Data Types and Missing Values**"
      ],
      "metadata": {
        "id": "6KBcPefa1ge6"
      }
    },
    {
      "cell_type": "markdown",
      "source": [
        "## **Введение**\n",
        "\n",
        "В этом уроке вы изучете какие типы данных есть в DataFrame и Series.\n",
        "Также вы узнаете как заменять данные в DataFrame и Series."
      ],
      "metadata": {
        "id": "JWN0SLAX1kLr"
      }
    },
    {
      "cell_type": "markdown",
      "source": [
        "Для демонстрации мы будем использовать датасет с данными о винах."
      ],
      "metadata": {
        "id": "jiLoiQd75ig6"
      }
    },
    {
      "cell_type": "code",
      "source": [
        "# импорт библиотеки\n",
        "import pandas as pd\n",
        "# загрузка датасета для дальнейшей работы\n",
        "reviews = pd.read_csv(\"https://drive.google.com/uc?export=download&id=1z-1idT4mGbOvHgmEPzneqV54EJ1-w7tk\", index_col=0)\n"
      ],
      "metadata": {
        "id": "p_LB32iP5jRy"
      },
      "execution_count": 1,
      "outputs": []
    },
    {
      "cell_type": "markdown",
      "source": [
        "## **Типы данных**"
      ],
      "metadata": {
        "id": "vqTLg68s41HT"
      }
    },
    {
      "cell_type": "markdown",
      "source": [
        ">**Типы данных** -  это очень важная вещь, на которую **стоит потратить время** в самом начале вашей работы, то есть при загрузки данных.\n",
        "\n",
        ">В противном случае, вы можете столкнуться с неправильными результатами или ошибками слишком поздно и на исправление этих ошибок уйдет много-много больше времени и нервов, чем вы бы потратили на работу с типами данных при загрузке."
      ],
      "metadata": {
        "id": "mfgxlzERDZig"
      }
    },
    {
      "cell_type": "markdown",
      "source": [
        "Есть некоторая разница между типами данных в Pandas, NumPy и Python. Вот сравнительная табличка:"
      ],
      "metadata": {
        "id": "Vjuj9VrcIIcm"
      }
    },
    {
      "cell_type": "markdown",
      "source": [
        "|Pandas        | Python        | NumPy                                                         | Описание                                         |\n",
        "|---           |---            |---                                                            |---                                                    |\n",
        "|object        |str или смесь  |string_, unicode_, смешанные типы                              | Текстовые или смешанные числовые и нечисловые значения|\n",
        "|int64         |int            |int_, int8, int16, int32, int64, uint8, uint16, uint32, uint64 | Целые числа                                           |\n",
        "|float64       |float          |float_, float16, float32, float64                              | Числа с плавающей точкой                              |\n",
        "|bool          |bool           |bool_                                                          | Значения True/False                                   |\n",
        "|datetime64    |datetime             |datetime64[ns]                                                 | Значения даты и времени                               |\n",
        "|timedelta[ns] |NA             |NA                                                             | Разность между двумя datetimes                        |\n",
        "|category      |NA             |NA                                                             | Ограниченный список текстовых значений                |"
      ],
      "metadata": {
        "id": "CzN6Msk5CFiB"
      }
    },
    {
      "cell_type": "markdown",
      "source": [
        "Рассмотрим на примере что может быть не так с данными, возьмем пример с \"грязными\" данными о вине:"
      ],
      "metadata": {
        "id": "qpeldZfGBWxU"
      }
    },
    {
      "cell_type": "code",
      "source": [
        "dirty_data = pd.read_csv(\"https://drive.google.com/uc?export=download&id=11xDK6SRQcClzHHXeLC6rUlc2fmNyFt9i\", index_col=0)\n",
        "dirty_data"
      ],
      "metadata": {
        "colab": {
          "base_uri": "https://localhost:8080/",
          "height": 206
        },
        "id": "nnW2RaMJBj7R",
        "outputId": "0db36ad1-de9a-4257-b445-d59b878cf37f"
      },
      "execution_count": 11,
      "outputs": [
        {
          "output_type": "execute_result",
          "data": {
            "text/plain": [
              "   points   price                                              title  \\\n",
              "0    87.0  $24.00                  Nicosia 2013 Vulkà Bianco  (Etna)   \n",
              "1    87.0  $15.00      Quinta dos Avidagos 2011 Avidagos Red (Douro)   \n",
              "2    87.0  $14.00      Rainstorm 2013 Pinot Gris (Willamette Valley)   \n",
              "3    87.0  $13.00  St. Julian 2013 Reserve Late Harvest Riesling ...   \n",
              "4    87.0  $65.00  Sweet Cheeks 2012 Vintner's Reserve Wild Child...   \n",
              "\n",
              "  was_tested sizes_of_bottles  month  day  year  \n",
              "0         No        not known      1   10  2021  \n",
              "1        Yes              187      6   15  2021  \n",
              "2        Yes              187      3   29  2021  \n",
              "3        Yes              375     10   27  2021  \n",
              "4        Yes              750      2    2  2021  "
            ],
            "text/html": [
              "\n",
              "  <div id=\"df-414f6fbd-c672-4cff-a96a-7f62c761e5d0\">\n",
              "    <div class=\"colab-df-container\">\n",
              "      <div>\n",
              "<style scoped>\n",
              "    .dataframe tbody tr th:only-of-type {\n",
              "        vertical-align: middle;\n",
              "    }\n",
              "\n",
              "    .dataframe tbody tr th {\n",
              "        vertical-align: top;\n",
              "    }\n",
              "\n",
              "    .dataframe thead th {\n",
              "        text-align: right;\n",
              "    }\n",
              "</style>\n",
              "<table border=\"1\" class=\"dataframe\">\n",
              "  <thead>\n",
              "    <tr style=\"text-align: right;\">\n",
              "      <th></th>\n",
              "      <th>points</th>\n",
              "      <th>price</th>\n",
              "      <th>title</th>\n",
              "      <th>was_tested</th>\n",
              "      <th>sizes_of_bottles</th>\n",
              "      <th>month</th>\n",
              "      <th>day</th>\n",
              "      <th>year</th>\n",
              "    </tr>\n",
              "  </thead>\n",
              "  <tbody>\n",
              "    <tr>\n",
              "      <th>0</th>\n",
              "      <td>87.0</td>\n",
              "      <td>$24.00</td>\n",
              "      <td>Nicosia 2013 Vulkà Bianco  (Etna)</td>\n",
              "      <td>No</td>\n",
              "      <td>not known</td>\n",
              "      <td>1</td>\n",
              "      <td>10</td>\n",
              "      <td>2021</td>\n",
              "    </tr>\n",
              "    <tr>\n",
              "      <th>1</th>\n",
              "      <td>87.0</td>\n",
              "      <td>$15.00</td>\n",
              "      <td>Quinta dos Avidagos 2011 Avidagos Red (Douro)</td>\n",
              "      <td>Yes</td>\n",
              "      <td>187</td>\n",
              "      <td>6</td>\n",
              "      <td>15</td>\n",
              "      <td>2021</td>\n",
              "    </tr>\n",
              "    <tr>\n",
              "      <th>2</th>\n",
              "      <td>87.0</td>\n",
              "      <td>$14.00</td>\n",
              "      <td>Rainstorm 2013 Pinot Gris (Willamette Valley)</td>\n",
              "      <td>Yes</td>\n",
              "      <td>187</td>\n",
              "      <td>3</td>\n",
              "      <td>29</td>\n",
              "      <td>2021</td>\n",
              "    </tr>\n",
              "    <tr>\n",
              "      <th>3</th>\n",
              "      <td>87.0</td>\n",
              "      <td>$13.00</td>\n",
              "      <td>St. Julian 2013 Reserve Late Harvest Riesling ...</td>\n",
              "      <td>Yes</td>\n",
              "      <td>375</td>\n",
              "      <td>10</td>\n",
              "      <td>27</td>\n",
              "      <td>2021</td>\n",
              "    </tr>\n",
              "    <tr>\n",
              "      <th>4</th>\n",
              "      <td>87.0</td>\n",
              "      <td>$65.00</td>\n",
              "      <td>Sweet Cheeks 2012 Vintner's Reserve Wild Child...</td>\n",
              "      <td>Yes</td>\n",
              "      <td>750</td>\n",
              "      <td>2</td>\n",
              "      <td>2</td>\n",
              "      <td>2021</td>\n",
              "    </tr>\n",
              "  </tbody>\n",
              "</table>\n",
              "</div>\n",
              "      <button class=\"colab-df-convert\" onclick=\"convertToInteractive('df-414f6fbd-c672-4cff-a96a-7f62c761e5d0')\"\n",
              "              title=\"Convert this dataframe to an interactive table.\"\n",
              "              style=\"display:none;\">\n",
              "        \n",
              "  <svg xmlns=\"http://www.w3.org/2000/svg\" height=\"24px\"viewBox=\"0 0 24 24\"\n",
              "       width=\"24px\">\n",
              "    <path d=\"M0 0h24v24H0V0z\" fill=\"none\"/>\n",
              "    <path d=\"M18.56 5.44l.94 2.06.94-2.06 2.06-.94-2.06-.94-.94-2.06-.94 2.06-2.06.94zm-11 1L8.5 8.5l.94-2.06 2.06-.94-2.06-.94L8.5 2.5l-.94 2.06-2.06.94zm10 10l.94 2.06.94-2.06 2.06-.94-2.06-.94-.94-2.06-.94 2.06-2.06.94z\"/><path d=\"M17.41 7.96l-1.37-1.37c-.4-.4-.92-.59-1.43-.59-.52 0-1.04.2-1.43.59L10.3 9.45l-7.72 7.72c-.78.78-.78 2.05 0 2.83L4 21.41c.39.39.9.59 1.41.59.51 0 1.02-.2 1.41-.59l7.78-7.78 2.81-2.81c.8-.78.8-2.07 0-2.86zM5.41 20L4 18.59l7.72-7.72 1.47 1.35L5.41 20z\"/>\n",
              "  </svg>\n",
              "      </button>\n",
              "      \n",
              "  <style>\n",
              "    .colab-df-container {\n",
              "      display:flex;\n",
              "      flex-wrap:wrap;\n",
              "      gap: 12px;\n",
              "    }\n",
              "\n",
              "    .colab-df-convert {\n",
              "      background-color: #E8F0FE;\n",
              "      border: none;\n",
              "      border-radius: 50%;\n",
              "      cursor: pointer;\n",
              "      display: none;\n",
              "      fill: #1967D2;\n",
              "      height: 32px;\n",
              "      padding: 0 0 0 0;\n",
              "      width: 32px;\n",
              "    }\n",
              "\n",
              "    .colab-df-convert:hover {\n",
              "      background-color: #E2EBFA;\n",
              "      box-shadow: 0px 1px 2px rgba(60, 64, 67, 0.3), 0px 1px 3px 1px rgba(60, 64, 67, 0.15);\n",
              "      fill: #174EA6;\n",
              "    }\n",
              "\n",
              "    [theme=dark] .colab-df-convert {\n",
              "      background-color: #3B4455;\n",
              "      fill: #D2E3FC;\n",
              "    }\n",
              "\n",
              "    [theme=dark] .colab-df-convert:hover {\n",
              "      background-color: #434B5C;\n",
              "      box-shadow: 0px 1px 3px 1px rgba(0, 0, 0, 0.15);\n",
              "      filter: drop-shadow(0px 1px 2px rgba(0, 0, 0, 0.3));\n",
              "      fill: #FFFFFF;\n",
              "    }\n",
              "  </style>\n",
              "\n",
              "      <script>\n",
              "        const buttonEl =\n",
              "          document.querySelector('#df-414f6fbd-c672-4cff-a96a-7f62c761e5d0 button.colab-df-convert');\n",
              "        buttonEl.style.display =\n",
              "          google.colab.kernel.accessAllowed ? 'block' : 'none';\n",
              "\n",
              "        async function convertToInteractive(key) {\n",
              "          const element = document.querySelector('#df-414f6fbd-c672-4cff-a96a-7f62c761e5d0');\n",
              "          const dataTable =\n",
              "            await google.colab.kernel.invokeFunction('convertToInteractive',\n",
              "                                                     [key], {});\n",
              "          if (!dataTable) return;\n",
              "\n",
              "          const docLinkHtml = 'Like what you see? Visit the ' +\n",
              "            '<a target=\"_blank\" href=https://colab.research.google.com/notebooks/data_table.ipynb>data table notebook</a>'\n",
              "            + ' to learn more about interactive tables.';\n",
              "          element.innerHTML = '';\n",
              "          dataTable['output_type'] = 'display_data';\n",
              "          await google.colab.output.renderOutput(dataTable, element);\n",
              "          const docLink = document.createElement('div');\n",
              "          docLink.innerHTML = docLinkHtml;\n",
              "          element.appendChild(docLink);\n",
              "        }\n",
              "      </script>\n",
              "    </div>\n",
              "  </div>\n",
              "  "
            ]
          },
          "metadata": {},
          "execution_count": 11
        }
      ]
    },
    {
      "cell_type": "markdown",
      "source": [
        "Данные не выглядят \"грязно\" в прямом смыле это слова, но для корректной работы с ними, необходимо провести некоторые манипуляции.\n",
        "\n",
        "Попробуем найти сумму всех цен:"
      ],
      "metadata": {
        "id": "wBdTV3t4Cu7v"
      }
    },
    {
      "cell_type": "code",
      "source": [
        "dirty_data['price'].sum()"
      ],
      "metadata": {
        "colab": {
          "base_uri": "https://localhost:8080/",
          "height": 36
        },
        "id": "mBMSNj3dC8Fo",
        "outputId": "254f63e7-c204-4c2f-a2a9-882f8fdb8d48"
      },
      "execution_count": 12,
      "outputs": [
        {
          "output_type": "execute_result",
          "data": {
            "text/plain": [
              "'$24.00$15.00$14.00$13.00$65.00'"
            ],
            "application/vnd.google.colaboratory.intrinsic+json": {
              "type": "string"
            }
          },
          "metadata": {},
          "execution_count": 12
        }
      ]
    },
    {
      "cell_type": "markdown",
      "source": [
        "В итоге мы получили не арифметическое сложение, а строковую конкатенацию, т.к. столбец ```price``` был загружен в строковом формате из-за символа ```$```.\n",
        "\n",
        "Проверить какие форматы у столбцов можно с помощью метода ```dtypes``` для DataFrame и ```dtype``` для Series."
      ],
      "metadata": {
        "id": "hrFwlRBBC_w_"
      }
    },
    {
      "cell_type": "code",
      "source": [
        "dirty_data.dtypes"
      ],
      "metadata": {
        "colab": {
          "base_uri": "https://localhost:8080/"
        },
        "id": "dR2Ear0aEEdL",
        "outputId": "1eaecf8b-b390-413a-e58f-6013ffaefd94"
      },
      "execution_count": 13,
      "outputs": [
        {
          "output_type": "execute_result",
          "data": {
            "text/plain": [
              "points              float64\n",
              "price                object\n",
              "title                object\n",
              "was_tested           object\n",
              "sizes_of_bottles     object\n",
              "month                 int64\n",
              "day                   int64\n",
              "year                  int64\n",
              "dtype: object"
            ]
          },
          "metadata": {},
          "execution_count": 13
        }
      ]
    },
    {
      "cell_type": "markdown",
      "source": [
        "Также можно использовать метод ```info()```"
      ],
      "metadata": {
        "id": "z16rF2XlEXuZ"
      }
    },
    {
      "cell_type": "code",
      "source": [
        "dirty_data.info()"
      ],
      "metadata": {
        "colab": {
          "base_uri": "https://localhost:8080/"
        },
        "id": "EoKxzZH6EQ4A",
        "outputId": "ba6ae58e-aa2a-402a-a9a8-3267db263c2b"
      },
      "execution_count": 14,
      "outputs": [
        {
          "output_type": "stream",
          "name": "stdout",
          "text": [
            "<class 'pandas.core.frame.DataFrame'>\n",
            "Int64Index: 5 entries, 0 to 4\n",
            "Data columns (total 8 columns):\n",
            " #   Column            Non-Null Count  Dtype  \n",
            "---  ------            --------------  -----  \n",
            " 0   points            5 non-null      float64\n",
            " 1   price             5 non-null      object \n",
            " 2   title             5 non-null      object \n",
            " 3   was_tested        5 non-null      object \n",
            " 4   sizes_of_bottles  5 non-null      object \n",
            " 5   month             5 non-null      int64  \n",
            " 6   day               5 non-null      int64  \n",
            " 7   year              5 non-null      int64  \n",
            "dtypes: float64(1), int64(3), object(4)\n",
            "memory usage: 360.0+ bytes\n"
          ]
        }
      ]
    },
    {
      "cell_type": "markdown",
      "source": [
        "После проверки автоматически подгружаемых типов данных, мы можем изменить для удобства дальнейшей работы:\n",
        "\n",
        "1. `points` - `float64`, ничего страшного в числах с плаващей запятой нет, но при целочисленных значениях удобнее работать с `int64`.\n",
        "2. `price` - `object`, то есть строковый формат, а нужен числовой.\n",
        "3. `title` - все ок\n",
        "4. `was_tested` - `object`, т.к. он содержит два значения `да` и `нет`, то удобнее было бы работать с типом данных `bool` (`True`,`False`)\n",
        "5. `sizes_of_bottles` - `object` (то есть строковый), этот столбец отвечает за размер бутылки, логично, что он долже быть числовым.\n",
        "6. Также у нас есть столбцы `Month`, `Day` и `Year`, с которыми удобнее будет работать в `datetime64`.\n",
        "\n",
        "Для дальнейшей работы, необходимо изменить типы данных:\n",
        ">`points`: `float64` → `int64`\n",
        "\n",
        ">`price`: `object` → `float64`\n",
        "\n",
        ">`was_tested`: `object` → `bool`\n",
        "\n",
        ">`sizes_of_bottles`: `object` → `int64`\n",
        "\n",
        ">`Month`, `Day`, `Year`  → `datetime64`"
      ],
      "metadata": {
        "id": "ntbOTLP7EbKU"
      }
    },
    {
      "cell_type": "markdown",
      "source": [
        "Есть несколько способов преобразования данных в DataFrame:\n",
        ">Использование метода `astype()`\n",
        "\n",
        ">Написание собственной функции для сложных изменений\n",
        "\n",
        ">Использование функций `pd.to_numeric()` и `pd.to_datetime()`"
      ],
      "metadata": {
        "id": "oTKw-DjCDwT5"
      }
    },
    {
      "cell_type": "markdown",
      "source": [
        "## Использование `astype()`"
      ],
      "metadata": {
        "id": "w1kTw4HJFErn"
      }
    },
    {
      "cell_type": "markdown",
      "source": [
        "Первый метод который мы рассмотрим это метод `astype()`\n",
        "Этот метод подходит при изменении *заменимых* типов данных, то есть для такой замены при которой не потеряется и не исказиться первоначальный смысл данных.\n",
        "\n",
        "То есть, его можно использовать при изменении целочисленное значение в число с плавающей запятой.\n",
        "Можно изменять любой тип данных в строковый.\n",
        "\n",
        "Можно использовать для замены числа с плавающей запятой в целочисленное значение, **НО**, только если вы уверены в том, что вы не потеряете дробные части.\n",
        "\n",
        "В нашем случае столбец `points` не имеет дробной части, поэтому изменим тип данных на `int64`:"
      ],
      "metadata": {
        "id": "rgjECUJbGFHP"
      }
    },
    {
      "cell_type": "code",
      "source": [
        "dirty_data['points'] = dirty_data['points'].astype('int')\n",
        "dirty_data"
      ],
      "metadata": {
        "colab": {
          "base_uri": "https://localhost:8080/",
          "height": 206
        },
        "id": "-gsVdThxN0-w",
        "outputId": "daa879f6-3341-4cb2-8f22-3f06d98532d7"
      },
      "execution_count": 25,
      "outputs": [
        {
          "output_type": "execute_result",
          "data": {
            "text/plain": [
              "   points   price                                              title  \\\n",
              "0      87  $24.00                  Nicosia 2013 Vulkà Bianco  (Etna)   \n",
              "1      87  $15.00      Quinta dos Avidagos 2011 Avidagos Red (Douro)   \n",
              "2      87  $14.00      Rainstorm 2013 Pinot Gris (Willamette Valley)   \n",
              "3      87  $13.00  St. Julian 2013 Reserve Late Harvest Riesling ...   \n",
              "4      87  $65.00  Sweet Cheeks 2012 Vintner's Reserve Wild Child...   \n",
              "\n",
              "  was_tested sizes_of_bottles  month  day  year  \n",
              "0         No        not known      1   10  2021  \n",
              "1        Yes              187      6   15  2021  \n",
              "2        Yes              187      3   29  2021  \n",
              "3        Yes              375     10   27  2021  \n",
              "4        Yes              750      2    2  2021  "
            ],
            "text/html": [
              "\n",
              "  <div id=\"df-ec4730d4-6cad-4dec-a88a-ccf216d2527a\">\n",
              "    <div class=\"colab-df-container\">\n",
              "      <div>\n",
              "<style scoped>\n",
              "    .dataframe tbody tr th:only-of-type {\n",
              "        vertical-align: middle;\n",
              "    }\n",
              "\n",
              "    .dataframe tbody tr th {\n",
              "        vertical-align: top;\n",
              "    }\n",
              "\n",
              "    .dataframe thead th {\n",
              "        text-align: right;\n",
              "    }\n",
              "</style>\n",
              "<table border=\"1\" class=\"dataframe\">\n",
              "  <thead>\n",
              "    <tr style=\"text-align: right;\">\n",
              "      <th></th>\n",
              "      <th>points</th>\n",
              "      <th>price</th>\n",
              "      <th>title</th>\n",
              "      <th>was_tested</th>\n",
              "      <th>sizes_of_bottles</th>\n",
              "      <th>month</th>\n",
              "      <th>day</th>\n",
              "      <th>year</th>\n",
              "    </tr>\n",
              "  </thead>\n",
              "  <tbody>\n",
              "    <tr>\n",
              "      <th>0</th>\n",
              "      <td>87</td>\n",
              "      <td>$24.00</td>\n",
              "      <td>Nicosia 2013 Vulkà Bianco  (Etna)</td>\n",
              "      <td>No</td>\n",
              "      <td>not known</td>\n",
              "      <td>1</td>\n",
              "      <td>10</td>\n",
              "      <td>2021</td>\n",
              "    </tr>\n",
              "    <tr>\n",
              "      <th>1</th>\n",
              "      <td>87</td>\n",
              "      <td>$15.00</td>\n",
              "      <td>Quinta dos Avidagos 2011 Avidagos Red (Douro)</td>\n",
              "      <td>Yes</td>\n",
              "      <td>187</td>\n",
              "      <td>6</td>\n",
              "      <td>15</td>\n",
              "      <td>2021</td>\n",
              "    </tr>\n",
              "    <tr>\n",
              "      <th>2</th>\n",
              "      <td>87</td>\n",
              "      <td>$14.00</td>\n",
              "      <td>Rainstorm 2013 Pinot Gris (Willamette Valley)</td>\n",
              "      <td>Yes</td>\n",
              "      <td>187</td>\n",
              "      <td>3</td>\n",
              "      <td>29</td>\n",
              "      <td>2021</td>\n",
              "    </tr>\n",
              "    <tr>\n",
              "      <th>3</th>\n",
              "      <td>87</td>\n",
              "      <td>$13.00</td>\n",
              "      <td>St. Julian 2013 Reserve Late Harvest Riesling ...</td>\n",
              "      <td>Yes</td>\n",
              "      <td>375</td>\n",
              "      <td>10</td>\n",
              "      <td>27</td>\n",
              "      <td>2021</td>\n",
              "    </tr>\n",
              "    <tr>\n",
              "      <th>4</th>\n",
              "      <td>87</td>\n",
              "      <td>$65.00</td>\n",
              "      <td>Sweet Cheeks 2012 Vintner's Reserve Wild Child...</td>\n",
              "      <td>Yes</td>\n",
              "      <td>750</td>\n",
              "      <td>2</td>\n",
              "      <td>2</td>\n",
              "      <td>2021</td>\n",
              "    </tr>\n",
              "  </tbody>\n",
              "</table>\n",
              "</div>\n",
              "      <button class=\"colab-df-convert\" onclick=\"convertToInteractive('df-ec4730d4-6cad-4dec-a88a-ccf216d2527a')\"\n",
              "              title=\"Convert this dataframe to an interactive table.\"\n",
              "              style=\"display:none;\">\n",
              "        \n",
              "  <svg xmlns=\"http://www.w3.org/2000/svg\" height=\"24px\"viewBox=\"0 0 24 24\"\n",
              "       width=\"24px\">\n",
              "    <path d=\"M0 0h24v24H0V0z\" fill=\"none\"/>\n",
              "    <path d=\"M18.56 5.44l.94 2.06.94-2.06 2.06-.94-2.06-.94-.94-2.06-.94 2.06-2.06.94zm-11 1L8.5 8.5l.94-2.06 2.06-.94-2.06-.94L8.5 2.5l-.94 2.06-2.06.94zm10 10l.94 2.06.94-2.06 2.06-.94-2.06-.94-.94-2.06-.94 2.06-2.06.94z\"/><path d=\"M17.41 7.96l-1.37-1.37c-.4-.4-.92-.59-1.43-.59-.52 0-1.04.2-1.43.59L10.3 9.45l-7.72 7.72c-.78.78-.78 2.05 0 2.83L4 21.41c.39.39.9.59 1.41.59.51 0 1.02-.2 1.41-.59l7.78-7.78 2.81-2.81c.8-.78.8-2.07 0-2.86zM5.41 20L4 18.59l7.72-7.72 1.47 1.35L5.41 20z\"/>\n",
              "  </svg>\n",
              "      </button>\n",
              "      \n",
              "  <style>\n",
              "    .colab-df-container {\n",
              "      display:flex;\n",
              "      flex-wrap:wrap;\n",
              "      gap: 12px;\n",
              "    }\n",
              "\n",
              "    .colab-df-convert {\n",
              "      background-color: #E8F0FE;\n",
              "      border: none;\n",
              "      border-radius: 50%;\n",
              "      cursor: pointer;\n",
              "      display: none;\n",
              "      fill: #1967D2;\n",
              "      height: 32px;\n",
              "      padding: 0 0 0 0;\n",
              "      width: 32px;\n",
              "    }\n",
              "\n",
              "    .colab-df-convert:hover {\n",
              "      background-color: #E2EBFA;\n",
              "      box-shadow: 0px 1px 2px rgba(60, 64, 67, 0.3), 0px 1px 3px 1px rgba(60, 64, 67, 0.15);\n",
              "      fill: #174EA6;\n",
              "    }\n",
              "\n",
              "    [theme=dark] .colab-df-convert {\n",
              "      background-color: #3B4455;\n",
              "      fill: #D2E3FC;\n",
              "    }\n",
              "\n",
              "    [theme=dark] .colab-df-convert:hover {\n",
              "      background-color: #434B5C;\n",
              "      box-shadow: 0px 1px 3px 1px rgba(0, 0, 0, 0.15);\n",
              "      filter: drop-shadow(0px 1px 2px rgba(0, 0, 0, 0.3));\n",
              "      fill: #FFFFFF;\n",
              "    }\n",
              "  </style>\n",
              "\n",
              "      <script>\n",
              "        const buttonEl =\n",
              "          document.querySelector('#df-ec4730d4-6cad-4dec-a88a-ccf216d2527a button.colab-df-convert');\n",
              "        buttonEl.style.display =\n",
              "          google.colab.kernel.accessAllowed ? 'block' : 'none';\n",
              "\n",
              "        async function convertToInteractive(key) {\n",
              "          const element = document.querySelector('#df-ec4730d4-6cad-4dec-a88a-ccf216d2527a');\n",
              "          const dataTable =\n",
              "            await google.colab.kernel.invokeFunction('convertToInteractive',\n",
              "                                                     [key], {});\n",
              "          if (!dataTable) return;\n",
              "\n",
              "          const docLinkHtml = 'Like what you see? Visit the ' +\n",
              "            '<a target=\"_blank\" href=https://colab.research.google.com/notebooks/data_table.ipynb>data table notebook</a>'\n",
              "            + ' to learn more about interactive tables.';\n",
              "          element.innerHTML = '';\n",
              "          dataTable['output_type'] = 'display_data';\n",
              "          await google.colab.output.renderOutput(dataTable, element);\n",
              "          const docLink = document.createElement('div');\n",
              "          docLink.innerHTML = docLinkHtml;\n",
              "          element.appendChild(docLink);\n",
              "        }\n",
              "      </script>\n",
              "    </div>\n",
              "  </div>\n",
              "  "
            ]
          },
          "metadata": {},
          "execution_count": 25
        }
      ]
    },
    {
      "cell_type": "markdown",
      "source": [
        "Если в строковом выражении есть символы которые нельзя интерпритировать как часть числа, то применить метод `astype` не получиться."
      ],
      "metadata": {
        "id": "rhpWHLGEOpg4"
      }
    },
    {
      "cell_type": "code",
      "source": [
        "# это приобразование вызовет исключение\n",
        "try:\n",
        "  dirty_data['price'].astype('float')\n",
        "# отработаем его и посмотрим на его суть\n",
        "except Exception as ex:\n",
        "  print(f'Тип исключения: \\033[1m{type(ex)}\\033[0m')\n",
        "  print(f'Описание исключения: \\033[1m{ex}\\033[0m')"
      ],
      "metadata": {
        "colab": {
          "base_uri": "https://localhost:8080/"
        },
        "id": "vLlAlpDdfyCw",
        "outputId": "4ff6d251-9eb9-41d6-9d4a-1234b957c076"
      },
      "execution_count": 36,
      "outputs": [
        {
          "output_type": "stream",
          "name": "stdout",
          "text": [
            "Тип исключения: \u001b[1m<class 'ValueError'>\u001b[0m\n",
            "Описание исключения: \u001b[1mcould not convert string to float: '$24.00'\u001b[0m\n"
          ]
        }
      ]
    },
    {
      "cell_type": "code",
      "source": [
        "# попробуем со столбцом sizes_of_bottles\n",
        "try:\n",
        "  dirty_data['sizes_of_bottles'].astype('int')\n",
        "# отработаем исключение его и посмотрим на его суть\n",
        "except Exception as ex:\n",
        "  print(f'Тип исключения: \\033[1m{type(ex)}\\033[0m')\n",
        "  print(f'Описание исключения: \\033[1m{ex}\\033[0m')"
      ],
      "metadata": {
        "colab": {
          "base_uri": "https://localhost:8080/"
        },
        "id": "FD7llQnaidH_",
        "outputId": "145c7788-5fee-4223-f06e-deb497ec65a1"
      },
      "execution_count": 37,
      "outputs": [
        {
          "output_type": "stream",
          "name": "stdout",
          "text": [
            "Тип исключения: \u001b[1m<class 'ValueError'>\u001b[0m\n",
            "Описание исключения: \u001b[1minvalid literal for int() with base 10: 'not known'\u001b[0m\n"
          ]
        }
      ]
    },
    {
      "cell_type": "markdown",
      "source": [
        "Теперь попробуем применить метод `astype()` к столбцу `was_tested` для преобразования его в булевы величины, и сравним его с первоначальным:"
      ],
      "metadata": {
        "id": "jSRTLLcpjAQu"
      }
    },
    {
      "cell_type": "code",
      "source": [
        "# соединим два столбца, оригинальный и измененный\n",
        "pd.concat([dirty_data['was_tested'], dirty_data['was_tested'].astype('bool')], axis = 1)"
      ],
      "metadata": {
        "id": "1Inn-wfIjPQP"
      },
      "execution_count": null,
      "outputs": []
    }
  ]
}