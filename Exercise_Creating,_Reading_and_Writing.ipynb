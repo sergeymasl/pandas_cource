{
  "nbformat": 4,
  "nbformat_minor": 0,
  "metadata": {
    "colab": {
      "name": "Exercise: Creating, Reading and Writing.ipynb",
      "provenance": [],
      "collapsed_sections": [],
      "authorship_tag": "ABX9TyOe6Zl+QBf0oTQxcpBT86CI",
      "include_colab_link": true
    },
    "kernelspec": {
      "name": "python3",
      "display_name": "Python 3"
    },
    "language_info": {
      "name": "python"
    }
  },
  "cells": [
    {
      "cell_type": "markdown",
      "metadata": {
        "id": "view-in-github",
        "colab_type": "text"
      },
      "source": [
        "<a href=\"https://colab.research.google.com/github/sergeymasl/pandas_cource/blob/main/Exercise_Creating%2C_Reading_and_Writing.ipynb\" target=\"_parent\"><img src=\"https://colab.research.google.com/assets/colab-badge.svg\" alt=\"Open In Colab\"/></a>"
      ]
    },
    {
      "cell_type": "markdown",
      "source": [
        "# **Exercise: Creating, Reading and Writing**"
      ],
      "metadata": {
        "id": "cGla7QP42jHv"
      }
    },
    {
      "cell_type": "markdown",
      "source": [
        "Этот ноутбук представляет собой упражнения в курсе по изучению [Pandas](https://pandas.pydata.org/pandas-docs/stable/index.html). Вы всегда можете изучить теоретическую часть по [этой ссылке](https://github.com/sergeymasl/pandas_cource/blob/main/Creating%2C_Reading_and_Writing.ipynb)"
      ],
      "metadata": {
        "id": "H6BPrV9yRkY4"
      }
    },
    {
      "cell_type": "markdown",
      "source": [
        "## Вступление\n",
        "\n",
        "Первым шагом в большинстве аналитических проектов является чтение файлов с данными. В этой практике вы создадите Series и DataFrame вручную и считывая готовый файл.\n",
        "\n",
        "Запустите код ниже для импрорта библиотек которые понадобяться вам при работе на этом практическом занятии (включая модули для проверки ваших ответов)"
      ],
      "metadata": {
        "id": "j22SE6Ja0mSX"
      }
    },
    {
      "cell_type": "code",
      "source": [
        "# загружаем файл для импорта инструментов для проверки ответов\n",
        "url = f\"https://raw.githubusercontent.com/sergeymasl/pandas_cource/main/learntools/creating_reading_and_writing.py\"\n",
        "!wget --no-cache --backups=1 {url}\n",
        "# импорт инструментов для проверки\n",
        "from creating_reading_and_writing import *\n",
        "\n",
        "# импорты библиотек для работы\n",
        "import pandas as pd\n",
        "print(\"Setup complete.\")"
      ],
      "metadata": {
        "colab": {
          "base_uri": "https://localhost:8080/"
        },
        "id": "9qO-pljrvJ_w",
        "outputId": "a0975086-6ca6-44e7-fffc-4c2187b0e047"
      },
      "execution_count": null,
      "outputs": [
        {
          "output_type": "stream",
          "name": "stdout",
          "text": [
            "--2022-07-27 08:10:25--  https://raw.githubusercontent.com/sergeymasl/pandas_cource/main/learntools/creating_reading_and_writing.py\n",
            "Resolving raw.githubusercontent.com (raw.githubusercontent.com)... 185.199.108.133, 185.199.109.133, 185.199.110.133, ...\n",
            "Connecting to raw.githubusercontent.com (raw.githubusercontent.com)|185.199.108.133|:443... connected.\n",
            "HTTP request sent, awaiting response... 200 OK\n",
            "Length: 95 [text/plain]\n",
            "Saving to: ‘creating_reading_and_writing.py’\n",
            "\n",
            "\r          creating_   0%[                    ]       0  --.-KB/s               \rcreating_reading_an 100%[===================>]      95  --.-KB/s    in 0s      \n",
            "\n",
            "2022-07-27 08:10:25 (6.33 MB/s) - ‘creating_reading_and_writing.py’ saved [95/95]\n",
            "\n",
            "Setup complete.\n"
          ]
        }
      ]
    },
    {
      "cell_type": "markdown",
      "source": [
        "## Упражнения"
      ],
      "metadata": {
        "id": "Py7x3D7q2abh"
      }
    },
    {
      "cell_type": "markdown",
      "source": [
        "**1.**\n",
        "\n",
        "В ячейке ниже допишите код для создания DataFrame ```fruits``` который выглядит как этот:\n",
        "\n",
        "|    |   Apples |   Bananas |\n",
        "|---:|---------:|----------:|\n",
        "|  0 |       30 |        21 |"
      ],
      "metadata": {
        "id": "ZvJKExGV2oaI"
      }
    },
    {
      "cell_type": "code",
      "source": [
        "# Напишите свой код здесь. Создайте свой DataFrame как изображено выше и объявите его как переменную fruits\n",
        "fruits = ____\n",
        "\n",
        "# Проверьте свой ответ\n",
        "q1.check(fruits)\n",
        "fruits"
      ],
      "metadata": {
        "id": "kXI6wTPK23bx"
      },
      "execution_count": null,
      "outputs": []
    },
    {
      "cell_type": "markdown",
      "source": [
        "**2.**\n",
        "\n",
        "В ячейке ниже допишите код для создания DataFrame ```fruit_sales``` который соответсвует приведенномк ниже:\n",
        "\n",
        "|            |   Apples |   Bananas |\n",
        "|:-----------|---------:|----------:|\n",
        "| 2017 Sales |       35 |        21 |\n",
        "| 2018 Sales |       41 |        34 |"
      ],
      "metadata": {
        "id": "5JqGw2OkRSZ5"
      }
    },
    {
      "cell_type": "code",
      "source": [
        "# Напишите свой код здесь. Создайте свой DataFrame как изображено выше и объявите его как переменную fruits\n",
        "fruit_sales = ____\n",
        "\n",
        "# Проверьте свой ответ\n",
        "q2.check(fruit_sales)\n",
        "fruit_sales"
      ],
      "metadata": {
        "id": "oSKPY6VLVD9f"
      },
      "execution_count": null,
      "outputs": []
    },
    {
      "cell_type": "markdown",
      "source": [
        "**3.**\n",
        "\n",
        "Создайте переменную ```ingredients``` c Series, которая выглядит вот так:\n",
        "\n",
        "```\n",
        "Flour     4 cups\n",
        "Milk       1 cup\n",
        "Eggs     2 large\n",
        "Spam       1 can\n",
        "Name: Dinner, dtype: object\n",
        "```"
      ],
      "metadata": {
        "id": "OGDM2Lfns9ac"
      }
    },
    {
      "cell_type": "code",
      "source": [
        "ingredients = ____\n",
        "\n",
        "# Проверьте свой ответ\n",
        "q3.check(ingredients)\n",
        "ingredients"
      ],
      "metadata": {
        "id": "889HM2uvttbk"
      },
      "execution_count": null,
      "outputs": []
    },
    {
      "cell_type": "markdown",
      "source": [
        "**4.**\n",
        "\n",
        "Создайте DataFrame с отзывами о вине из csv файла  и обявите его как переменную ```reviews```:\n",
        "\n",
        "![](https://i.imgur.com/74RCZtU.png)\n",
        "\n",
        "Используйте ссылку https://drive.google.com/uc?export=download&id=1a1R6dr1Y1oq7f-1pvEI3x3jUdyL89qBO для чтения csv файла.\n",
        "\n",
        "\n",
        "Его первые строки выглядят вот так\n",
        "\n",
        "*,country,description,designation,points,price,province,region_1,region_2,variety,winery\n",
        "0,US,\"This tremendous 100% varietal wine hails from Oakville and was aged over three years in oak. Juicy red-cherry fruit and a compelling hint of caramel greet the palate, framed by elegant, fine tannins and a subtle minty tone in the background. Balanced and rewarding from start to finish, it has years ahead of it to develop further nuance. Enjoy 2022–2030.\",Martha's Vineyard,96,235.0,California,Napa Valley,Napa,Cabernet Sauvignon,Heitz*\n",
        "\n"
      ],
      "metadata": {
        "id": "n7VAnTA0uF_F"
      }
    },
    {
      "cell_type": "code",
      "source": [
        "reviews = ____\n",
        "\n",
        "# Проверьте свой ответ\n",
        "q4.check(reviews)\n",
        "reviews"
      ],
      "metadata": {
        "id": "pR9V4z1J02_X"
      },
      "execution_count": null,
      "outputs": []
    },
    {
      "cell_type": "markdown",
      "source": [
        "**5.**\n",
        "\n",
        "Запустите ячейку ниже для создания переменной ```animals``` c DataFrame и отобразить его:\n"
      ],
      "metadata": {
        "id": "I8cO5fWa1a12"
      }
    },
    {
      "cell_type": "code",
      "source": [
        "animals = pd.DataFrame({'Cows': [12, 20], 'Goats': [22, 19]}, index=['Year 1', 'Year 2'])\n",
        "animals"
      ],
      "metadata": {
        "id": "vO03ZYmg2KAt"
      },
      "execution_count": null,
      "outputs": []
    },
    {
      "cell_type": "markdown",
      "source": [
        "В ячейке ниже напишите код, который сохранит DataFrame на диск в виде csv файла с именем ```cows_and_goats.csv```"
      ],
      "metadata": {
        "id": "_aUWLZ4d2N0n"
      }
    },
    {
      "cell_type": "code",
      "source": [
        "# Напишите свой код здесь.\n",
        "\n",
        "# Проверьте свой ответ\n",
        "q5.check()"
      ],
      "metadata": {
        "id": "2NABOyRM2apd"
      },
      "execution_count": null,
      "outputs": []
    }
  ]
}