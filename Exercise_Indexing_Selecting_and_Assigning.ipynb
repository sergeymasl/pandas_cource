{
  "nbformat": 4,
  "nbformat_minor": 0,
  "metadata": {
    "colab": {
      "name": "Exercise_Indexing_Selecting_&_Assigning.ipynb",
      "provenance": [],
      "authorship_tag": "ABX9TyNha1xY1yeF4LsO3hWVizZN",
      "include_colab_link": true
    },
    "kernelspec": {
      "name": "python3",
      "display_name": "Python 3"
    },
    "language_info": {
      "name": "python"
    }
  },
  "cells": [
    {
      "cell_type": "markdown",
      "metadata": {
        "id": "view-in-github",
        "colab_type": "text"
      },
      "source": [
        "<a href=\"https://colab.research.google.com/github/sergeymasl/pandas_cource/blob/main/Exercise_Indexing_Selecting_and_Assigning.ipynb\" target=\"_parent\"><img src=\"https://colab.research.google.com/assets/colab-badge.svg\" alt=\"Open In Colab\"/></a>"
      ]
    },
    {
      "cell_type": "markdown",
      "source": [
        "# **Exercise: Indexing, Selecting & Assigning**"
      ],
      "metadata": {
        "id": "3naApNRPoOrc"
      }
    },
    {
      "cell_type": "markdown",
      "source": [
        "Этот ноутбук представляет собой упражнения в курсе по изучению [Pandas](https://pandas.pydata.org/pandas-docs/stable/index.html). Вы всегда можете изучить теоретическую часть по этой [ссылке](https://github.com/sergeymasl/pandas_cource/blob/main/Indexing_Selecting_%26_Assigning.ipynb)"
      ],
      "metadata": {
        "id": "FmM3_CHCoPkk"
      }
    },
    {
      "cell_type": "markdown",
      "source": [
        "## **Вступление**\n",
        "\n",
        "Запустите код ниже для импрорта библиотек которые понадобяться вам при работе на этом практическом занятии (включая модули для проверки ваших ответов)"
      ],
      "metadata": {
        "id": "asNRy3OEpDcM"
      }
    },
    {
      "cell_type": "code",
      "execution_count": null,
      "metadata": {
        "id": "Bj3zrrdJmtAj"
      },
      "outputs": [],
      "source": [
        "# загружаем файл для импорта инструментов для проверки ответов\n",
        "url = f\"https://raw.githubusercontent.com/sergeymasl/pandas_cource/main/learntools/core.py\"\n",
        "!wget --no-cache --backups=1 {url}\n",
        "url = f\"https://raw.githubusercontent.com/sergeymasl/pandas_cource/main/learntools/indexing_selecting_and_assigning.py\"\n",
        "!wget --no-cache --backups=1 {url}\n",
        "# импорт инструментов для проверки\n",
        "from indexing_selecting_and_assigning import *\n",
        "\n",
        "# импорты библиотек для работы\n",
        "import pandas as pd\n",
        "\n",
        "# чтение .csv файла из Google Colab\n",
        "reviews = pd.read_csv('https://drive.google.com/uc?export=download&id=1z-1idT4mGbOvHgmEPzneqV54EJ1-w7tk', index_col = 0)\n",
        "# настройка отображения\n",
        "pd.set_option(\"display.max_rows\", 5)\n",
        "\n",
        "print(\"Setup complete.\")"
      ]
    },
    {
      "cell_type": "markdown",
      "source": [
        "Взглянем как выглядят наши данные, использую следующий код:"
      ],
      "metadata": {
        "id": "gOrlgEc3rU7i"
      }
    },
    {
      "cell_type": "code",
      "source": [
        "reviews.head()"
      ],
      "metadata": {
        "colab": {
          "base_uri": "https://localhost:8080/",
          "height": 337
        },
        "id": "5VWl_eUEreZh",
        "outputId": "910d69f7-3ba7-4a7f-cbd0-d396ecafeb10"
      },
      "execution_count": null,
      "outputs": [
        {
          "output_type": "execute_result",
          "data": {
            "text/plain": [
              "    country                                        description  \\\n",
              "0     Italy  Aromas include tropical fruit, broom, brimston...   \n",
              "1  Portugal  This is ripe and fruity, a wine that is smooth...   \n",
              "2        US  Tart and snappy, the flavors of lime flesh and...   \n",
              "3        US  Pineapple rind, lemon pith and orange blossom ...   \n",
              "4        US  Much like the regular bottling from 2012, this...   \n",
              "\n",
              "                          designation  points  price           province  \\\n",
              "0                        Vulkà Bianco      87    NaN  Sicily & Sardinia   \n",
              "1                            Avidagos      87   15.0              Douro   \n",
              "2                                 NaN      87   14.0             Oregon   \n",
              "3                Reserve Late Harvest      87   13.0           Michigan   \n",
              "4  Vintner's Reserve Wild Child Block      87   65.0             Oregon   \n",
              "\n",
              "              region_1           region_2         taster_name  \\\n",
              "0                 Etna                NaN       Kerin O’Keefe   \n",
              "1                  NaN                NaN          Roger Voss   \n",
              "2    Willamette Valley  Willamette Valley        Paul Gregutt   \n",
              "3  Lake Michigan Shore                NaN  Alexander Peartree   \n",
              "4    Willamette Valley  Willamette Valley        Paul Gregutt   \n",
              "\n",
              "  taster_twitter_handle                                              title  \\\n",
              "0          @kerinokeefe                  Nicosia 2013 Vulkà Bianco  (Etna)   \n",
              "1            @vossroger      Quinta dos Avidagos 2011 Avidagos Red (Douro)   \n",
              "2           @paulgwine       Rainstorm 2013 Pinot Gris (Willamette Valley)   \n",
              "3                   NaN  St. Julian 2013 Reserve Late Harvest Riesling ...   \n",
              "4           @paulgwine   Sweet Cheeks 2012 Vintner's Reserve Wild Child...   \n",
              "\n",
              "          variety               winery  \n",
              "0     White Blend              Nicosia  \n",
              "1  Portuguese Red  Quinta dos Avidagos  \n",
              "2      Pinot Gris            Rainstorm  \n",
              "3        Riesling           St. Julian  \n",
              "4      Pinot Noir         Sweet Cheeks  "
            ],
            "text/html": [
              "\n",
              "  <div id=\"df-7e000d21-8c55-4797-b01e-7741c78acbc9\">\n",
              "    <div class=\"colab-df-container\">\n",
              "      <div>\n",
              "<style scoped>\n",
              "    .dataframe tbody tr th:only-of-type {\n",
              "        vertical-align: middle;\n",
              "    }\n",
              "\n",
              "    .dataframe tbody tr th {\n",
              "        vertical-align: top;\n",
              "    }\n",
              "\n",
              "    .dataframe thead th {\n",
              "        text-align: right;\n",
              "    }\n",
              "</style>\n",
              "<table border=\"1\" class=\"dataframe\">\n",
              "  <thead>\n",
              "    <tr style=\"text-align: right;\">\n",
              "      <th></th>\n",
              "      <th>country</th>\n",
              "      <th>description</th>\n",
              "      <th>designation</th>\n",
              "      <th>points</th>\n",
              "      <th>price</th>\n",
              "      <th>province</th>\n",
              "      <th>region_1</th>\n",
              "      <th>region_2</th>\n",
              "      <th>taster_name</th>\n",
              "      <th>taster_twitter_handle</th>\n",
              "      <th>title</th>\n",
              "      <th>variety</th>\n",
              "      <th>winery</th>\n",
              "    </tr>\n",
              "  </thead>\n",
              "  <tbody>\n",
              "    <tr>\n",
              "      <th>0</th>\n",
              "      <td>Italy</td>\n",
              "      <td>Aromas include tropical fruit, broom, brimston...</td>\n",
              "      <td>Vulkà Bianco</td>\n",
              "      <td>87</td>\n",
              "      <td>NaN</td>\n",
              "      <td>Sicily &amp; Sardinia</td>\n",
              "      <td>Etna</td>\n",
              "      <td>NaN</td>\n",
              "      <td>Kerin O’Keefe</td>\n",
              "      <td>@kerinokeefe</td>\n",
              "      <td>Nicosia 2013 Vulkà Bianco  (Etna)</td>\n",
              "      <td>White Blend</td>\n",
              "      <td>Nicosia</td>\n",
              "    </tr>\n",
              "    <tr>\n",
              "      <th>1</th>\n",
              "      <td>Portugal</td>\n",
              "      <td>This is ripe and fruity, a wine that is smooth...</td>\n",
              "      <td>Avidagos</td>\n",
              "      <td>87</td>\n",
              "      <td>15.0</td>\n",
              "      <td>Douro</td>\n",
              "      <td>NaN</td>\n",
              "      <td>NaN</td>\n",
              "      <td>Roger Voss</td>\n",
              "      <td>@vossroger</td>\n",
              "      <td>Quinta dos Avidagos 2011 Avidagos Red (Douro)</td>\n",
              "      <td>Portuguese Red</td>\n",
              "      <td>Quinta dos Avidagos</td>\n",
              "    </tr>\n",
              "    <tr>\n",
              "      <th>2</th>\n",
              "      <td>US</td>\n",
              "      <td>Tart and snappy, the flavors of lime flesh and...</td>\n",
              "      <td>NaN</td>\n",
              "      <td>87</td>\n",
              "      <td>14.0</td>\n",
              "      <td>Oregon</td>\n",
              "      <td>Willamette Valley</td>\n",
              "      <td>Willamette Valley</td>\n",
              "      <td>Paul Gregutt</td>\n",
              "      <td>@paulgwine</td>\n",
              "      <td>Rainstorm 2013 Pinot Gris (Willamette Valley)</td>\n",
              "      <td>Pinot Gris</td>\n",
              "      <td>Rainstorm</td>\n",
              "    </tr>\n",
              "    <tr>\n",
              "      <th>3</th>\n",
              "      <td>US</td>\n",
              "      <td>Pineapple rind, lemon pith and orange blossom ...</td>\n",
              "      <td>Reserve Late Harvest</td>\n",
              "      <td>87</td>\n",
              "      <td>13.0</td>\n",
              "      <td>Michigan</td>\n",
              "      <td>Lake Michigan Shore</td>\n",
              "      <td>NaN</td>\n",
              "      <td>Alexander Peartree</td>\n",
              "      <td>NaN</td>\n",
              "      <td>St. Julian 2013 Reserve Late Harvest Riesling ...</td>\n",
              "      <td>Riesling</td>\n",
              "      <td>St. Julian</td>\n",
              "    </tr>\n",
              "    <tr>\n",
              "      <th>4</th>\n",
              "      <td>US</td>\n",
              "      <td>Much like the regular bottling from 2012, this...</td>\n",
              "      <td>Vintner's Reserve Wild Child Block</td>\n",
              "      <td>87</td>\n",
              "      <td>65.0</td>\n",
              "      <td>Oregon</td>\n",
              "      <td>Willamette Valley</td>\n",
              "      <td>Willamette Valley</td>\n",
              "      <td>Paul Gregutt</td>\n",
              "      <td>@paulgwine</td>\n",
              "      <td>Sweet Cheeks 2012 Vintner's Reserve Wild Child...</td>\n",
              "      <td>Pinot Noir</td>\n",
              "      <td>Sweet Cheeks</td>\n",
              "    </tr>\n",
              "  </tbody>\n",
              "</table>\n",
              "</div>\n",
              "      <button class=\"colab-df-convert\" onclick=\"convertToInteractive('df-7e000d21-8c55-4797-b01e-7741c78acbc9')\"\n",
              "              title=\"Convert this dataframe to an interactive table.\"\n",
              "              style=\"display:none;\">\n",
              "        \n",
              "  <svg xmlns=\"http://www.w3.org/2000/svg\" height=\"24px\"viewBox=\"0 0 24 24\"\n",
              "       width=\"24px\">\n",
              "    <path d=\"M0 0h24v24H0V0z\" fill=\"none\"/>\n",
              "    <path d=\"M18.56 5.44l.94 2.06.94-2.06 2.06-.94-2.06-.94-.94-2.06-.94 2.06-2.06.94zm-11 1L8.5 8.5l.94-2.06 2.06-.94-2.06-.94L8.5 2.5l-.94 2.06-2.06.94zm10 10l.94 2.06.94-2.06 2.06-.94-2.06-.94-.94-2.06-.94 2.06-2.06.94z\"/><path d=\"M17.41 7.96l-1.37-1.37c-.4-.4-.92-.59-1.43-.59-.52 0-1.04.2-1.43.59L10.3 9.45l-7.72 7.72c-.78.78-.78 2.05 0 2.83L4 21.41c.39.39.9.59 1.41.59.51 0 1.02-.2 1.41-.59l7.78-7.78 2.81-2.81c.8-.78.8-2.07 0-2.86zM5.41 20L4 18.59l7.72-7.72 1.47 1.35L5.41 20z\"/>\n",
              "  </svg>\n",
              "      </button>\n",
              "      \n",
              "  <style>\n",
              "    .colab-df-container {\n",
              "      display:flex;\n",
              "      flex-wrap:wrap;\n",
              "      gap: 12px;\n",
              "    }\n",
              "\n",
              "    .colab-df-convert {\n",
              "      background-color: #E8F0FE;\n",
              "      border: none;\n",
              "      border-radius: 50%;\n",
              "      cursor: pointer;\n",
              "      display: none;\n",
              "      fill: #1967D2;\n",
              "      height: 32px;\n",
              "      padding: 0 0 0 0;\n",
              "      width: 32px;\n",
              "    }\n",
              "\n",
              "    .colab-df-convert:hover {\n",
              "      background-color: #E2EBFA;\n",
              "      box-shadow: 0px 1px 2px rgba(60, 64, 67, 0.3), 0px 1px 3px 1px rgba(60, 64, 67, 0.15);\n",
              "      fill: #174EA6;\n",
              "    }\n",
              "\n",
              "    [theme=dark] .colab-df-convert {\n",
              "      background-color: #3B4455;\n",
              "      fill: #D2E3FC;\n",
              "    }\n",
              "\n",
              "    [theme=dark] .colab-df-convert:hover {\n",
              "      background-color: #434B5C;\n",
              "      box-shadow: 0px 1px 3px 1px rgba(0, 0, 0, 0.15);\n",
              "      filter: drop-shadow(0px 1px 2px rgba(0, 0, 0, 0.3));\n",
              "      fill: #FFFFFF;\n",
              "    }\n",
              "  </style>\n",
              "\n",
              "      <script>\n",
              "        const buttonEl =\n",
              "          document.querySelector('#df-7e000d21-8c55-4797-b01e-7741c78acbc9 button.colab-df-convert');\n",
              "        buttonEl.style.display =\n",
              "          google.colab.kernel.accessAllowed ? 'block' : 'none';\n",
              "\n",
              "        async function convertToInteractive(key) {\n",
              "          const element = document.querySelector('#df-7e000d21-8c55-4797-b01e-7741c78acbc9');\n",
              "          const dataTable =\n",
              "            await google.colab.kernel.invokeFunction('convertToInteractive',\n",
              "                                                     [key], {});\n",
              "          if (!dataTable) return;\n",
              "\n",
              "          const docLinkHtml = 'Like what you see? Visit the ' +\n",
              "            '<a target=\"_blank\" href=https://colab.research.google.com/notebooks/data_table.ipynb>data table notebook</a>'\n",
              "            + ' to learn more about interactive tables.';\n",
              "          element.innerHTML = '';\n",
              "          dataTable['output_type'] = 'display_data';\n",
              "          await google.colab.output.renderOutput(dataTable, element);\n",
              "          const docLink = document.createElement('div');\n",
              "          docLink.innerHTML = docLinkHtml;\n",
              "          element.appendChild(docLink);\n",
              "        }\n",
              "      </script>\n",
              "    </div>\n",
              "  </div>\n",
              "  "
            ]
          },
          "metadata": {},
          "execution_count": 10
        }
      ]
    },
    {
      "cell_type": "markdown",
      "source": [
        "# **Упражнения**"
      ],
      "metadata": {
        "id": "jEHD7uMOrhMa"
      }
    },
    {
      "cell_type": "markdown",
      "source": [
        "**1.**\n",
        "Создайте переменную ```desc``` с столбцом ```description``` из DataFrame ```reviews```."
      ],
      "metadata": {
        "id": "P87bF7Vfrmxy"
      }
    },
    {
      "cell_type": "code",
      "source": [
        "# Напишите свой код здесь.\n",
        "desc = ____\n",
        "\n",
        "# Проверьте свой ответ\n",
        "q1.check(desc)"
      ],
      "metadata": {
        "id": "2RLW3X9UsASS"
      },
      "execution_count": null,
      "outputs": []
    },
    {
      "cell_type": "markdown",
      "source": [
        "Вопрос: какой тип имеет переменная ```desc```? Если вы не уверены вы всегда можете проверить себя используя функцию Python ```type```, вот так: ```type(desc)``` "
      ],
      "metadata": {
        "id": "1q_syg38svG6"
      }
    },
    {
      "cell_type": "markdown",
      "source": [
        "**2.**\n",
        "Создайте переменную ```first_description``` с первым значением столбца ```description``` из DataFrame ```reviews```."
      ],
      "metadata": {
        "id": "GJTwObtgtsDC"
      }
    },
    {
      "cell_type": "code",
      "source": [
        "# Напишите свой код здесь.\n",
        "first_description = ____\n",
        "\n",
        "# Проверьте свой ответ\n",
        "q2.check(first_description)\n",
        "first_description"
      ],
      "metadata": {
        "id": "V-f5p79a01lX"
      },
      "execution_count": null,
      "outputs": []
    },
    {
      "cell_type": "markdown",
      "source": [
        "**3.** Создайте переменную ```first_row``` с первой строкой из DataFrame ```reviews```."
      ],
      "metadata": {
        "id": "JVJeTnUb1SqH"
      }
    },
    {
      "cell_type": "code",
      "source": [
        "# Напишите свой код здесь.\n",
        "first_row = ____\n",
        "\n",
        "# Проверьте свой ответ\n",
        "q3.check(first_row)\n",
        "first_row"
      ],
      "metadata": {
        "id": "f8AED-Zk2Hur"
      },
      "execution_count": null,
      "outputs": []
    },
    {
      "cell_type": "markdown",
      "source": [
        "**4.** Присвойте переменной ```first_descriptions``` первые 10 значений столбца ```description``` из DataFrame ```reviews```"
      ],
      "metadata": {
        "id": "9-E3NdEC2zfs"
      }
    },
    {
      "cell_type": "code",
      "source": [
        "# Напишите свой код здесь.\n",
        "first_descriptions = ____\n",
        "\n",
        "# Проверьте свой ответ\n",
        "q4.check(first_descriptions )\n",
        "first_descriptions"
      ],
      "metadata": {
        "id": "fxqW21lH3e_t"
      },
      "execution_count": null,
      "outputs": []
    },
    {
      "cell_type": "markdown",
      "source": [
        "**5.** Создайте переменную ```sample_reviews```, присвойте ей строки с индексами ```1```, ```2```, ```3```, ```5``` и ```8``` из DataFrame ```reviews```.\n",
        "\n",
        "Другими словами создайте вот такой датафрейм:\n",
        "\n",
        "|    | country   | description                                                                                                                                                                                                                                                           | designation          |   points |   price | province       | region_1            | region_2          | taster_name        | taster_twitter_handle   | title                                                               | variety            | winery              |\n",
        "|---:|:----------|:----------------------------------------------------------------------------------------------------------------------------------------------------------------------------------------------------------------------------------------------------------------------|:---------------------|---------:|--------:|:---------------|:--------------------|:------------------|:-------------------|:------------------------|:--------------------------------------------------------------------|:-------------------|:--------------------|\n",
        "|  1 | Portugal  | This is ripe and fruity, a wine that is smooth while still structured. Firm tannins are filled out with juicy red berry fruits and freshened with acidity. It's  already drinkable, although it will certainly be better from 2016.                                   | Avidagos             |       87 |      15 | Douro          | nan                 | nan               | Roger Voss         | @vossroger              | Quinta dos Avidagos 2011 Avidagos Red (Douro)                       | Portuguese Red     | Quinta dos Avidagos |\n",
        "|  2 | US        | Tart and snappy, the flavors of lime flesh and rind dominate. Some green pineapple pokes through, with crisp acidity underscoring the flavors. The wine was all stainless-steel fermented.                                                                            | nan                  |       87 |      14 | Oregon         | Willamette Valley   | Willamette Valley | Paul Gregutt       | @paulgwine              | Rainstorm 2013 Pinot Gris (Willamette Valley)                       | Pinot Gris         | Rainstorm           |\n",
        "|  3 | US        | Pineapple rind, lemon pith and orange blossom start off the aromas. The palate is a bit more opulent, with notes of honey-drizzled guava and mango giving way to a slightly astringent, semidry finish.                                                               | Reserve Late Harvest |       87 |      13 | Michigan       | Lake Michigan Shore | nan               | Alexander Peartree | nan                     | St. Julian 2013 Reserve Late Harvest Riesling (Lake Michigan Shore) | Riesling           | St. Julian          |\n",
        "|  5 | Spain     | Blackberry and raspberry aromas show a typical Navarran whiff of green herbs and, in this case, horseradish. In the mouth, this is fairly full bodied, with tomatoey acidity. Spicy, herbal flavors complement dark plum fruit, while the finish is fresh but grabby. | Ars In Vitro         |       87 |      15 | Northern Spain | Navarra             | nan               | Michael Schachner  | @wineschach             | Tandem 2011 Ars In Vitro Tempranillo-Merlot (Navarra)               | Tempranillo-Merlot | Tandem              |\n",
        "|  8 | Germany   | Savory dried thyme notes accent sunnier flavors of preserved peach in this brisk, off-dry wine. It's fruity and fresh, with an elegant, sprightly footprint.                                                                                                          | Shine                |       87 |      12 | Rheinhessen    | nan                 | nan               | Anna Lee C. Iijima | nan                     | Heinz Eifel 2013 Shine Gewürztraminer (Rheinhessen)                 | Gewürztraminer     | Heinz Eifel         |"
      ],
      "metadata": {
        "id": "2JihG0InMDPz"
      }
    },
    {
      "cell_type": "code",
      "source": [
        "# Напишите свой код здесь.\n",
        "sample_reviews = ____\n",
        "\n",
        "# Проверьте свой ответ\n",
        "q5.check()\n",
        "sample_reviews"
      ],
      "metadata": {
        "id": "ugpLFbBCMUib"
      },
      "execution_count": null,
      "outputs": []
    },
    {
      "cell_type": "markdown",
      "source": [
        "**6.** Создайте переменную ```df``` присвойте ей следующие столбцы: ```country```, ```province```, ```region_1``` и ```region_2``` из строк со следующими индексами: ```0```, ```1```, ```10``` и ```100```.\n",
        "\n",
        "Другими словами создайте вот такой датафрейм:\n",
        "\n",
        "|     | country   | province          | region_1     | region_2     |\n",
        "|----:|:----------|:------------------|:-------------|:-------------|\n",
        "|   0 | Italy     | Sicily & Sardinia | Etna         | nan          |\n",
        "|   1 | Portugal  | Douro             | nan          | nan          |\n",
        "|  10 | US        | California        | Napa Valley  | Napa         |\n",
        "| 100 | US        | New York          | Finger Lakes | Finger Lakes |"
      ],
      "metadata": {
        "id": "Tojmd_rKO7O5"
      }
    },
    {
      "cell_type": "code",
      "source": [
        "df = ____\n",
        "\n",
        "# Проверьте свой ответ\n",
        "q6.check()\n",
        "df"
      ],
      "metadata": {
        "id": "6JW3YeehPxMB"
      },
      "execution_count": null,
      "outputs": []
    },
    {
      "cell_type": "markdown",
      "source": [
        "**7.** Создайте переменнкю ```first_rows``` со столбцами ```country``` и ```varienty``` из первых 100 строк:\n",
        "\n",
        "Подсказка: вы можете использовать ```loc``` или ```iloc```.\n",
        "\n",
        "При выборе между операторами ```loc``` и ```iloc```, стоит держать в уме одну условность, эти операторы используют несколько разные способы *срезов данных*.\n",
        "\n",
        ">```iloc``` использует срез данных как в Python, где первый элемент *среза* включен в последовательность, а последний нет. Так при срезе ```0:10``` будут выбраны ```0,...,9```. Оператор ```loc``` включает в последовательность все значения, так при срезе ```0:10``` будут выбраны ```0,...,10```.\n",
        "\n",
        "> Повторим, так при ```df.loc[0:1000]``` вернется 1000 значений, а при ```df.loc[0:1000]``` вернется 1001 значение. Чтобы выбрать 1000 значений с ```loc``` нужно использовать ```df.loc[0:999]```."
      ],
      "metadata": {
        "id": "fQkukr4UQN4Z"
      }
    },
    {
      "cell_type": "code",
      "source": [
        "first_rows = ____\n",
        "\n",
        "# Проверьте свой ответ\n",
        "q7.check(first_rows)\n",
        "first_rows"
      ],
      "metadata": {
        "id": "S1y0MfU8RoAv"
      },
      "execution_count": null,
      "outputs": []
    },
    {
      "cell_type": "markdown",
      "source": [
        "**8.** Создайте DataFrame ```italian_wines``` который состоит из вин родом из Италии (```Italy```). \n",
        "\n",
        "Подсказка: отфильтруйте DataFrame ```reviews``` по столбцу ```country```"
      ],
      "metadata": {
        "id": "8Ij_ySm0SDXP"
      }
    },
    {
      "cell_type": "code",
      "source": [
        "italian_wines = ____\n",
        "\n",
        "# Проверьте свой ответ\n",
        "q8.check(italian_wines)"
      ],
      "metadata": {
        "id": "wzQbQpViS0tX"
      },
      "execution_count": null,
      "outputs": []
    },
    {
      "cell_type": "markdown",
      "source": [
        "**9.** Создайте DataFrame ```top_oceania_wines``` с записями о винах имеющих оценки не менее 95 баллов и родом из Автралии (```Australia```) и Новой Зеландии (```New Zealand```)\n",
        "\n",
        "Подсказка: оценки вина записаны в столбце ```points```, страна происхождения в ```country```"
      ],
      "metadata": {
        "id": "cryJP350TPvP"
      }
    },
    {
      "cell_type": "code",
      "source": [
        "top_oceania_wines = ____\n",
        "\n",
        "# Проверьте свой ответ\n",
        "q9.check(top_oceania_wines)\n",
        "top_oceania_wines"
      ],
      "metadata": {
        "id": "P4bkzUq2TUyP"
      },
      "execution_count": null,
      "outputs": []
    }
  ]
}