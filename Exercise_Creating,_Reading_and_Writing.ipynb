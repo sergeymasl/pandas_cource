{
  "nbformat": 4,
  "nbformat_minor": 0,
  "metadata": {
    "colab": {
      "name": "Exercise: Creating, Reading and Writing.ipynb",
      "provenance": [],
      "collapsed_sections": [],
      "authorship_tag": "ABX9TyMxvbf3/zy3ZjEllLxS0bRl",
      "include_colab_link": true
    },
    "kernelspec": {
      "name": "python3",
      "display_name": "Python 3"
    },
    "language_info": {
      "name": "python"
    }
  },
  "cells": [
    {
      "cell_type": "markdown",
      "metadata": {
        "id": "view-in-github",
        "colab_type": "text"
      },
      "source": [
        "<a href=\"https://colab.research.google.com/github/sergeymasl/pandas_cource/blob/main/Exercise_Creating%2C_Reading_and_Writing.ipynb\" target=\"_parent\"><img src=\"https://colab.research.google.com/assets/colab-badge.svg\" alt=\"Open In Colab\"/></a>"
      ]
    },
    {
      "cell_type": "markdown",
      "source": [
        "# **Exercise: Creating, Reading and Writing**"
      ],
      "metadata": {
        "id": "cGla7QP42jHv"
      }
    },
    {
      "cell_type": "markdown",
      "source": [
        "Этот ноутбук представляет собой упражнения в курсе по изучению [Pandas](https://pandas.pydata.org/pandas-docs/stable/index.html). Вы всегда можете изучить теоретическую часть по [этой ссылке](https://github.com/sergeymasl/pandas_cource/blob/main/Creating%2C_Reading_and_Writing.ipynb)"
      ],
      "metadata": {
        "id": "H6BPrV9yRkY4"
      }
    },
    {
      "cell_type": "markdown",
      "source": [
        "## Вступление\n",
        "\n",
        "Первым шагом в большинстве аналитических проектов является чтение файлов с данными. В этой практике вы создадите Series и DataFrame вручную и считывая готовый файл.\n",
        "\n",
        "Запустите код ниже для импрорта библиотек которые понадобяться вам при работе на этом практическом занятии (включая модули для проверки ваших ответов)"
      ],
      "metadata": {
        "id": "j22SE6Ja0mSX"
      }
    },
    {
      "cell_type": "code",
      "source": [
        "# загружаем файл для импорта инструментов для проверки ответов\n",
        "url = f\"https://raw.githubusercontent.com/sergeymasl/pandas_cource/main/learntools/creating_reading_and_writing.py\"\n",
        "!wget --no-cache --backups=1 {url}\n",
        "# импорт инструментов для проверки\n",
        "from creating_reading_and_writing import *\n",
        "\n",
        "# импорты библиотек для работы\n",
        "import pandas as pd\n",
        "print(\"Setup complete.\")"
      ],
      "metadata": {
        "id": "9qO-pljrvJ_w"
      },
      "execution_count": null,
      "outputs": []
    },
    {
      "cell_type": "markdown",
      "source": [
        "## Упражнения"
      ],
      "metadata": {
        "id": "Py7x3D7q2abh"
      }
    },
    {
      "cell_type": "markdown",
      "source": [
        "1.\n",
        "\n",
        "В ячейке ниже допишите код для создания DataFrame ```fruits``` который выглядит как этот:\n",
        "\n",
        "|    |   Apples |   Bananas |\n",
        "|---:|---------:|----------:|\n",
        "|  0 |       30 |        21 |"
      ],
      "metadata": {
        "id": "ZvJKExGV2oaI"
      }
    },
    {
      "cell_type": "code",
      "source": [
        "# Напишите свой код здесь. Создайте свой DataFrame как изображено выше и объявите его как переменную fruits\n",
        "fruits = ____\n",
        "\n",
        "# Проверьте свой ответ\n",
        "q1.check()\n",
        "fruits"
      ],
      "metadata": {
        "id": "kXI6wTPK23bx"
      },
      "execution_count": null,
      "outputs": []
    },
    {
      "cell_type": "markdown",
      "source": [
        "1.\n",
        "\n",
        "В ячейке ниже допишите код для создания DataFrame ```fruit_sales``` который соответсвует приведенномк ниже:\n",
        "\n",
        "|    |   Apples |   Bananas |\n",
        "|---:|---------:|----------:|\n",
        "|  0 |       30 |        21 |"
      ],
      "metadata": {
        "id": "5JqGw2OkRSZ5"
      }
    },
    {
      "cell_type": "code",
      "source": [
        "pd.DataFrame({'Apples' : [35, 41], 'Bananas' : [21, 34]})"
      ],
      "metadata": {
        "id": "D8xvrwRIUXx4"
      },
      "execution_count": null,
      "outputs": []
    }
  ]
}