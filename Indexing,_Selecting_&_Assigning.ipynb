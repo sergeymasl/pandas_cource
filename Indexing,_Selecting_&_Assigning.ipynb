{
  "nbformat": 4,
  "nbformat_minor": 0,
  "metadata": {
    "colab": {
      "name": "Indexing, Selecting & Assigning.ipynb",
      "provenance": [],
      "collapsed_sections": [],
      "toc_visible": true,
      "authorship_tag": "ABX9TyOAN3t2nxBtFh4dFYF0JUBo",
      "include_colab_link": true
    },
    "kernelspec": {
      "name": "python3",
      "display_name": "Python 3"
    },
    "language_info": {
      "name": "python"
    }
  },
  "cells": [
    {
      "cell_type": "markdown",
      "metadata": {
        "id": "view-in-github",
        "colab_type": "text"
      },
      "source": [
        "<a href=\"https://colab.research.google.com/github/sergeymasl/pandas_cource/blob/main/Indexing%2C_Selecting_%26_Assigning.ipynb\" target=\"_parent\"><img src=\"https://colab.research.google.com/assets/colab-badge.svg\" alt=\"Open In Colab\"/></a>"
      ]
    },
    {
      "cell_type": "markdown",
      "source": [
        "# **Indexing, Selecting & Assigning**\n",
        "\n",
        "Работа по выбору(фильтрации) данных в DataFrame или Series и получению, необходимых в моменте, данных, будет происходит в большинстве операций, которые вы будете совершать в своей работе.\n",
        "Поэтому одна из первых вещей, которую вам необходимо изучить - это как быстро и эффективно выбрать из всего массива данных ту часть, которая релевантна для вас в моменте.\n",
        "\n",
        "\n",
        "https://drive.google.com/uc?export=download&id=1z-1idT4mGbOvHgmEPzneqV54EJ1-w7tk"
      ],
      "metadata": {
        "id": "qqbVHC6BdCbx"
      }
    },
    {
      "cell_type": "code",
      "source": [
        "# импорт библиотеки\n",
        "import pandas as pd\n",
        "# загрузка датасета для дальнейшей работы\n",
        "reviews = pd.read_csv(\"https://drive.google.com/uc?export=download&id=1z-1idT4mGbOvHgmEPzneqV54EJ1-w7tk\", index_col=0)\n",
        "# настройки по отображению строк\n",
        "pd.set_option('max_rows', 5)"
      ],
      "metadata": {
        "id": "vCsP0JPZgnth"
      },
      "execution_count": 1,
      "outputs": []
    },
    {
      "cell_type": "markdown",
      "source": [
        "## **Использование встроенных возможностей Python при работе с Pandas**"
      ],
      "metadata": {
        "id": "GAbuzJ_0hoag"
      }
    },
    {
      "cell_type": "markdown",
      "source": [
        "Язык Python уже использует удобные способы индексации данных (например индексы и срезы в строках и списках, ключи в словарях). Pandas вобрал в себя все эти способы, что позволяет легко начать работу с ним.\n",
        "\n",
        "Рассмотрим DataFrame загруженный выше:"
      ],
      "metadata": {
        "id": "t3pHD-SEiB5_"
      }
    },
    {
      "cell_type": "code",
      "source": [
        "reviews"
      ],
      "metadata": {
        "colab": {
          "base_uri": "https://localhost:8080/",
          "height": 236
        },
        "id": "63aQETI-irlg",
        "outputId": "11b288fe-a1d7-4202-e6cd-be9072cd2dd7"
      },
      "execution_count": 2,
      "outputs": [
        {
          "output_type": "execute_result",
          "data": {
            "text/plain": [
              "         country                                        description  \\\n",
              "0          Italy  Aromas include tropical fruit, broom, brimston...   \n",
              "1       Portugal  This is ripe and fruity, a wine that is smooth...   \n",
              "...          ...                                                ...   \n",
              "129969    France  A dry style of Pinot Gris, this is crisp with ...   \n",
              "129970    France  Big, rich and off-dry, this is powered by inte...   \n",
              "\n",
              "                          designation  points  price           province  \\\n",
              "0                        Vulkà Bianco      87    NaN  Sicily & Sardinia   \n",
              "1                            Avidagos      87   15.0              Douro   \n",
              "...                               ...     ...    ...                ...   \n",
              "129969                            NaN      90   32.0             Alsace   \n",
              "129970  Lieu-dit Harth Cuvée Caroline      90   21.0             Alsace   \n",
              "\n",
              "       region_1 region_2    taster_name taster_twitter_handle  \\\n",
              "0          Etna      NaN  Kerin O’Keefe          @kerinokeefe   \n",
              "1           NaN      NaN     Roger Voss            @vossroger   \n",
              "...         ...      ...            ...                   ...   \n",
              "129969   Alsace      NaN     Roger Voss            @vossroger   \n",
              "129970   Alsace      NaN     Roger Voss            @vossroger   \n",
              "\n",
              "                                                    title         variety  \\\n",
              "0                       Nicosia 2013 Vulkà Bianco  (Etna)     White Blend   \n",
              "1           Quinta dos Avidagos 2011 Avidagos Red (Douro)  Portuguese Red   \n",
              "...                                                   ...             ...   \n",
              "129969      Domaine Marcel Deiss 2012 Pinot Gris (Alsace)      Pinot Gris   \n",
              "129970  Domaine Schoffit 2012 Lieu-dit Harth Cuvée Car...  Gewürztraminer   \n",
              "\n",
              "                      winery  \n",
              "0                    Nicosia  \n",
              "1        Quinta dos Avidagos  \n",
              "...                      ...  \n",
              "129969  Domaine Marcel Deiss  \n",
              "129970      Domaine Schoffit  \n",
              "\n",
              "[129971 rows x 13 columns]"
            ],
            "text/html": [
              "\n",
              "  <div id=\"df-99067944-2ea0-43b8-988e-b917619a6341\">\n",
              "    <div class=\"colab-df-container\">\n",
              "      <div>\n",
              "<style scoped>\n",
              "    .dataframe tbody tr th:only-of-type {\n",
              "        vertical-align: middle;\n",
              "    }\n",
              "\n",
              "    .dataframe tbody tr th {\n",
              "        vertical-align: top;\n",
              "    }\n",
              "\n",
              "    .dataframe thead th {\n",
              "        text-align: right;\n",
              "    }\n",
              "</style>\n",
              "<table border=\"1\" class=\"dataframe\">\n",
              "  <thead>\n",
              "    <tr style=\"text-align: right;\">\n",
              "      <th></th>\n",
              "      <th>country</th>\n",
              "      <th>description</th>\n",
              "      <th>designation</th>\n",
              "      <th>points</th>\n",
              "      <th>price</th>\n",
              "      <th>province</th>\n",
              "      <th>region_1</th>\n",
              "      <th>region_2</th>\n",
              "      <th>taster_name</th>\n",
              "      <th>taster_twitter_handle</th>\n",
              "      <th>title</th>\n",
              "      <th>variety</th>\n",
              "      <th>winery</th>\n",
              "    </tr>\n",
              "  </thead>\n",
              "  <tbody>\n",
              "    <tr>\n",
              "      <th>0</th>\n",
              "      <td>Italy</td>\n",
              "      <td>Aromas include tropical fruit, broom, brimston...</td>\n",
              "      <td>Vulkà Bianco</td>\n",
              "      <td>87</td>\n",
              "      <td>NaN</td>\n",
              "      <td>Sicily &amp; Sardinia</td>\n",
              "      <td>Etna</td>\n",
              "      <td>NaN</td>\n",
              "      <td>Kerin O’Keefe</td>\n",
              "      <td>@kerinokeefe</td>\n",
              "      <td>Nicosia 2013 Vulkà Bianco  (Etna)</td>\n",
              "      <td>White Blend</td>\n",
              "      <td>Nicosia</td>\n",
              "    </tr>\n",
              "    <tr>\n",
              "      <th>1</th>\n",
              "      <td>Portugal</td>\n",
              "      <td>This is ripe and fruity, a wine that is smooth...</td>\n",
              "      <td>Avidagos</td>\n",
              "      <td>87</td>\n",
              "      <td>15.0</td>\n",
              "      <td>Douro</td>\n",
              "      <td>NaN</td>\n",
              "      <td>NaN</td>\n",
              "      <td>Roger Voss</td>\n",
              "      <td>@vossroger</td>\n",
              "      <td>Quinta dos Avidagos 2011 Avidagos Red (Douro)</td>\n",
              "      <td>Portuguese Red</td>\n",
              "      <td>Quinta dos Avidagos</td>\n",
              "    </tr>\n",
              "    <tr>\n",
              "      <th>...</th>\n",
              "      <td>...</td>\n",
              "      <td>...</td>\n",
              "      <td>...</td>\n",
              "      <td>...</td>\n",
              "      <td>...</td>\n",
              "      <td>...</td>\n",
              "      <td>...</td>\n",
              "      <td>...</td>\n",
              "      <td>...</td>\n",
              "      <td>...</td>\n",
              "      <td>...</td>\n",
              "      <td>...</td>\n",
              "      <td>...</td>\n",
              "    </tr>\n",
              "    <tr>\n",
              "      <th>129969</th>\n",
              "      <td>France</td>\n",
              "      <td>A dry style of Pinot Gris, this is crisp with ...</td>\n",
              "      <td>NaN</td>\n",
              "      <td>90</td>\n",
              "      <td>32.0</td>\n",
              "      <td>Alsace</td>\n",
              "      <td>Alsace</td>\n",
              "      <td>NaN</td>\n",
              "      <td>Roger Voss</td>\n",
              "      <td>@vossroger</td>\n",
              "      <td>Domaine Marcel Deiss 2012 Pinot Gris (Alsace)</td>\n",
              "      <td>Pinot Gris</td>\n",
              "      <td>Domaine Marcel Deiss</td>\n",
              "    </tr>\n",
              "    <tr>\n",
              "      <th>129970</th>\n",
              "      <td>France</td>\n",
              "      <td>Big, rich and off-dry, this is powered by inte...</td>\n",
              "      <td>Lieu-dit Harth Cuvée Caroline</td>\n",
              "      <td>90</td>\n",
              "      <td>21.0</td>\n",
              "      <td>Alsace</td>\n",
              "      <td>Alsace</td>\n",
              "      <td>NaN</td>\n",
              "      <td>Roger Voss</td>\n",
              "      <td>@vossroger</td>\n",
              "      <td>Domaine Schoffit 2012 Lieu-dit Harth Cuvée Car...</td>\n",
              "      <td>Gewürztraminer</td>\n",
              "      <td>Domaine Schoffit</td>\n",
              "    </tr>\n",
              "  </tbody>\n",
              "</table>\n",
              "<p>129971 rows × 13 columns</p>\n",
              "</div>\n",
              "      <button class=\"colab-df-convert\" onclick=\"convertToInteractive('df-99067944-2ea0-43b8-988e-b917619a6341')\"\n",
              "              title=\"Convert this dataframe to an interactive table.\"\n",
              "              style=\"display:none;\">\n",
              "        \n",
              "  <svg xmlns=\"http://www.w3.org/2000/svg\" height=\"24px\"viewBox=\"0 0 24 24\"\n",
              "       width=\"24px\">\n",
              "    <path d=\"M0 0h24v24H0V0z\" fill=\"none\"/>\n",
              "    <path d=\"M18.56 5.44l.94 2.06.94-2.06 2.06-.94-2.06-.94-.94-2.06-.94 2.06-2.06.94zm-11 1L8.5 8.5l.94-2.06 2.06-.94-2.06-.94L8.5 2.5l-.94 2.06-2.06.94zm10 10l.94 2.06.94-2.06 2.06-.94-2.06-.94-.94-2.06-.94 2.06-2.06.94z\"/><path d=\"M17.41 7.96l-1.37-1.37c-.4-.4-.92-.59-1.43-.59-.52 0-1.04.2-1.43.59L10.3 9.45l-7.72 7.72c-.78.78-.78 2.05 0 2.83L4 21.41c.39.39.9.59 1.41.59.51 0 1.02-.2 1.41-.59l7.78-7.78 2.81-2.81c.8-.78.8-2.07 0-2.86zM5.41 20L4 18.59l7.72-7.72 1.47 1.35L5.41 20z\"/>\n",
              "  </svg>\n",
              "      </button>\n",
              "      \n",
              "  <style>\n",
              "    .colab-df-container {\n",
              "      display:flex;\n",
              "      flex-wrap:wrap;\n",
              "      gap: 12px;\n",
              "    }\n",
              "\n",
              "    .colab-df-convert {\n",
              "      background-color: #E8F0FE;\n",
              "      border: none;\n",
              "      border-radius: 50%;\n",
              "      cursor: pointer;\n",
              "      display: none;\n",
              "      fill: #1967D2;\n",
              "      height: 32px;\n",
              "      padding: 0 0 0 0;\n",
              "      width: 32px;\n",
              "    }\n",
              "\n",
              "    .colab-df-convert:hover {\n",
              "      background-color: #E2EBFA;\n",
              "      box-shadow: 0px 1px 2px rgba(60, 64, 67, 0.3), 0px 1px 3px 1px rgba(60, 64, 67, 0.15);\n",
              "      fill: #174EA6;\n",
              "    }\n",
              "\n",
              "    [theme=dark] .colab-df-convert {\n",
              "      background-color: #3B4455;\n",
              "      fill: #D2E3FC;\n",
              "    }\n",
              "\n",
              "    [theme=dark] .colab-df-convert:hover {\n",
              "      background-color: #434B5C;\n",
              "      box-shadow: 0px 1px 3px 1px rgba(0, 0, 0, 0.15);\n",
              "      filter: drop-shadow(0px 1px 2px rgba(0, 0, 0, 0.3));\n",
              "      fill: #FFFFFF;\n",
              "    }\n",
              "  </style>\n",
              "\n",
              "      <script>\n",
              "        const buttonEl =\n",
              "          document.querySelector('#df-99067944-2ea0-43b8-988e-b917619a6341 button.colab-df-convert');\n",
              "        buttonEl.style.display =\n",
              "          google.colab.kernel.accessAllowed ? 'block' : 'none';\n",
              "\n",
              "        async function convertToInteractive(key) {\n",
              "          const element = document.querySelector('#df-99067944-2ea0-43b8-988e-b917619a6341');\n",
              "          const dataTable =\n",
              "            await google.colab.kernel.invokeFunction('convertToInteractive',\n",
              "                                                     [key], {});\n",
              "          if (!dataTable) return;\n",
              "\n",
              "          const docLinkHtml = 'Like what you see? Visit the ' +\n",
              "            '<a target=\"_blank\" href=https://colab.research.google.com/notebooks/data_table.ipynb>data table notebook</a>'\n",
              "            + ' to learn more about interactive tables.';\n",
              "          element.innerHTML = '';\n",
              "          dataTable['output_type'] = 'display_data';\n",
              "          await google.colab.output.renderOutput(dataTable, element);\n",
              "          const docLink = document.createElement('div');\n",
              "          docLink.innerHTML = docLinkHtml;\n",
              "          element.appendChild(docLink);\n",
              "        }\n",
              "      </script>\n",
              "    </div>\n",
              "  </div>\n",
              "  "
            ]
          },
          "metadata": {},
          "execution_count": 2
        }
      ]
    },
    {
      "cell_type": "markdown",
      "source": [
        "Out:\n",
        "\n",
        "|    | country   | description                                                                                                                                                                                                                         | designation   |   points |   price | province          | region_1   |   region_2 | taster_name   | taster_twitter_handle   | title                                         | variety        | winery              |\n",
        "|---:|:----------|:------------------------------------------------------------------------------------------------------------------------------------------------------------------------------------------------------------------------------------|:--------------|---------:|--------:|:------------------|:-----------|-----------:|:--------------|:------------------------|:----------------------------------------------|:---------------|:--------------------|\n",
        "|  0 | Italy     | Aromas include tropical fruit, broom, brimstone and dried herb. The palate isn't overly expressive, offering unripened apple, citrus and dried sage alongside brisk acidity.                                                        | Vulkà Bianco  |       87 |     nan | Sicily & Sardinia | Etna       |        nan | Kerin O’Keefe | @kerinokeefe            | Nicosia 2013 Vulkà Bianco  (Etna)             | White Blend    | Nicosia             |\n",
        "|  1 | Portugal  | This is ripe and fruity, a wine that is smooth while still structured. Firm tannins are filled out with juicy red berry fruits and freshened with acidity. It's  already drinkable, although it will certainly be better from 2016. | Avidagos      |       87 |      15 | Douro             | nan        |        nan | Roger Voss    | @vossroger              | Quinta dos Avidagos 2011 Avidagos Red (Douro) | Portuguese Red | Quinta dos Avidagos |\n",
        "| ...|...| ...| ...  |       ... |     ...| ... |... |... | ... | ...| ...| ...|...|\n",
        "| 129969 | France    | A dry style of Pinot Gris, this is crisp with some acidity. It also has weight and a solid, powerful core of spice and baked apple flavors. With its structure still developing, the wine needs to age. Drink from 2015. | nan                           |       90 |      32 | Alsace     | Alsace     |        nan | Roger Voss    | @vossroger              | Domaine Marcel Deiss 2012 Pinot Gris (Alsace)                               | Pinot Gris     | Domaine Marcel Deiss |\n",
        "| 129970 | France    | Big, rich and off-dry, this is powered by intense spiciness and rounded texture. Lychees dominate the fruit profile, giving an opulent feel to the aftertaste. Drink now.                                                | Lieu-dit Harth Cuvée Caroline |       90 |      21 | Alsace     | Alsace     |        nan | Roger Voss    | @vossroger              | Domaine Schoffit 2012 Lieu-dit Harth Cuvée Caroline Gewurztraminer (Alsace) | Gewürztraminer | Domaine Schoffit     |"
      ],
      "metadata": {
        "id": "KWs1DauAz5zO"
      }
    },
    {
      "cell_type": "markdown",
      "source": [
        "\\\n",
        "\n",
        "В Python мы можем вызвать свойство класса, обратившись к нему как объекту класса. Например, класс ```книга``` скорее всего имеет объект ```оглавление``` и мы можем обратиться в этому объекту вот так: ```книга.оглавление```. Вызов столбцов в DataFrame работает таким же образом.\n",
        "\n",
        "Следовательно, чтобы вызвать столбец ```counry``` из DataFrame ```reviews```, который мы используем в примере, использую вот такой код:"
      ],
      "metadata": {
        "id": "D0scigc07Cgr"
      }
    },
    {
      "cell_type": "code",
      "source": [
        "reviews.country"
      ],
      "metadata": {
        "id": "8ubBLMaK8nlL",
        "colab": {
          "base_uri": "https://localhost:8080/"
        },
        "outputId": "d4ee8592-d737-4981-951e-0a4b1e573938"
      },
      "execution_count": 3,
      "outputs": [
        {
          "output_type": "execute_result",
          "data": {
            "text/plain": [
              "0            Italy\n",
              "1         Portugal\n",
              "            ...   \n",
              "129969      France\n",
              "129970      France\n",
              "Name: country, Length: 129971, dtype: object"
            ]
          },
          "metadata": {},
          "execution_count": 3
        }
      ]
    },
    {
      "cell_type": "markdown",
      "source": [
        "Out:\n",
        "\n",
        "![image.png](data:image/png;base64,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)"
      ],
      "metadata": {
        "id": "XX6eXk7B8sEC"
      }
    },
    {
      "cell_type": "markdown",
      "source": [
        "Также в словаре(```dict```) Python, мы можем вызвать значение по ключу, используя квадратные скобки, вот так ```dict['key']```. Мы можем сделать такую же операцию и при вызове столбца из DataFrame:"
      ],
      "metadata": {
        "id": "89b7ZSyx8_FM"
      }
    },
    {
      "cell_type": "code",
      "source": [
        "reviews['country']"
      ],
      "metadata": {
        "colab": {
          "base_uri": "https://localhost:8080/"
        },
        "id": "cr1mflRe9kdJ",
        "outputId": "ae92833e-a395-4fe1-ea27-8417ee496c27"
      },
      "execution_count": 4,
      "outputs": [
        {
          "output_type": "execute_result",
          "data": {
            "text/plain": [
              "0            Italy\n",
              "1         Portugal\n",
              "            ...   \n",
              "129969      France\n",
              "129970      France\n",
              "Name: country, Length: 129971, dtype: object"
            ]
          },
          "metadata": {},
          "execution_count": 4
        }
      ]
    },
    {
      "cell_type": "markdown",
      "source": [
        "Out:\n",
        "\n",
        "![image.png](data:image/png;base64,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)"
      ],
      "metadata": {
        "id": "11mOIXqC9nfI"
      }
    },
    {
      "cell_type": "markdown",
      "source": [
        "Таким образом есть два способа выбора Series, то есть столбца, из DataFrame. Оба этих способа синтаксически правильны, но у способа с квадратными скобками ```[]``` есть неоспоримое преимущество, **так этот способ позволяет вызвать столбцы с особыми символами** (например, имея столбец с именем ```country providence```, вызов ```reviews.country providence``` не сработает.\n",
        "\n",
        "А вот использование ```reviews['country providence']``` сработает.)\n",
        "\\\n",
        "\n",
        "\\\n",
        "\n",
        "Не похожа ли Series на словарь Python? По большой части так и есть, поэтому для вызова отдельного значения из Series, нам нужно еще раз использовать оператор вызова ```[]```, вот так:"
      ],
      "metadata": {
        "id": "c-8e54u8-BCi"
      }
    },
    {
      "cell_type": "code",
      "source": [
        "reviews['country'][0]"
      ],
      "metadata": {
        "id": "8sBcb1mXHbak"
      },
      "execution_count": null,
      "outputs": []
    },
    {
      "cell_type": "markdown",
      "source": [
        "Out:\n",
        "\n",
        "'Italy'"
      ],
      "metadata": {
        "id": "4bQuEcSOHoCe"
      }
    },
    {
      "cell_type": "markdown",
      "source": [
        "## **Собственные методы Pandas для выбора значений**\n",
        "\n",
        "Операторы выбора, рассмотренные выше - хороши, потому что они работают также как и в экосистеме Python. Что позволяет быстро использовать эти методы новым пользователям.\n",
        "\n",
        "Однако, Pandas имеет свои собственные операторы выбора данных, ```loc``` и ```iloc```. Эти операторы необходимы для более сложных операций.\n",
        "\n",
        "**Выбор на основе индекса**\n",
        "\n",
        "Выбор данных в Pandas работает по одной из двух парадигм. Первая из них - **Выбор на основе индекса**, он подразумевает под собой выбор данных основываясь на их порядковой числовой позиции (*первый, второй и т.д.*). Оператор ```iloc``` использует данную парадигму. \n",
        "\n",
        "\n",
        "Для выбора **первой строки** в DataFrame, мы можем использовать следующий код:"
      ],
      "metadata": {
        "id": "snaq3zdaI-y9"
      }
    },
    {
      "cell_type": "code",
      "source": [
        "reviews.iloc[0]"
      ],
      "metadata": {
        "id": "JCkrsWxcR8Gf"
      },
      "execution_count": null,
      "outputs": []
    },
    {
      "cell_type": "markdown",
      "source": [
        "Out:\n",
        "\n",
        "![image.png](data:image/png;base64,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)"
      ],
      "metadata": {
        "id": "3d9jeR2jSEOw"
      }
    },
    {
      "cell_type": "markdown",
      "source": [
        "В каждом их двух методов ```loc``` и ```iloc``` **строка будет певым аргументом**, а **столбец вторым**.\n",
        "\n",
        "Это означает что извлечь строки в Pandas чуть проще, чем столбцы. И наоборот, столбцы извлечь чуть сложнее.\n",
        "\n",
        "Чтобы извлечь стодбец используя оператор ```iloc```, мы можем использовать следующий код:"
      ],
      "metadata": {
        "id": "jm0GkSN9SZco"
      }
    },
    {
      "cell_type": "code",
      "source": [
        "reviews.iloc[:, 0]"
      ],
      "metadata": {
        "id": "359uWDO0n7vr"
      },
      "execution_count": null,
      "outputs": []
    },
    {
      "cell_type": "markdown",
      "source": [
        "Out:\n",
        "\n",
        "![image.png](data:image/png;base64,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)"
      ],
      "metadata": {
        "id": "-3XKein6oGlM"
      }
    },
    {
      "cell_type": "markdown",
      "source": [
        "Оператор ```:``` перекочевал из Python и так же как и в Python, он обозначет *срез*. Без указания допольнительных атрибутов оператор ```:``` будет означать все элемнты"
      ],
      "metadata": {
        "id": "fRl-4mRkoSwk"
      }
    }
  ]
}