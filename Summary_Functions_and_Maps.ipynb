{
  "nbformat": 4,
  "nbformat_minor": 0,
  "metadata": {
    "colab": {
      "name": "Summary Functions and Maps.ipynb",
      "provenance": [],
      "collapsed_sections": [],
      "authorship_tag": "ABX9TyORm9/Z0qa4hovn3gnTT6DP",
      "include_colab_link": true
    },
    "kernelspec": {
      "name": "python3",
      "display_name": "Python 3"
    },
    "language_info": {
      "name": "python"
    }
  },
  "cells": [
    {
      "cell_type": "markdown",
      "metadata": {
        "id": "view-in-github",
        "colab_type": "text"
      },
      "source": [
        "<a href=\"https://colab.research.google.com/github/sergeymasl/pandas_cource/blob/main/Summary_Functions_and_Maps.ipynb\" target=\"_parent\"><img src=\"https://colab.research.google.com/assets/colab-badge.svg\" alt=\"Open In Colab\"/></a>"
      ]
    },
    {
      "cell_type": "markdown",
      "source": [
        "# **Summary Functions and Maps**"
      ],
      "metadata": {
        "id": "dMFvwDwhdBNK"
      }
    },
    {
      "cell_type": "markdown",
      "source": [
        "В предыдущем уроке мы изучили как отфильровать и выбрать только те данные которые тебуются для решения задачи.\n",
        "\n",
        "Но при выборе отдельных данных, они не всегда предстают в том виде в котором нам это небходимо. Иногда нам нужно самостоятельно транформировать данные для решения задачи.\n",
        "\n",
        "В этом уроке мы рассмотрим несколько операций, которые мы сможем применить для преобразовани данных в вид \"вот теперь как надо\".\n",
        "\n",
        "\n",
        "Для демонстрации мы будем использовать датасет с данными о винах."
      ],
      "metadata": {
        "id": "yg-oqoMAdHBS"
      }
    },
    {
      "cell_type": "code",
      "execution_count": 2,
      "metadata": {
        "id": "hCkElJ26cY1E"
      },
      "outputs": [],
      "source": [
        "# импорт библиотеки\n",
        "import pandas as pd\n",
        "# загрузка датасета для дальнейшей работы\n",
        "reviews = pd.read_csv(\"https://drive.google.com/uc?export=download&id=1z-1idT4mGbOvHgmEPzneqV54EJ1-w7tk\", index_col=0)\n",
        "# настройки по отображению строк\n",
        "pd.set_option('max_rows', 5)"
      ]
    },
    {
      "cell_type": "code",
      "source": [
        "reviews"
      ],
      "metadata": {
        "colab": {
          "base_uri": "https://localhost:8080/",
          "height": 349
        },
        "id": "vMQL8uDKoSfU",
        "outputId": "47fe6d46-0cbb-40c3-ccbb-f771b7c11a17"
      },
      "execution_count": 3,
      "outputs": [
        {
          "output_type": "execute_result",
          "data": {
            "text/plain": [
              "         country                                        description  \\\n",
              "0          Italy  Aromas include tropical fruit, broom, brimston...   \n",
              "1       Portugal  This is ripe and fruity, a wine that is smooth...   \n",
              "...          ...                                                ...   \n",
              "129969    France  A dry style of Pinot Gris, this is crisp with ...   \n",
              "129970    France  Big, rich and off-dry, this is powered by inte...   \n",
              "\n",
              "                          designation  points  price           province  \\\n",
              "0                        Vulkà Bianco      87    NaN  Sicily & Sardinia   \n",
              "1                            Avidagos      87   15.0              Douro   \n",
              "...                               ...     ...    ...                ...   \n",
              "129969                            NaN      90   32.0             Alsace   \n",
              "129970  Lieu-dit Harth Cuvée Caroline      90   21.0             Alsace   \n",
              "\n",
              "       region_1 region_2    taster_name taster_twitter_handle  \\\n",
              "0          Etna      NaN  Kerin O’Keefe          @kerinokeefe   \n",
              "1           NaN      NaN     Roger Voss            @vossroger   \n",
              "...         ...      ...            ...                   ...   \n",
              "129969   Alsace      NaN     Roger Voss            @vossroger   \n",
              "129970   Alsace      NaN     Roger Voss            @vossroger   \n",
              "\n",
              "                                                    title         variety  \\\n",
              "0                       Nicosia 2013 Vulkà Bianco  (Etna)     White Blend   \n",
              "1           Quinta dos Avidagos 2011 Avidagos Red (Douro)  Portuguese Red   \n",
              "...                                                   ...             ...   \n",
              "129969      Domaine Marcel Deiss 2012 Pinot Gris (Alsace)      Pinot Gris   \n",
              "129970  Domaine Schoffit 2012 Lieu-dit Harth Cuvée Car...  Gewürztraminer   \n",
              "\n",
              "                      winery  \n",
              "0                    Nicosia  \n",
              "1        Quinta dos Avidagos  \n",
              "...                      ...  \n",
              "129969  Domaine Marcel Deiss  \n",
              "129970      Domaine Schoffit  \n",
              "\n",
              "[129971 rows x 13 columns]"
            ],
            "text/html": [
              "\n",
              "  <div id=\"df-9539a25a-85cc-4315-9011-923e77d92f0d\">\n",
              "    <div class=\"colab-df-container\">\n",
              "      <div>\n",
              "<style scoped>\n",
              "    .dataframe tbody tr th:only-of-type {\n",
              "        vertical-align: middle;\n",
              "    }\n",
              "\n",
              "    .dataframe tbody tr th {\n",
              "        vertical-align: top;\n",
              "    }\n",
              "\n",
              "    .dataframe thead th {\n",
              "        text-align: right;\n",
              "    }\n",
              "</style>\n",
              "<table border=\"1\" class=\"dataframe\">\n",
              "  <thead>\n",
              "    <tr style=\"text-align: right;\">\n",
              "      <th></th>\n",
              "      <th>country</th>\n",
              "      <th>description</th>\n",
              "      <th>designation</th>\n",
              "      <th>points</th>\n",
              "      <th>price</th>\n",
              "      <th>province</th>\n",
              "      <th>region_1</th>\n",
              "      <th>region_2</th>\n",
              "      <th>taster_name</th>\n",
              "      <th>taster_twitter_handle</th>\n",
              "      <th>title</th>\n",
              "      <th>variety</th>\n",
              "      <th>winery</th>\n",
              "    </tr>\n",
              "  </thead>\n",
              "  <tbody>\n",
              "    <tr>\n",
              "      <th>0</th>\n",
              "      <td>Italy</td>\n",
              "      <td>Aromas include tropical fruit, broom, brimston...</td>\n",
              "      <td>Vulkà Bianco</td>\n",
              "      <td>87</td>\n",
              "      <td>NaN</td>\n",
              "      <td>Sicily &amp; Sardinia</td>\n",
              "      <td>Etna</td>\n",
              "      <td>NaN</td>\n",
              "      <td>Kerin O’Keefe</td>\n",
              "      <td>@kerinokeefe</td>\n",
              "      <td>Nicosia 2013 Vulkà Bianco  (Etna)</td>\n",
              "      <td>White Blend</td>\n",
              "      <td>Nicosia</td>\n",
              "    </tr>\n",
              "    <tr>\n",
              "      <th>1</th>\n",
              "      <td>Portugal</td>\n",
              "      <td>This is ripe and fruity, a wine that is smooth...</td>\n",
              "      <td>Avidagos</td>\n",
              "      <td>87</td>\n",
              "      <td>15.0</td>\n",
              "      <td>Douro</td>\n",
              "      <td>NaN</td>\n",
              "      <td>NaN</td>\n",
              "      <td>Roger Voss</td>\n",
              "      <td>@vossroger</td>\n",
              "      <td>Quinta dos Avidagos 2011 Avidagos Red (Douro)</td>\n",
              "      <td>Portuguese Red</td>\n",
              "      <td>Quinta dos Avidagos</td>\n",
              "    </tr>\n",
              "    <tr>\n",
              "      <th>...</th>\n",
              "      <td>...</td>\n",
              "      <td>...</td>\n",
              "      <td>...</td>\n",
              "      <td>...</td>\n",
              "      <td>...</td>\n",
              "      <td>...</td>\n",
              "      <td>...</td>\n",
              "      <td>...</td>\n",
              "      <td>...</td>\n",
              "      <td>...</td>\n",
              "      <td>...</td>\n",
              "      <td>...</td>\n",
              "      <td>...</td>\n",
              "    </tr>\n",
              "    <tr>\n",
              "      <th>129969</th>\n",
              "      <td>France</td>\n",
              "      <td>A dry style of Pinot Gris, this is crisp with ...</td>\n",
              "      <td>NaN</td>\n",
              "      <td>90</td>\n",
              "      <td>32.0</td>\n",
              "      <td>Alsace</td>\n",
              "      <td>Alsace</td>\n",
              "      <td>NaN</td>\n",
              "      <td>Roger Voss</td>\n",
              "      <td>@vossroger</td>\n",
              "      <td>Domaine Marcel Deiss 2012 Pinot Gris (Alsace)</td>\n",
              "      <td>Pinot Gris</td>\n",
              "      <td>Domaine Marcel Deiss</td>\n",
              "    </tr>\n",
              "    <tr>\n",
              "      <th>129970</th>\n",
              "      <td>France</td>\n",
              "      <td>Big, rich and off-dry, this is powered by inte...</td>\n",
              "      <td>Lieu-dit Harth Cuvée Caroline</td>\n",
              "      <td>90</td>\n",
              "      <td>21.0</td>\n",
              "      <td>Alsace</td>\n",
              "      <td>Alsace</td>\n",
              "      <td>NaN</td>\n",
              "      <td>Roger Voss</td>\n",
              "      <td>@vossroger</td>\n",
              "      <td>Domaine Schoffit 2012 Lieu-dit Harth Cuvée Car...</td>\n",
              "      <td>Gewürztraminer</td>\n",
              "      <td>Domaine Schoffit</td>\n",
              "    </tr>\n",
              "  </tbody>\n",
              "</table>\n",
              "<p>129971 rows × 13 columns</p>\n",
              "</div>\n",
              "      <button class=\"colab-df-convert\" onclick=\"convertToInteractive('df-9539a25a-85cc-4315-9011-923e77d92f0d')\"\n",
              "              title=\"Convert this dataframe to an interactive table.\"\n",
              "              style=\"display:none;\">\n",
              "        \n",
              "  <svg xmlns=\"http://www.w3.org/2000/svg\" height=\"24px\"viewBox=\"0 0 24 24\"\n",
              "       width=\"24px\">\n",
              "    <path d=\"M0 0h24v24H0V0z\" fill=\"none\"/>\n",
              "    <path d=\"M18.56 5.44l.94 2.06.94-2.06 2.06-.94-2.06-.94-.94-2.06-.94 2.06-2.06.94zm-11 1L8.5 8.5l.94-2.06 2.06-.94-2.06-.94L8.5 2.5l-.94 2.06-2.06.94zm10 10l.94 2.06.94-2.06 2.06-.94-2.06-.94-.94-2.06-.94 2.06-2.06.94z\"/><path d=\"M17.41 7.96l-1.37-1.37c-.4-.4-.92-.59-1.43-.59-.52 0-1.04.2-1.43.59L10.3 9.45l-7.72 7.72c-.78.78-.78 2.05 0 2.83L4 21.41c.39.39.9.59 1.41.59.51 0 1.02-.2 1.41-.59l7.78-7.78 2.81-2.81c.8-.78.8-2.07 0-2.86zM5.41 20L4 18.59l7.72-7.72 1.47 1.35L5.41 20z\"/>\n",
              "  </svg>\n",
              "      </button>\n",
              "      \n",
              "  <style>\n",
              "    .colab-df-container {\n",
              "      display:flex;\n",
              "      flex-wrap:wrap;\n",
              "      gap: 12px;\n",
              "    }\n",
              "\n",
              "    .colab-df-convert {\n",
              "      background-color: #E8F0FE;\n",
              "      border: none;\n",
              "      border-radius: 50%;\n",
              "      cursor: pointer;\n",
              "      display: none;\n",
              "      fill: #1967D2;\n",
              "      height: 32px;\n",
              "      padding: 0 0 0 0;\n",
              "      width: 32px;\n",
              "    }\n",
              "\n",
              "    .colab-df-convert:hover {\n",
              "      background-color: #E2EBFA;\n",
              "      box-shadow: 0px 1px 2px rgba(60, 64, 67, 0.3), 0px 1px 3px 1px rgba(60, 64, 67, 0.15);\n",
              "      fill: #174EA6;\n",
              "    }\n",
              "\n",
              "    [theme=dark] .colab-df-convert {\n",
              "      background-color: #3B4455;\n",
              "      fill: #D2E3FC;\n",
              "    }\n",
              "\n",
              "    [theme=dark] .colab-df-convert:hover {\n",
              "      background-color: #434B5C;\n",
              "      box-shadow: 0px 1px 3px 1px rgba(0, 0, 0, 0.15);\n",
              "      filter: drop-shadow(0px 1px 2px rgba(0, 0, 0, 0.3));\n",
              "      fill: #FFFFFF;\n",
              "    }\n",
              "  </style>\n",
              "\n",
              "      <script>\n",
              "        const buttonEl =\n",
              "          document.querySelector('#df-9539a25a-85cc-4315-9011-923e77d92f0d button.colab-df-convert');\n",
              "        buttonEl.style.display =\n",
              "          google.colab.kernel.accessAllowed ? 'block' : 'none';\n",
              "\n",
              "        async function convertToInteractive(key) {\n",
              "          const element = document.querySelector('#df-9539a25a-85cc-4315-9011-923e77d92f0d');\n",
              "          const dataTable =\n",
              "            await google.colab.kernel.invokeFunction('convertToInteractive',\n",
              "                                                     [key], {});\n",
              "          if (!dataTable) return;\n",
              "\n",
              "          const docLinkHtml = 'Like what you see? Visit the ' +\n",
              "            '<a target=\"_blank\" href=https://colab.research.google.com/notebooks/data_table.ipynb>data table notebook</a>'\n",
              "            + ' to learn more about interactive tables.';\n",
              "          element.innerHTML = '';\n",
              "          dataTable['output_type'] = 'display_data';\n",
              "          await google.colab.output.renderOutput(dataTable, element);\n",
              "          const docLink = document.createElement('div');\n",
              "          docLink.innerHTML = docLinkHtml;\n",
              "          element.appendChild(docLink);\n",
              "        }\n",
              "      </script>\n",
              "    </div>\n",
              "  </div>\n",
              "  "
            ]
          },
          "metadata": {},
          "execution_count": 3
        }
      ]
    },
    {
      "cell_type": "markdown",
      "source": [
        "## **Функции для сводной информации о массиве**"
      ],
      "metadata": {
        "id": "syYsbUVWoXX7"
      }
    },
    {
      "cell_type": "markdown",
      "source": [
        "Pandas имеет в своём арсенале много простых функций для предоставления, так называемой сводной информации. Для примера, рассмотрим метод ```describe()```:"
      ],
      "metadata": {
        "id": "ZbzkERNqpCXM"
      }
    },
    {
      "cell_type": "code",
      "source": [
        "reviews['points'].describe()"
      ],
      "metadata": {
        "colab": {
          "base_uri": "https://localhost:8080/"
        },
        "id": "KjmEbbjWpUjc",
        "outputId": "83f05f80-9cca-461b-b370-2f6b810df8f1"
      },
      "execution_count": null,
      "outputs": [
        {
          "output_type": "execute_result",
          "data": {
            "text/plain": [
              "count    129971.000000\n",
              "mean         88.447138\n",
              "             ...      \n",
              "75%          91.000000\n",
              "max         100.000000\n",
              "Name: points, Length: 8, dtype: float64"
            ]
          },
          "metadata": {},
          "execution_count": 3
        }
      ]
    },
    {
      "cell_type": "markdown",
      "source": [
        "Out:\n",
        "\n",
        "![image.png](data:image/png;base64,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)"
      ],
      "metadata": {
        "id": "hdRcRQtUpbBL"
      }
    },
    {
      "cell_type": "markdown",
      "source": [
        "Данный метод предоставляет сводную информацию, которую можно получить из столбца. Этот метод зависит от типа данных в столбце, это означает, что метрики получаемые в результате использования метода, будут различаться в столбцах с разными типами данных. Информация выведенная выше, была сгенерирована для числовых значений, вот какие метрики выдаст этот метод при строковом типе данных: "
      ],
      "metadata": {
        "id": "qtMksHBapd1z"
      }
    },
    {
      "cell_type": "code",
      "source": [
        "reviews['taster_name'].describe()"
      ],
      "metadata": {
        "colab": {
          "base_uri": "https://localhost:8080/"
        },
        "id": "6vzoD7dOqcRd",
        "outputId": "ea92cfe0-fad8-4ab7-c37a-1d84bfbd66e6"
      },
      "execution_count": null,
      "outputs": [
        {
          "output_type": "execute_result",
          "data": {
            "text/plain": [
              "count         103727\n",
              "unique            19\n",
              "top       Roger Voss\n",
              "freq           25514\n",
              "Name: taster_name, dtype: object"
            ]
          },
          "metadata": {},
          "execution_count": 4
        }
      ]
    },
    {
      "cell_type": "markdown",
      "source": [
        "Out:\n",
        "\n",
        "![image.png](data:image/png;base64,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)"
      ],
      "metadata": {
        "id": "LUika6bBqh8T"
      }
    },
    {
      "cell_type": "markdown",
      "source": [
        "Если же вы хотите получить отдельные несложные сводные метрики по отдельным столбцам, в Pandas существует набор методов которые помогут вам с этим.\n",
        "\n",
        "Для примера, если мы хотим посмотреть средний-арифметический бал у всех вин, мы можем использовать метод ```mean()```:"
      ],
      "metadata": {
        "id": "qr9VT_lwqzSz"
      }
    },
    {
      "cell_type": "code",
      "source": [
        "reviews['points'].mean()"
      ],
      "metadata": {
        "id": "ZbwQWPMCsKFz"
      },
      "execution_count": null,
      "outputs": []
    },
    {
      "cell_type": "markdown",
      "source": [
        "Out:\n",
        "\n",
        "88.44713820775404"
      ],
      "metadata": {
        "id": "-4tHit4UsPXD"
      }
    },
    {
      "cell_type": "markdown",
      "source": [
        "Для просмтра **уникальных** значений в столбце, мы можем воспользоваться методом ```unique()```:"
      ],
      "metadata": {
        "id": "Crt268HOseFS"
      }
    },
    {
      "cell_type": "code",
      "source": [
        "reviews['taster_name'].unique()"
      ],
      "metadata": {
        "colab": {
          "base_uri": "https://localhost:8080/"
        },
        "id": "WW7WSWEGtTQq",
        "outputId": "9ca7d548-bd41-4ad6-826c-8daf65e4ce8c"
      },
      "execution_count": null,
      "outputs": [
        {
          "output_type": "execute_result",
          "data": {
            "text/plain": [
              "array(['Kerin O’Keefe', 'Roger Voss', 'Paul Gregutt',\n",
              "       'Alexander Peartree', 'Michael Schachner', 'Anna Lee C. Iijima',\n",
              "       'Virginie Boone', 'Matt Kettmann', nan, 'Sean P. Sullivan',\n",
              "       'Jim Gordon', 'Joe Czerwinski', 'Anne Krebiehl\\xa0MW',\n",
              "       'Lauren Buzzeo', 'Mike DeSimone', 'Jeff Jenssen',\n",
              "       'Susan Kostrzewa', 'Carrie Dykes', 'Fiona Adams',\n",
              "       'Christina Pickard'], dtype=object)"
            ]
          },
          "metadata": {},
          "execution_count": 7
        }
      ]
    },
    {
      "cell_type": "markdown",
      "source": [
        "Out:\n",
        "\n",
        "![image.png](data:image/png;base64,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)"
      ],
      "metadata": {
        "id": "yvchOcWgtdHK"
      }
    },
    {
      "cell_type": "markdown",
      "source": [
        "Для просмотра списка уникальных значений и как часто они встречаются в данных, мы можем использовать метод ```value_counts()```:"
      ],
      "metadata": {
        "id": "7-Q-RbPAub2q"
      }
    },
    {
      "cell_type": "code",
      "source": [
        "reviews['taster_name'].value_counts()"
      ],
      "metadata": {
        "colab": {
          "base_uri": "https://localhost:8080/"
        },
        "id": "JjMRLjGguuXD",
        "outputId": "29d22a46-f211-49ba-8505-1a66fb243a8b"
      },
      "execution_count": null,
      "outputs": [
        {
          "output_type": "execute_result",
          "data": {
            "text/plain": [
              "Roger Voss           25514\n",
              "Michael Schachner    15134\n",
              "                     ...  \n",
              "Fiona Adams             27\n",
              "Christina Pickard        6\n",
              "Name: taster_name, Length: 19, dtype: int64"
            ]
          },
          "metadata": {},
          "execution_count": 8
        }
      ]
    },
    {
      "cell_type": "markdown",
      "source": [
        "Out:\n",
        "\n",
        "![image.png](data:image/png;base64,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)"
      ],
      "metadata": {
        "id": "Ul3q8zOlu0Jq"
      }
    },
    {
      "cell_type": "markdown",
      "source": [
        "Мы рассмотрели лишь малую часть из всех возможных методов, посмотреть все методы, вы можете [здесь](https://pandas.pydata.org/docs/reference/api/pandas.Series.html#:~:text=empty-,Methods,-abs())"
      ],
      "metadata": {
        "id": "GIlbfWHeu3ri"
      }
    },
    {
      "cell_type": "markdown",
      "source": [
        "## **Фунции для преобразования каждого элемента или maps**\n",
        "\n"
      ],
      "metadata": {
        "id": "cTWud9vTvPGK"
      }
    },
    {
      "cell_type": "markdown",
      "source": [
        "Термин **map** пришел из математики, где он обозначает функцию, с помощью которой обратывают некую последовательность. \n",
        "\n",
        "В работе с данными часто возникает потребность в преобразовании исходных данных. Функции для обработки каждого эллемента последовательности, очень важны для вашей дальейшей работы с данными.\n",
        "\n",
        "Для таких целей есть два, часто используемых метода.\n",
        "\n",
        "Первый, так и называется, ```map()```. Рассмотрим его.\n",
        "\n",
        "Предположим, мы хотим получить разницу оценки каждого вина от среднеарифметического балла:\n",
        "\n"
      ],
      "metadata": {
        "id": "LQ10Y0SGwUyD"
      }
    },
    {
      "cell_type": "code",
      "source": [
        "# для начала найдем средний арифметический бал\n",
        "review_points_mean = reviews['points'].mean()\n",
        "\n",
        "# теперь отнимем от каждой оценки получившееся значение\n",
        "reviews['points'].map(lambda x: x - review_points_mean)"
      ],
      "metadata": {
        "colab": {
          "base_uri": "https://localhost:8080/"
        },
        "id": "065s5Yv7ywAP",
        "outputId": "ae493b37-dd7f-4981-86a9-94b9bf3c7ea2"
      },
      "execution_count": 4,
      "outputs": [
        {
          "output_type": "execute_result",
          "data": {
            "text/plain": [
              "0        -1.447138\n",
              "1        -1.447138\n",
              "            ...   \n",
              "129969    1.552862\n",
              "129970    1.552862\n",
              "Name: points, Length: 129971, dtype: float64"
            ]
          },
          "metadata": {},
          "execution_count": 4
        }
      ]
    },
    {
      "cell_type": "markdown",
      "source": [
        "Out:\n",
        "\n",
        "![image.png](data:image/png;base64,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)"
      ],
      "metadata": {
        "id": "r2Oz8E5azhVQ"
      }
    },
    {
      "cell_type": "markdown",
      "source": [
        "Функция, которую мы используем внутри ```map```, в данном случае ```lambda x: x - review_points_mean```, должна принимать на вход одно значение и возвращять одно, но уже преобразованное, значение.\n",
        "\n",
        "```map()``` же возвращяет последовательность (Series), в которой **каждый эллемент** был преобразован согласно вложенной функции.\n",
        "\n",
        "\n",
        "Второй метод, это метод ```apply()```, который является эквивалентом ```map```, но может использоваться для преобразования нескольких столбцов в каждой строки, поэтому метод ```apply()``` возвращяет новый DataFrame, а не только отдельный столбец.\n",
        "Пример использвания: "
      ],
      "metadata": {
        "id": "fFPzH358zwVY"
      }
    },
    {
      "cell_type": "code",
      "source": [
        "# функция для перобразования строки\n",
        "def remean_points(row):\n",
        "    # повторим операцию как в map\n",
        "    row['points'] = row['points'] - review_points_mean\n",
        "    # для отображения разницы apply и map\n",
        "    # преоразуем также еще один столбец\n",
        "    # приведем description к верхнему регистру\n",
        "    row['description'] = row['description'].upper()\n",
        "    return row\n",
        "\n",
        "reviews.apply(remean_points, axis='columns')"
      ],
      "metadata": {
        "id": "iLGu5Tsw2wQp"
      },
      "execution_count": 9,
      "outputs": []
    },
    {
      "cell_type": "markdown",
      "source": [
        "Out:\n",
        "\n",
        "|    | country   | description                                                                                                                                                                                                                         | designation   |   points |   price | province          | region_1   |   region_2 | taster_name   | taster_twitter_handle   | title                                         | variety        | winery              |\n",
        "|---:|:----------|:------------------------------------------------------------------------------------------------------------------------------------------------------------------------------------------------------------------------------------|:--------------|---------:|--------:|:------------------|:-----------|-----------:|:--------------|:------------------------|:----------------------------------------------|:---------------|:--------------------|\n",
        "|  0 | Italy     | AROMAS INCLUDE TROPICAL FRUIT, BROOM, BRIMSTONE AND DRIED HERB. THE PALATE ISN'T OVERLY EXPRESSIVE, OFFERING UNRIPENED APPLE, CITRUS AND DRIED SAGE ALONGSIDE BRISK ACIDITY.                                                        | Vulkà Bianco  | -1.44714 |     nan | Sicily & Sardinia | Etna       |        nan | Kerin O’Keefe | @kerinokeefe            | Nicosia 2013 Vulkà Bianco  (Etna)             | White Blend    | Nicosia             |\n",
        "|  1 | Portugal  | THIS IS RIPE AND FRUITY, A WINE THAT IS SMOOTH WHILE STILL STRUCTURED. FIRM TANNINS ARE FILLED OUT WITH JUICY RED BERRY FRUITS AND FRESHENED WITH ACIDITY. IT'S  ALREADY DRINKABLE, ALTHOUGH IT WILL CERTAINLY BE BETTER FROM 2016. | Avidagos      | -1.44714 |      15 | Douro             | nan        |        nan | Roger Voss    | @vossroger              | Quinta dos Avidagos 2011 Avidagos Red (Douro) | Portuguese Red | Quinta dos Avidagos |\n",
        "|...|...|...|...|...|...|...|...|...|...|...|...|...|...|\n",
        "| 129969 | France    | A DRY STYLE OF PINOT GRIS, THIS IS CRISP WITH SOME ACIDITY. IT ALSO HAS WEIGHT AND A SOLID, POWERFUL CORE OF SPICE AND BAKED APPLE FLAVORS. WITH ITS STRUCTURE STILL DEVELOPING, THE WINE NEEDS TO AGE. DRINK FROM 2015. | nan                           |  1.55286 |      32 | Alsace     | Alsace     |        nan | Roger Voss    | @vossroger              | Domaine Marcel Deiss 2012 Pinot Gris (Alsace)                               | Pinot Gris     | Domaine Marcel Deiss |\n",
        "| 129970 | France    | BIG, RICH AND OFF-DRY, THIS IS POWERED BY INTENSE SPICINESS AND ROUNDED TEXTURE. LYCHEES DOMINATE THE FRUIT PROFILE, GIVING AN OPULENT FEEL TO THE AFTERTASTE. DRINK NOW.                                                | Lieu-dit Harth Cuvée Caroline |  1.55286 |      21 | Alsace     | Alsace     |        nan | Roger Voss    | @vossroger              | Domaine Schoffit 2012 Lieu-dit Harth Cuvée Caroline Gewurztraminer (Alsace) | Gewürztraminer | Domaine Schoffit     |"
      ],
      "metadata": {
        "id": "-OHr7OV-5MA2"
      }
    },
    {
      "cell_type": "markdown",
      "source": [
        "Если использовать метод ```apply()``` c параметром ```axis='index'```, вместо функции для преобразования каждой строки, необходимо будет использовать функцию для преобразования каждого *столбца*.\n",
        "\n",
        ">Примечание: методы ```map`` и ```apply``` возвращяют новые, преобразованные Series и DataFrame соответсвенно. Но они не изменяют исходные данные.\n",
        "\n",
        ">Если мы посмотрим на первую строку DataFrame ```reviwes```, то увидим, что исходные данные не были преобразованы:"
      ],
      "metadata": {
        "id": "h8VbwMF65rFE"
      }
    },
    {
      "cell_type": "markdown",
      "source": [
        "Out:\n",
        "\n",
        "|    | country   | description                                                                                                                                                                  | designation   |   points |   price | province          | region_1   |   region_2 | taster_name   | taster_twitter_handle   | title                             | variety     | winery   |\n",
        "|---:|:----------|:-----------------------------------------------------------------------------------------------------------------------------------------------------------------------------|:--------------|---------:|--------:|:------------------|:-----------|-----------:|:--------------|:------------------------|:----------------------------------|:------------|:---------|\n",
        "|  0 | Italy     | Aromas include tropical fruit, broom, brimstone and dried herb. The palate isn't overly expressive, offering unripened apple, citrus and dried sage alongside brisk acidity. | Vulkà Bianco  |       87 |     nan | Sicily & Sardinia | Etna       |        nan | Kerin O’Keefe | @kerinokeefe            | Nicosia 2013 Vulkà Bianco  (Etna) | White Blend | Nicosia  |"
      ],
      "metadata": {
        "id": "-dO3ZStC8otE"
      }
    },
    {
      "cell_type": "markdown",
      "source": [
        "Больше информации о этих методах можно подчерпнуть из документации:\n",
        "\n",
        ">Ссылка на документацию по [map](https://pandas.pydata.org/pandas-docs/stable/reference/api/pandas.Series.map.html)\n",
        "\n",
        ">Ссылка на документацию по [apply](https://pandas.pydata.org/pandas-docs/stable/reference/api/pandas.DataFrame.apply.html)"
      ],
      "metadata": {
        "id": "cg9FmDmL0yQ-"
      }
    },
    {
      "cell_type": "markdown",
      "source": [
        "Pandas предоставляет множество способов быстрого преобразования и отображения данных, вот как можно бысто посмотреть разницу баллов от среднего:"
      ],
      "metadata": {
        "id": "BKomHFvX9fBx"
      }
    },
    {
      "cell_type": "code",
      "source": [
        "# переменная со средним\n",
        "review_points_mean = reviews['points'].mean()\n",
        "\n",
        "reviews['points'] - review_points_mean"
      ],
      "metadata": {
        "id": "eUxDwPRSANhN"
      },
      "execution_count": null,
      "outputs": []
    },
    {
      "cell_type": "markdown",
      "source": [
        "Out:\n",
        "\n",
        "![image.png](data:image/png;base64,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)"
      ],
      "metadata": {
        "id": "NOrs2S0rAWaO"
      }
    },
    {
      "cell_type": "markdown",
      "source": [
        "В этом коде мы выполняем операцию между множеством данных с левой стороны (всеми данными в Series) и одиночным значением с правой стороны (среднее арифметическое). В таких случях Pandas понимает, что необходимо совершить опреацию с помощью одиночного выражения с каждым элементом множества.\n",
        "\n",
        "Pandas также понимает операции между двуми Series(столбцами) или между Series и равному ей по длинне объекту (например списку). Для примера, соединить столбцы ```country``` и ```region``` в датасете, можно вот таким способом:"
      ],
      "metadata": {
        "id": "g8PQwO8VApkh"
      }
    },
    {
      "cell_type": "code",
      "source": [
        "# плюс в данном случае подразумевает конкатенацию\n",
        "reviews['country'] + \" - \" + reviews['region_1']"
      ],
      "metadata": {
        "id": "Z5kEHSajDLVA"
      },
      "execution_count": null,
      "outputs": []
    },
    {
      "cell_type": "markdown",
      "source": [
        "Out:\n",
        "\n",
        "![image.png](data:image/png;base64,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)"
      ],
      "metadata": {
        "id": "IotiOlgpDORQ"
      }
    },
    {
      "cell_type": "markdown",
      "source": [
        "Эти операции быстрее чем ```apply``` и ```map```, потому что они используют ускорители встроенные в Pandas.\n",
        "\n",
        "Однако они не такие гибкие как ```apply``` и ```map```, в которых функционал позволяет выполнять сложнейшие преобразования ."
      ],
      "metadata": {
        "id": "FXjL9ONODSmf"
      }
    }
  ]
}