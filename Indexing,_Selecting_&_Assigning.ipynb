{
  "nbformat": 4,
  "nbformat_minor": 0,
  "metadata": {
    "colab": {
      "name": "Indexing, Selecting & Assigning.ipynb",
      "provenance": [],
      "collapsed_sections": [],
      "authorship_tag": "ABX9TyNMPtQ1GkxIcuf7mQFSXo2S",
      "include_colab_link": true
    },
    "kernelspec": {
      "name": "python3",
      "display_name": "Python 3"
    },
    "language_info": {
      "name": "python"
    }
  },
  "cells": [
    {
      "cell_type": "markdown",
      "metadata": {
        "id": "view-in-github",
        "colab_type": "text"
      },
      "source": [
        "<a href=\"https://colab.research.google.com/github/sergeymasl/pandas_cource/blob/main/Indexing%2C_Selecting_%26_Assigning.ipynb\" target=\"_parent\"><img src=\"https://colab.research.google.com/assets/colab-badge.svg\" alt=\"Open In Colab\"/></a>"
      ]
    },
    {
      "cell_type": "markdown",
      "source": [
        "# **Indexing, Selecting & Assigning**\n",
        "\n",
        "Работа по выбору(фильтрации) данных в DataFrame или Series и получению, необходимых в моменте, данных, будет происходит в большинстве операций, которые вы будете совершать в своей работе.\n",
        "Поэтому одна из первых вещей, которую вам необходимо изучить - это как быстро и эффективно выбрать из всего массива данных ту часть, которая релевантна для вас в моменте.\n",
        "\n",
        "\n",
        "https://drive.google.com/uc?export=download&id=1z-1idT4mGbOvHgmEPzneqV54EJ1-w7tk"
      ],
      "metadata": {
        "id": "qqbVHC6BdCbx"
      }
    },
    {
      "cell_type": "code",
      "source": [
        "# импорт библиотеки\n",
        "import pandas as pd\n",
        "# загрузка датасета для дальнейшей работы\n",
        "reviews = pd.read_csv(\"https://drive.google.com/uc?export=download&id=1z-1idT4mGbOvHgmEPzneqV54EJ1-w7tk\", index_col=0)\n",
        "# настройки по отображению строк\n",
        "pd.set_option('max_rows', 5)"
      ],
      "metadata": {
        "id": "vCsP0JPZgnth"
      },
      "execution_count": 2,
      "outputs": []
    },
    {
      "cell_type": "markdown",
      "source": [
        "## **Встроенные возможности Python**"
      ],
      "metadata": {
        "id": "GAbuzJ_0hoag"
      }
    },
    {
      "cell_type": "markdown",
      "source": [
        "Язык Python уже использует удобные способы индексации данных (например индексы и срезы в строках и списках, ключи в словарях). Pandas вобрал в себя все эти способы, что позволяет легко начать работу с ним.\n",
        "\n",
        "Рассмотрим DataFrame загруженный выше:"
      ],
      "metadata": {
        "id": "t3pHD-SEiB5_"
      }
    },
    {
      "cell_type": "code",
      "source": [
        "reviews"
      ],
      "metadata": {
        "colab": {
          "base_uri": "https://localhost:8080/",
          "height": 236
        },
        "id": "63aQETI-irlg",
        "outputId": "fed0b00f-658e-421e-d86c-5ccfda6b064b"
      },
      "execution_count": 5,
      "outputs": [
        {
          "output_type": "execute_result",
          "data": {
            "text/plain": [
              "         country                                        description  \\\n",
              "0          Italy  Aromas include tropical fruit, broom, brimston...   \n",
              "1       Portugal  This is ripe and fruity, a wine that is smooth...   \n",
              "...          ...                                                ...   \n",
              "129969    France  A dry style of Pinot Gris, this is crisp with ...   \n",
              "129970    France  Big, rich and off-dry, this is powered by inte...   \n",
              "\n",
              "                          designation  points  price           province  \\\n",
              "0                        Vulkà Bianco      87    NaN  Sicily & Sardinia   \n",
              "1                            Avidagos      87   15.0              Douro   \n",
              "...                               ...     ...    ...                ...   \n",
              "129969                            NaN      90   32.0             Alsace   \n",
              "129970  Lieu-dit Harth Cuvée Caroline      90   21.0             Alsace   \n",
              "\n",
              "       region_1 region_2    taster_name taster_twitter_handle  \\\n",
              "0          Etna      NaN  Kerin O’Keefe          @kerinokeefe   \n",
              "1           NaN      NaN     Roger Voss            @vossroger   \n",
              "...         ...      ...            ...                   ...   \n",
              "129969   Alsace      NaN     Roger Voss            @vossroger   \n",
              "129970   Alsace      NaN     Roger Voss            @vossroger   \n",
              "\n",
              "                                                    title         variety  \\\n",
              "0                       Nicosia 2013 Vulkà Bianco  (Etna)     White Blend   \n",
              "1           Quinta dos Avidagos 2011 Avidagos Red (Douro)  Portuguese Red   \n",
              "...                                                   ...             ...   \n",
              "129969      Domaine Marcel Deiss 2012 Pinot Gris (Alsace)      Pinot Gris   \n",
              "129970  Domaine Schoffit 2012 Lieu-dit Harth Cuvée Car...  Gewürztraminer   \n",
              "\n",
              "                      winery  \n",
              "0                    Nicosia  \n",
              "1        Quinta dos Avidagos  \n",
              "...                      ...  \n",
              "129969  Domaine Marcel Deiss  \n",
              "129970      Domaine Schoffit  \n",
              "\n",
              "[129971 rows x 13 columns]"
            ],
            "text/html": [
              "\n",
              "  <div id=\"df-45f0cb94-c406-46e7-ac3f-b63a5dbef08b\">\n",
              "    <div class=\"colab-df-container\">\n",
              "      <div>\n",
              "<style scoped>\n",
              "    .dataframe tbody tr th:only-of-type {\n",
              "        vertical-align: middle;\n",
              "    }\n",
              "\n",
              "    .dataframe tbody tr th {\n",
              "        vertical-align: top;\n",
              "    }\n",
              "\n",
              "    .dataframe thead th {\n",
              "        text-align: right;\n",
              "    }\n",
              "</style>\n",
              "<table border=\"1\" class=\"dataframe\">\n",
              "  <thead>\n",
              "    <tr style=\"text-align: right;\">\n",
              "      <th></th>\n",
              "      <th>country</th>\n",
              "      <th>description</th>\n",
              "      <th>designation</th>\n",
              "      <th>points</th>\n",
              "      <th>price</th>\n",
              "      <th>province</th>\n",
              "      <th>region_1</th>\n",
              "      <th>region_2</th>\n",
              "      <th>taster_name</th>\n",
              "      <th>taster_twitter_handle</th>\n",
              "      <th>title</th>\n",
              "      <th>variety</th>\n",
              "      <th>winery</th>\n",
              "    </tr>\n",
              "  </thead>\n",
              "  <tbody>\n",
              "    <tr>\n",
              "      <th>0</th>\n",
              "      <td>Italy</td>\n",
              "      <td>Aromas include tropical fruit, broom, brimston...</td>\n",
              "      <td>Vulkà Bianco</td>\n",
              "      <td>87</td>\n",
              "      <td>NaN</td>\n",
              "      <td>Sicily &amp; Sardinia</td>\n",
              "      <td>Etna</td>\n",
              "      <td>NaN</td>\n",
              "      <td>Kerin O’Keefe</td>\n",
              "      <td>@kerinokeefe</td>\n",
              "      <td>Nicosia 2013 Vulkà Bianco  (Etna)</td>\n",
              "      <td>White Blend</td>\n",
              "      <td>Nicosia</td>\n",
              "    </tr>\n",
              "    <tr>\n",
              "      <th>1</th>\n",
              "      <td>Portugal</td>\n",
              "      <td>This is ripe and fruity, a wine that is smooth...</td>\n",
              "      <td>Avidagos</td>\n",
              "      <td>87</td>\n",
              "      <td>15.0</td>\n",
              "      <td>Douro</td>\n",
              "      <td>NaN</td>\n",
              "      <td>NaN</td>\n",
              "      <td>Roger Voss</td>\n",
              "      <td>@vossroger</td>\n",
              "      <td>Quinta dos Avidagos 2011 Avidagos Red (Douro)</td>\n",
              "      <td>Portuguese Red</td>\n",
              "      <td>Quinta dos Avidagos</td>\n",
              "    </tr>\n",
              "    <tr>\n",
              "      <th>...</th>\n",
              "      <td>...</td>\n",
              "      <td>...</td>\n",
              "      <td>...</td>\n",
              "      <td>...</td>\n",
              "      <td>...</td>\n",
              "      <td>...</td>\n",
              "      <td>...</td>\n",
              "      <td>...</td>\n",
              "      <td>...</td>\n",
              "      <td>...</td>\n",
              "      <td>...</td>\n",
              "      <td>...</td>\n",
              "      <td>...</td>\n",
              "    </tr>\n",
              "    <tr>\n",
              "      <th>129969</th>\n",
              "      <td>France</td>\n",
              "      <td>A dry style of Pinot Gris, this is crisp with ...</td>\n",
              "      <td>NaN</td>\n",
              "      <td>90</td>\n",
              "      <td>32.0</td>\n",
              "      <td>Alsace</td>\n",
              "      <td>Alsace</td>\n",
              "      <td>NaN</td>\n",
              "      <td>Roger Voss</td>\n",
              "      <td>@vossroger</td>\n",
              "      <td>Domaine Marcel Deiss 2012 Pinot Gris (Alsace)</td>\n",
              "      <td>Pinot Gris</td>\n",
              "      <td>Domaine Marcel Deiss</td>\n",
              "    </tr>\n",
              "    <tr>\n",
              "      <th>129970</th>\n",
              "      <td>France</td>\n",
              "      <td>Big, rich and off-dry, this is powered by inte...</td>\n",
              "      <td>Lieu-dit Harth Cuvée Caroline</td>\n",
              "      <td>90</td>\n",
              "      <td>21.0</td>\n",
              "      <td>Alsace</td>\n",
              "      <td>Alsace</td>\n",
              "      <td>NaN</td>\n",
              "      <td>Roger Voss</td>\n",
              "      <td>@vossroger</td>\n",
              "      <td>Domaine Schoffit 2012 Lieu-dit Harth Cuvée Car...</td>\n",
              "      <td>Gewürztraminer</td>\n",
              "      <td>Domaine Schoffit</td>\n",
              "    </tr>\n",
              "  </tbody>\n",
              "</table>\n",
              "<p>129971 rows × 13 columns</p>\n",
              "</div>\n",
              "      <button class=\"colab-df-convert\" onclick=\"convertToInteractive('df-45f0cb94-c406-46e7-ac3f-b63a5dbef08b')\"\n",
              "              title=\"Convert this dataframe to an interactive table.\"\n",
              "              style=\"display:none;\">\n",
              "        \n",
              "  <svg xmlns=\"http://www.w3.org/2000/svg\" height=\"24px\"viewBox=\"0 0 24 24\"\n",
              "       width=\"24px\">\n",
              "    <path d=\"M0 0h24v24H0V0z\" fill=\"none\"/>\n",
              "    <path d=\"M18.56 5.44l.94 2.06.94-2.06 2.06-.94-2.06-.94-.94-2.06-.94 2.06-2.06.94zm-11 1L8.5 8.5l.94-2.06 2.06-.94-2.06-.94L8.5 2.5l-.94 2.06-2.06.94zm10 10l.94 2.06.94-2.06 2.06-.94-2.06-.94-.94-2.06-.94 2.06-2.06.94z\"/><path d=\"M17.41 7.96l-1.37-1.37c-.4-.4-.92-.59-1.43-.59-.52 0-1.04.2-1.43.59L10.3 9.45l-7.72 7.72c-.78.78-.78 2.05 0 2.83L4 21.41c.39.39.9.59 1.41.59.51 0 1.02-.2 1.41-.59l7.78-7.78 2.81-2.81c.8-.78.8-2.07 0-2.86zM5.41 20L4 18.59l7.72-7.72 1.47 1.35L5.41 20z\"/>\n",
              "  </svg>\n",
              "      </button>\n",
              "      \n",
              "  <style>\n",
              "    .colab-df-container {\n",
              "      display:flex;\n",
              "      flex-wrap:wrap;\n",
              "      gap: 12px;\n",
              "    }\n",
              "\n",
              "    .colab-df-convert {\n",
              "      background-color: #E8F0FE;\n",
              "      border: none;\n",
              "      border-radius: 50%;\n",
              "      cursor: pointer;\n",
              "      display: none;\n",
              "      fill: #1967D2;\n",
              "      height: 32px;\n",
              "      padding: 0 0 0 0;\n",
              "      width: 32px;\n",
              "    }\n",
              "\n",
              "    .colab-df-convert:hover {\n",
              "      background-color: #E2EBFA;\n",
              "      box-shadow: 0px 1px 2px rgba(60, 64, 67, 0.3), 0px 1px 3px 1px rgba(60, 64, 67, 0.15);\n",
              "      fill: #174EA6;\n",
              "    }\n",
              "\n",
              "    [theme=dark] .colab-df-convert {\n",
              "      background-color: #3B4455;\n",
              "      fill: #D2E3FC;\n",
              "    }\n",
              "\n",
              "    [theme=dark] .colab-df-convert:hover {\n",
              "      background-color: #434B5C;\n",
              "      box-shadow: 0px 1px 3px 1px rgba(0, 0, 0, 0.15);\n",
              "      filter: drop-shadow(0px 1px 2px rgba(0, 0, 0, 0.3));\n",
              "      fill: #FFFFFF;\n",
              "    }\n",
              "  </style>\n",
              "\n",
              "      <script>\n",
              "        const buttonEl =\n",
              "          document.querySelector('#df-45f0cb94-c406-46e7-ac3f-b63a5dbef08b button.colab-df-convert');\n",
              "        buttonEl.style.display =\n",
              "          google.colab.kernel.accessAllowed ? 'block' : 'none';\n",
              "\n",
              "        async function convertToInteractive(key) {\n",
              "          const element = document.querySelector('#df-45f0cb94-c406-46e7-ac3f-b63a5dbef08b');\n",
              "          const dataTable =\n",
              "            await google.colab.kernel.invokeFunction('convertToInteractive',\n",
              "                                                     [key], {});\n",
              "          if (!dataTable) return;\n",
              "\n",
              "          const docLinkHtml = 'Like what you see? Visit the ' +\n",
              "            '<a target=\"_blank\" href=https://colab.research.google.com/notebooks/data_table.ipynb>data table notebook</a>'\n",
              "            + ' to learn more about interactive tables.';\n",
              "          element.innerHTML = '';\n",
              "          dataTable['output_type'] = 'display_data';\n",
              "          await google.colab.output.renderOutput(dataTable, element);\n",
              "          const docLink = document.createElement('div');\n",
              "          docLink.innerHTML = docLinkHtml;\n",
              "          element.appendChild(docLink);\n",
              "        }\n",
              "      </script>\n",
              "    </div>\n",
              "  </div>\n",
              "  "
            ]
          },
          "metadata": {},
          "execution_count": 5
        }
      ]
    },
    {
      "cell_type": "markdown",
      "source": [
        "|    | country   | description                                                                                                                                                                                                                         | designation   |   points |   price | province          | region_1   |   region_2 | taster_name   | taster_twitter_handle   | title                                         | variety        | winery              |\n",
        "|---:|:----------|:------------------------------------------------------------------------------------------------------------------------------------------------------------------------------------------------------------------------------------|:--------------|---------:|--------:|:------------------|:-----------|-----------:|:--------------|:------------------------|:----------------------------------------------|:---------------|:--------------------|\n",
        "|  0 | Italy     | Aromas include tropical fruit, broom, brimstone and dried herb. The palate isn't overly expressive, offering unripened apple, citrus and dried sage alongside brisk acidity.                                                        | Vulkà Bianco  |       87 |     nan | Sicily & Sardinia | Etna       |        nan | Kerin O’Keefe | @kerinokeefe            | Nicosia 2013 Vulkà Bianco  (Etna)             | White Blend    | Nicosia             |\n",
        "|  1 | Portugal  | This is ripe and fruity, a wine that is smooth while still structured. Firm tannins are filled out with juicy red berry fruits and freshened with acidity. It's  already drinkable, although it will certainly be better from 2016. | Avidagos      |       87 |      15 | Douro             | nan        |        nan | Roger Voss    | @vossroger              | Quinta dos Avidagos 2011 Avidagos Red (Douro) | Portuguese Red | Quinta dos Avidagos |\n",
        "| ...|...| ...| ...  |       ... |     ...| ... |... |... | ... | ...| ...| ...|...|\n",
        "| 129969 | France    | A dry style of Pinot Gris, this is crisp with some acidity. It also has weight and a solid, powerful core of spice and baked apple flavors. With its structure still developing, the wine needs to age. Drink from 2015. | nan                           |       90 |      32 | Alsace     | Alsace     |        nan | Roger Voss    | @vossroger              | Domaine Marcel Deiss 2012 Pinot Gris (Alsace)                               | Pinot Gris     | Domaine Marcel Deiss |\n",
        "| 129970 | France    | Big, rich and off-dry, this is powered by intense spiciness and rounded texture. Lychees dominate the fruit profile, giving an opulent feel to the aftertaste. Drink now.                                                | Lieu-dit Harth Cuvée Caroline |       90 |      21 | Alsace     | Alsace     |        nan | Roger Voss    | @vossroger              | Domaine Schoffit 2012 Lieu-dit Harth Cuvée Caroline Gewurztraminer (Alsace) | Gewürztraminer | Domaine Schoffit     |"
      ],
      "metadata": {
        "id": "KWs1DauAz5zO"
      }
    },
    {
      "cell_type": "markdown",
      "source": [
        "В Python мы можем вызвать свойство класса, обратившись к нему как объекту класса. Например, класс ```книга``` скорее всего имеет объект ```оглавление``` и мы можем обратиться в этому объекту вот так: ```книга.оглавление```. Вызов столбцов в DataFrame работает таким же образом.\n",
        "\n",
        "Следовательно, чтобы вызвать столбец ```counry``` из DataFrame ```reviews```, который мы используем в примере, использую вот такой код:"
      ],
      "metadata": {
        "id": "D0scigc07Cgr"
      }
    },
    {
      "cell_type": "code",
      "source": [
        "reviews.country"
      ],
      "metadata": {
        "id": "8ubBLMaK8nlL"
      },
      "execution_count": null,
      "outputs": []
    },
    {
      "cell_type": "markdown",
      "source": [
        "![image.png](data:image/png;base64,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)"
      ],
      "metadata": {
        "id": "XX6eXk7B8sEC"
      }
    },
    {
      "cell_type": "markdown",
      "source": [
        "Также в словаре(```dict```) Python, мы можем вызвать значение по ключу используя квадратные скобки, вот так ```dict['key']```. Мы можем сделать такую же операцию и при вызове столбца из DataFrame:"
      ],
      "metadata": {
        "id": "89b7ZSyx8_FM"
      }
    },
    {
      "cell_type": "code",
      "source": [
        "reviews['country']"
      ],
      "metadata": {
        "colab": {
          "base_uri": "https://localhost:8080/"
        },
        "id": "cr1mflRe9kdJ",
        "outputId": "1362edaf-5e30-436b-c867-d09f69e50bb3"
      },
      "execution_count": 9,
      "outputs": [
        {
          "output_type": "execute_result",
          "data": {
            "text/plain": [
              "0            Italy\n",
              "1         Portugal\n",
              "            ...   \n",
              "129969      France\n",
              "129970      France\n",
              "Name: country, Length: 129971, dtype: object"
            ]
          },
          "metadata": {},
          "execution_count": 9
        }
      ]
    },
    {
      "cell_type": "markdown",
      "source": [
        "![image.png](data:image/png;base64,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)"
      ],
      "metadata": {
        "id": "11mOIXqC9nfI"
      }
    },
    {
      "cell_type": "markdown",
      "source": [
        "Есть два способа выбора Series, то есть столбца, из DataFrame. Ни один из них ни правельнее, ни ошибочны по синтаксису"
      ],
      "metadata": {
        "id": "c-8e54u8-BCi"
      }
    }
  ]
}