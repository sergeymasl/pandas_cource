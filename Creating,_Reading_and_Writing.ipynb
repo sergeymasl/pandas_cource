{
  "nbformat": 4,
  "nbformat_minor": 0,
  "metadata": {
    "colab": {
      "name": "Creating, Reading and Writing.ipynb",
      "provenance": [],
      "collapsed_sections": [],
      "toc_visible": true,
      "authorship_tag": "ABX9TyMOK3DAJpa35WIEwFXSLMAg",
      "include_colab_link": true
    },
    "kernelspec": {
      "name": "python3",
      "display_name": "Python 3"
    },
    "language_info": {
      "name": "python"
    }
  },
  "cells": [
    {
      "cell_type": "markdown",
      "metadata": {
        "id": "view-in-github",
        "colab_type": "text"
      },
      "source": [
        "<a href=\"https://colab.research.google.com/github/sergeymasl/pandas_cource/blob/main/Creating%2C_Reading_and_Writing.ipynb\" target=\"_parent\"><img src=\"https://colab.research.google.com/assets/colab-badge.svg\" alt=\"Open In Colab\"/></a>"
      ]
    },
    {
      "cell_type": "markdown",
      "source": [
        "# **Creating, Reading and Writing**"
      ],
      "metadata": {
        "id": "DsZCOaqfrC45"
      }
    },
    {
      "cell_type": "markdown",
      "source": [
        "## Вступление\n",
        "В этом мини-курсе вы познакомитесь и изучите основы библиотеки [pandas](https://pandas.pydata.org/), самой популярной библиотеки Python для анализа данных.\n",
        "\n",
        "Во время обучения, вы самостоятельно выполните несколько упражнений на реальных данных. После прочтения блоков курса, рекомендуется выполнять блоки соответствующих упражнений.\n",
        "\n",
        "\n",
        "В этом блоке вы изучете, как создать ваш собственный массив данных и как работать с уже созданными данными."
      ],
      "metadata": {
        "id": "EX0WfS4CrL9p"
      }
    },
    {
      "cell_type": "markdown",
      "source": [
        "## Начало работы\n",
        "\n",
        "При работе с библиотекой pandas, вы, как правило, будете начинать свою работу со следующего кода:"
      ],
      "metadata": {
        "id": "nSg7Iuk-s5EZ"
      }
    },
    {
      "cell_type": "code",
      "execution_count": 2,
      "metadata": {
        "id": "tPi9njTlY0zG"
      },
      "outputs": [],
      "source": [
        "import pandas as pd"
      ]
    },
    {
      "cell_type": "markdown",
      "source": [
        "## Создание фрейма данных\n",
        "\n",
        "В библиотеке Pandas есть два ключевых объекта: **DataFrame** и **Series**"
      ],
      "metadata": {
        "id": "_WMSfloMufsw"
      }
    },
    {
      "cell_type": "markdown",
      "source": [
        "### DataFrame\n",
        "\n",
        "Говоря простыми словами DataFrame это таблица. Он содержит набор *ячеек* каждая из которых содержит собственное значение. Каждой ячейке соответсвует *строка* и *столбец*.\n",
        "\n",
        "Для примера, расмотрим ниже простой DataFrame:\n"
      ],
      "metadata": {
        "id": "az2em-UQu1Ax"
      }
    },
    {
      "cell_type": "code",
      "source": [
        "pd.DataFrame({'Yes' : [50, 21], 'No' : [131, 2]})"
      ],
      "metadata": {
        "id": "M3-h1H1HufKp"
      },
      "execution_count": null,
      "outputs": []
    },
    {
      "cell_type": "markdown",
      "source": [
        "\n",
        "|    |   Yes |   No |\n",
        "|---:|------:|-----:|\n",
        "|  0 |    50 |  131 |\n",
        "|  1 |    21 |    2 |\n",
        "\n",
        "\\\n",
        "\n",
        "В этом примере, *ячейка* с *адресом* \"0, No\" имеет значение 131. *ячейка* с *адресом* \"0, Yes\" имеет значение 50, и так далее."
      ],
      "metadata": {
        "id": "IT7A35K2Onm0"
      }
    },
    {
      "cell_type": "markdown",
      "source": [
        "\n",
        "Значения в DataFrame не ограничиваются только целыми числами (```Int```). Для примера вот DataFrame в котором данные являются строками (```Str```)"
      ],
      "metadata": {
        "id": "I8_ASNiuD3Fu"
      }
    },
    {
      "cell_type": "code",
      "source": [
        "pd.DataFrame({'Bob': ['I liked it.', 'It was awful.'], 'Sue': ['Pretty good.', 'Bland.']})"
      ],
      "metadata": {
        "id": "Ehj7rkVGEXnm"
      },
      "execution_count": null,
      "outputs": []
    },
    {
      "cell_type": "markdown",
      "source": [
        "|    | Bob           | Sue          |\n",
        "|---:|:--------------|:-------------|\n",
        "|  0 | I liked it.   | Pretty good. |\n",
        "|  1 | It was awful. | Bland.       |"
      ],
      "metadata": {
        "id": "O76Efa6vMx-k"
      }
    },
    {
      "cell_type": "markdown",
      "source": [
        "Мы использовали конструкцию ```pd.DataFrame()``` для создания этих объектов DataFrame. Синтаксис, сообщающий системе о создании нового DataFrame, это словарь (```dict```), ключи которого ивляются **именами столбцов** (```Bod``` и ```Sue``` в примере), а значения - это списки (```list```) с данными в столбцах. Это один из стандартных способ создания нового DataFrame, который будет встречаться вам наиболее часто.\n",
        "\n",
        "\\\n",
        "Конструкция со словарем сообщает **имена столбцов**, но при этом использует нумерация строк от 0 (0,1,2,3,...) для **имен строк**. Иногда это нормально, но чаще всего мы заходим дать **имена этим строка** самостоятельно, для лучшей ориентации в данных.\n",
        "\n",
        "**Имена строк** в DataFrame (и не только в нем) именуются как **index**. Мы можем самостоятельно назначить индексы использую параметр ```index``` при создании DataFrame."
      ],
      "metadata": {
        "id": "8UCSayZuIAFv"
      }
    },
    {
      "cell_type": "code",
      "source": [
        "pd.DataFrame({'Bob': ['I liked it.', 'It was awful.'], \n",
        "              'Sue': ['Pretty good.', 'Bland.']},\n",
        "             index=['Product A', 'Product B'])"
      ],
      "metadata": {
        "id": "fsBEQt9VMiF2"
      },
      "execution_count": null,
      "outputs": []
    },
    {
      "cell_type": "markdown",
      "source": [
        "|           | Bob           | Sue          |\n",
        "|:----------|:--------------|:-------------|\n",
        "| Product A | I liked it.   | Pretty good. |\n",
        "| Product B | It was awful. | Bland.       |\n"
      ],
      "metadata": {
        "id": "yvhfOk7VMuZ8"
      }
    },
    {
      "cell_type": "markdown",
      "source": [
        "### Series\n",
        "\n",
        "Series представляет собой набор данных. Если DataFrame это таблица, то Series это список. Поэтому вы можете создать Series используя лишь один список:"
      ],
      "metadata": {
        "id": "FPpgk7mVM848"
      }
    },
    {
      "cell_type": "code",
      "source": [
        "pd.Series([1, 2, 3, 4, 5])"
      ],
      "metadata": {
        "id": "ZQOyMgXkPTkn"
      },
      "execution_count": null,
      "outputs": []
    },
    {
      "cell_type": "markdown",
      "source": [
        "|    |   0 |\n",
        "|---:|----:|\n",
        "|  0 |   1 |\n",
        "|  1 |   2 |\n",
        "|  2 |   3 |\n",
        "|  3 |   4 |\n",
        "|  4 |   5 |"
      ],
      "metadata": {
        "id": "xoFJa7oiPYF8"
      }
    },
    {
      "cell_type": "markdown",
      "source": [
        "Series, по сути, это один столбец из DataFrame. Так что вы можете создать **имена строк** так же как мы сделали это ранее, использую параметр ```index```. Однако Sereies не имеет **имен столбцов**, у неё есть лишь общее название, параметр ```name```."
      ],
      "metadata": {
        "id": "Uel3NoXMPg_9"
      }
    },
    {
      "cell_type": "code",
      "source": [
        "pd.Series([30, 35, 40], index=['2015 Sales', '2016 Sales', '2017 Sales'], name='Product A').to_markdown()"
      ],
      "metadata": {
        "id": "R8b8MhXoQUQV"
      },
      "execution_count": null,
      "outputs": []
    },
    {
      "cell_type": "markdown",
      "source": [
        "|            |   Product A |\n",
        "|:-----------|------------:|\n",
        "| 2015 Sales |          30 |\n",
        "| 2016 Sales |          35 |\n",
        "| 2017 Sales |          40 |"
      ],
      "metadata": {
        "id": "AvkFg3NYQbm1"
      }
    },
    {
      "cell_type": "markdown",
      "source": [
        "Series и DataFrame тесно связаны. На самом деле DataFrame, это \"склееный вместе\" набор Series. Мы понакомимся с этим поближе в следующих блоках курса. "
      ],
      "metadata": {
        "id": "Y1GLJtbeQfAt"
      }
    },
    {
      "cell_type": "markdown",
      "source": [
        "### Чтение файлов с данными\n",
        "\n",
        "Возможность создавать DataFrame и Series вручную очень важна и удобна. Но, в большинстве случаев, мы не будем создавать наши данные вручную. Вместо этого, мы будем работать с данными каторые уже созданы.\n",
        "\n",
        "Данные могут храниться во множестве разных форм и форматов. Безусловно, самый распространенный и простой из них это CSV файл. Если вы откроете CSV файл вы увидите что то похожее на это:\n",
        "\n",
        "```\n",
        "Product A,Product B,Product C,\n",
        "30,21,9,\n",
        "35,34,1,\n",
        "41,11,11\n",
        "```\n",
        "\n",
        "То есть CSV файл это строчки с данными, столбцы в которых разделены запятыми.CSV так и расшифрововется: \"Comma-Separated Values\" - данные разделенные запятыми.\n",
        "Стоит отметить, что разделитем может выступать и другие символы, наиболее распространенные из них, наряду с запятой, это точка с запятой и табуляция.\n",
        "\n",
        "\n",
        "Давайте отложим наши игрушечные наборы данных и посмотри как выглядит реальный набор данных, когда мы загрузим его в DataFrame. Мы будем использовать конструкцию ```pd.read_csv()```. Это происходит вот так:"
      ],
      "metadata": {
        "id": "KNME4qebRY4O"
      }
    },
    {
      "cell_type": "code",
      "source": [
        "# https://clck.ru/sP8zH это ссылка на файл .csv на GoogleDrive\n",
        "# название файла winemag-data-130k-v2\n",
        "wine_reviews = pd.read_csv('https://clck.ru/sP8zH')"
      ],
      "metadata": {
        "id": "luw2nOvffcyb"
      },
      "execution_count": 34,
      "outputs": []
    },
    {
      "cell_type": "markdown",
      "source": [
        "Для просмотра размера нашего DataFrame, мы можем использовать команду ```shape```:"
      ],
      "metadata": {
        "id": "4Wrrcm7MfxF7"
      }
    },
    {
      "cell_type": "code",
      "source": [
        "wine_reviews.shape"
      ],
      "metadata": {
        "id": "tQvvEioegGHh"
      },
      "execution_count": null,
      "outputs": []
    },
    {
      "cell_type": "markdown",
      "source": [
        "(129971, 14)"
      ],
      "metadata": {
        "id": "vqPUXQN7gJ1T"
      }
    },
    {
      "cell_type": "markdown",
      "source": [
        "Итак наш новый DataFrame имеет около 130 000 записей разделенных на 14 разных столбцов. Это почти 2 миллиона ячеек!\n",
        "\n",
        "Мы можем ознакомиться с наполнением DataFrame используя команду ```head()```, которая выводит первые пять строк из DataFrame:"
      ],
      "metadata": {
        "id": "n81ydLmbgLdD"
      }
    },
    {
      "cell_type": "code",
      "source": [
        "wine_reviews.head()"
      ],
      "metadata": {
        "id": "VyOUGkN9gyG8"
      },
      "execution_count": null,
      "outputs": []
    },
    {
      "cell_type": "markdown",
      "source": [
        "|    |   Unnamed: 0 | country   | description                                                                                                                                                                                                                                               | designation                        |   points |   price | province          | region_1            | region_2          | taster_name        | taster_twitter_handle   | title                                                                               | variety        | winery              |\n",
        "|---:|-------------:|:----------|:----------------------------------------------------------------------------------------------------------------------------------------------------------------------------------------------------------------------------------------------------------|:-----------------------------------|---------:|--------:|:------------------|:--------------------|:------------------|:-------------------|:------------------------|:------------------------------------------------------------------------------------|:---------------|:--------------------|\n",
        "|  0 |            0 | Italy     | Aromas include tropical fruit, broom, brimstone and dried herb. The palate isn't overly expressive, offering unripened apple, citrus and dried sage alongside brisk acidity.                                                                              | Vulkà Bianco                       |       87 |     nan | Sicily & Sardinia | Etna                | nan               | Kerin O’Keefe      | @kerinokeefe            | Nicosia 2013 Vulkà Bianco  (Etna)                                                   | White Blend    | Nicosia             |\n",
        "|  1 |            1 | Portugal  | This is ripe and fruity, a wine that is smooth while still structured. Firm tannins are filled out with juicy red berry fruits and freshened with acidity. It's  already drinkable, although it will certainly be better from 2016.                       | Avidagos                           |       87 |      15 | Douro             | nan                 | nan               | Roger Voss         | @vossroger              | Quinta dos Avidagos 2011 Avidagos Red (Douro)                                       | Portuguese Red | Quinta dos Avidagos |\n",
        "|  2 |            2 | US        | Tart and snappy, the flavors of lime flesh and rind dominate. Some green pineapple pokes through, with crisp acidity underscoring the flavors. The wine was all stainless-steel fermented.                                                                | nan                                |       87 |      14 | Oregon            | Willamette Valley   | Willamette Valley | Paul Gregutt       | @paulgwine              | Rainstorm 2013 Pinot Gris (Willamette Valley)                                       | Pinot Gris     | Rainstorm           |\n",
        "|  3 |            3 | US        | Pineapple rind, lemon pith and orange blossom start off the aromas. The palate is a bit more opulent, with notes of honey-drizzled guava and mango giving way to a slightly astringent, semidry finish.                                                   | Reserve Late Harvest               |       87 |      13 | Michigan          | Lake Michigan Shore | nan               | Alexander Peartree | nan                     | St. Julian 2013 Reserve Late Harvest Riesling (Lake Michigan Shore)                 | Riesling       | St. Julian          |\n",
        "|  4 |            4 | US        | Much like the regular bottling from 2012, this comes across as rather rough and tannic, with rustic, earthy, herbal characteristics. Nonetheless, if you think of it as a pleasantly unfussy country wine, it's a good companion to a hearty winter stew. | Vintner's Reserve Wild Child Block |       87 |      65 | Oregon            | Willamette Valley   | Willamette Valley | Paul Gregutt       | @paulgwine              | Sweet Cheeks 2012 Vintner's Reserve Wild Child Block Pinot Noir (Willamette Valley) | Pinot Noir     | Sweet Cheeks        |"
      ],
      "metadata": {
        "id": "0k7uiatGg1Mr"
      }
    },
    {
      "cell_type": "markdown",
      "source": [
        "Функция ```pd.read_csv()``` очень настраиваемая и имеет более 30 параметров, каждый из которых, вы можете использовать. Например, в этом наборе данных вы можете увидеть, что файл CSV уже имеет столбец с индексами, который pandas не определил автоматически. Для того, чтобы pandas использовал данные из этого столбца как индексы для строк, мы можем использовать параметр ```index_col```:"
      ],
      "metadata": {
        "id": "ykalh9_chG2L"
      }
    },
    {
      "cell_type": "code",
      "source": [
        "wine_reviews = pd.read_csv('https://clck.ru/sP8zH', index_col=0)\n",
        "wine_reviews.head()"
      ],
      "metadata": {
        "id": "hHU-JpoEid2c"
      },
      "execution_count": null,
      "outputs": []
    },
    {
      "cell_type": "markdown",
      "source": [
        "|    | country   | description                                                                                                                                                                                                                                               | designation                        |   points |   price | province          | region_1            | region_2          | taster_name        | taster_twitter_handle   | title                                                                               | variety        | winery              |\n",
        "|---:|:----------|:----------------------------------------------------------------------------------------------------------------------------------------------------------------------------------------------------------------------------------------------------------|:-----------------------------------|---------:|--------:|:------------------|:--------------------|:------------------|:-------------------|:------------------------|:------------------------------------------------------------------------------------|:---------------|:--------------------|\n",
        "|  0 | Italy     | Aromas include tropical fruit, broom, brimstone and dried herb. The palate isn't overly expressive, offering unripened apple, citrus and dried sage alongside brisk acidity.                                                                              | Vulkà Bianco                       |       87 |     nan | Sicily & Sardinia | Etna                | nan               | Kerin O’Keefe      | @kerinokeefe            | Nicosia 2013 Vulkà Bianco  (Etna)                                                   | White Blend    | Nicosia             |\n",
        "|  1 | Portugal  | This is ripe and fruity, a wine that is smooth while still structured. Firm tannins are filled out with juicy red berry fruits and freshened with acidity. It's  already drinkable, although it will certainly be better from 2016.                       | Avidagos                           |       87 |      15 | Douro             | nan                 | nan               | Roger Voss         | @vossroger              | Quinta dos Avidagos 2011 Avidagos Red (Douro)                                       | Portuguese Red | Quinta dos Avidagos |\n",
        "|  2 | US        | Tart and snappy, the flavors of lime flesh and rind dominate. Some green pineapple pokes through, with crisp acidity underscoring the flavors. The wine was all stainless-steel fermented.                                                                | nan                                |       87 |      14 | Oregon            | Willamette Valley   | Willamette Valley | Paul Gregutt       | @paulgwine              | Rainstorm 2013 Pinot Gris (Willamette Valley)                                       | Pinot Gris     | Rainstorm           |\n",
        "|  3 | US        | Pineapple rind, lemon pith and orange blossom start off the aromas. The palate is a bit more opulent, with notes of honey-drizzled guava and mango giving way to a slightly astringent, semidry finish.                                                   | Reserve Late Harvest               |       87 |      13 | Michigan          | Lake Michigan Shore | nan               | Alexander Peartree | nan                     | St. Julian 2013 Reserve Late Harvest Riesling (Lake Michigan Shore)                 | Riesling       | St. Julian          |\n",
        "|  4 | US        | Much like the regular bottling from 2012, this comes across as rather rough and tannic, with rustic, earthy, herbal characteristics. Nonetheless, if you think of it as a pleasantly unfussy country wine, it's a good companion to a hearty winter stew. | Vintner's Reserve Wild Child Block |       87 |      65 | Oregon            | Willamette Valley   | Willamette Valley | Paul Gregutt       | @paulgwine              | Sweet Cheeks 2012 Vintner's Reserve Wild Child Block Pinot Noir (Willamette Valley) | Pinot Noir     | Sweet Cheeks        |"
      ],
      "metadata": {
        "id": "s0xzunCWimXj"
      }
    },
    {
      "cell_type": "markdown",
      "source": [
        "## Ваш черед\n",
        "\n",
        "Вы прочли первую часть курса, пора закрепить это на практике.\n",
        "Решите задачки [здесь](https://github.com/sergeymasl/pandas_cource/blob/main/Exercise_Creating_Reading_and_Writing.ipynb)"
      ],
      "metadata": {
        "id": "hiLw2oTmiuIr"
      }
    }
  ]
}