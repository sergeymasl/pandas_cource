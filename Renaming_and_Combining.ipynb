{
  "nbformat": 4,
  "nbformat_minor": 0,
  "metadata": {
    "colab": {
      "name": "Renaming and Combining.ipynb",
      "provenance": [],
      "collapsed_sections": [],
      "authorship_tag": "ABX9TyMlnFzQ9YJF6ysm5rFOSQaA",
      "include_colab_link": true
    },
    "kernelspec": {
      "name": "python3",
      "display_name": "Python 3"
    },
    "language_info": {
      "name": "python"
    }
  },
  "cells": [
    {
      "cell_type": "markdown",
      "metadata": {
        "id": "view-in-github",
        "colab_type": "text"
      },
      "source": [
        "<a href=\"https://colab.research.google.com/github/sergeymasl/pandas_cource/blob/main/Renaming_and_Combining.ipynb\" target=\"_parent\"><img src=\"https://colab.research.google.com/assets/colab-badge.svg\" alt=\"Open In Colab\"/></a>"
      ]
    },
    {
      "cell_type": "markdown",
      "source": [
        "# **Renaming and Combining**"
      ],
      "metadata": {
        "id": "HJByaLI4iKSz"
      }
    },
    {
      "cell_type": "markdown",
      "source": [
        "## **Введение**"
      ],
      "metadata": {
        "id": "JFTmzQAgmARP"
      }
    },
    {
      "cell_type": "markdown",
      "source": [
        "В этот уроке вы изучите методы по изменению названий столбцов или индексов.\n",
        "\n",
        "Также вы изучите как соединить несколько DataFrame или несколько Series"
      ],
      "metadata": {
        "id": "RObY-dJQmA72"
      }
    },
    {
      "cell_type": "code",
      "execution_count": 11,
      "metadata": {
        "id": "Dklh1LGxiCfc"
      },
      "outputs": [],
      "source": [
        "# импорт библиотеки\n",
        "import pandas as pd\n",
        "# загрузка датасета для дальнейшей работы\n",
        "reviews = pd.read_csv(\"https://drive.google.com/uc?export=download&id=1z-1idT4mGbOvHgmEPzneqV54EJ1-w7tk\", index_col=0)"
      ]
    },
    {
      "cell_type": "markdown",
      "source": [
        "## **Переименование**"
      ],
      "metadata": {
        "id": "3zQUxxbJmj7N"
      }
    },
    {
      "cell_type": "markdown",
      "source": [
        "Первый метод, который мы рассмотрим это `rename()`:\n",
        "\n",
        "`rename(mapper=None, index=None, columns=None, axis=None, copy=True, inplace=False, level=None, errors='ignore')`\n",
        "\n",
        "- `mapper` - словарь в виде `{'old_name' : 'new_name'}` или функция для переименования столбцов или строк, в зависимости от параметра `axis`\n",
        "- `index` - словарь в виде `{'old_name_index' : 'new_name_index'}` для переименования индексов \n",
        "- `columns` - словарь в виде `{'old_name_column' : 'new_name_column'}` для переименования индексов\n",
        "- `axis` - `{0 or ‘index’, 1 or ‘columns’}` - выбор оси, при  исползовании `mapper` \n",
        "- `copy` - параметр, отвечающий за создание копии исходных данных *(автор не нашел вариантов использования этого параметра)*\n",
        "- `inplace` - параметр, отвечающий за изменение исходного массива\n",
        "- `level` - уровень в мульти-индексе в котором необходимо произвести переименование\n",
        "- `errors` - `{‘ignore’, ‘raise’}` - метод отвечающий за действия в случае обнаружения имени переименовываемого столбца/индекса которого нет в DataFrame.\n",
        "> `raise` - если в параметре `mapper` или `index` или `columns` будет передано в виде старое имя которого нет в DataFrame, то будет выведено исключение \n",
        ">\n",
        "> `ignore` - если будет передано старое имя, которого нет, метод продолжит работу, проигнорируя исключение\n",
        "\n",
        "\n",
        "**Вы можете использовать либо  сочетание `mapper` и `axis`, либо параметры `axis` и/или `columns`**"
      ],
      "metadata": {
        "id": "oUyMLOqUqIoW"
      }
    }
  ]
}