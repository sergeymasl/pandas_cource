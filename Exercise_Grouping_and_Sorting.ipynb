{
  "nbformat": 4,
  "nbformat_minor": 0,
  "metadata": {
    "colab": {
      "name": "Exercise Grouping and Sorting.ipynb",
      "provenance": [],
      "collapsed_sections": [],
      "authorship_tag": "ABX9TyPovDnCPMNTriZdYOjCTc96",
      "include_colab_link": true
    },
    "kernelspec": {
      "name": "python3",
      "display_name": "Python 3"
    },
    "language_info": {
      "name": "python"
    }
  },
  "cells": [
    {
      "cell_type": "markdown",
      "metadata": {
        "id": "view-in-github",
        "colab_type": "text"
      },
      "source": [
        "<a href=\"https://colab.research.google.com/github/sergeymasl/pandas_cource/blob/main/Exercise_Grouping_and_Sorting.ipynb\" target=\"_parent\"><img src=\"https://colab.research.google.com/assets/colab-badge.svg\" alt=\"Open In Colab\"/></a>"
      ]
    },
    {
      "cell_type": "markdown",
      "source": [
        "# **Exercise: Grouping and Sorting**"
      ],
      "metadata": {
        "id": "_ECC58edNZ3o"
      }
    },
    {
      "cell_type": "markdown",
      "source": [
        "# **Вступление**\n",
        "\n",
        "Запустите код ниже для импрорта библиотек которые понадобяться вам при работе на этом практическом занятии (включая модули для проверки ваших ответов)"
      ],
      "metadata": {
        "id": "U-Jl5pkHNlze"
      }
    },
    {
      "cell_type": "code",
      "source": [
        "# загружаем файл для импорта инструментов для проверки ответов\n",
        "url = f\"https://raw.githubusercontent.com/sergeymasl/pandas_cource/main/learntools/core.py\"\n",
        "!wget --no-cache --backups=1 {url}\n",
        "url = f\"https://raw.githubusercontent.com/sergeymasl/pandas_cource/main/learntools/grouping_and_sorting.py\"\n",
        "!wget --no-cache --backups=1 {url}\n",
        "# импорт инструментов для проверки\n",
        "from grouping_and_sorting import *\n",
        "\n",
        "# импорты библиотек для работы\n",
        "import pandas as pd\n",
        "\n",
        "# чтение .csv файла из Google Colab\n",
        "reviews = pd.read_csv('https://drive.google.com/uc?export=download&id=1z-1idT4mGbOvHgmEPzneqV54EJ1-w7tk', index_col = 0)\n",
        "\n",
        "print(\"Setup complete.\")"
      ],
      "metadata": {
        "id": "Emq26baxNnl0"
      },
      "execution_count": null,
      "outputs": []
    },
    {
      "cell_type": "markdown",
      "source": [
        "Взглянем как выглядят наши данные, использую следующий код:"
      ],
      "metadata": {
        "id": "q-95-BWoNuuu"
      }
    },
    {
      "cell_type": "code",
      "source": [
        "reviews.head()"
      ],
      "metadata": {
        "colab": {
          "base_uri": "https://localhost:8080/",
          "height": 206
        },
        "id": "8u--D4HLNwBm",
        "outputId": "5dd62a91-3245-4494-c19d-c17cb300de18"
      },
      "execution_count": 3,
      "outputs": [
        {
          "output_type": "execute_result",
          "data": {
            "text/plain": [
              "    country                                        description  \\\n",
              "0     Italy  Aromas include tropical fruit, broom, brimston...   \n",
              "1  Portugal  This is ripe and fruity, a wine that is smooth...   \n",
              "2        US  Tart and snappy, the flavors of lime flesh and...   \n",
              "3        US  Pineapple rind, lemon pith and orange blossom ...   \n",
              "4        US  Much like the regular bottling from 2012, this...   \n",
              "\n",
              "                          designation  points  price           province  \\\n",
              "0                        Vulkà Bianco      87    NaN  Sicily & Sardinia   \n",
              "1                            Avidagos      87   15.0              Douro   \n",
              "2                                 NaN      87   14.0             Oregon   \n",
              "3                Reserve Late Harvest      87   13.0           Michigan   \n",
              "4  Vintner's Reserve Wild Child Block      87   65.0             Oregon   \n",
              "\n",
              "              region_1           region_2         taster_name  \\\n",
              "0                 Etna                NaN       Kerin O’Keefe   \n",
              "1                  NaN                NaN          Roger Voss   \n",
              "2    Willamette Valley  Willamette Valley        Paul Gregutt   \n",
              "3  Lake Michigan Shore                NaN  Alexander Peartree   \n",
              "4    Willamette Valley  Willamette Valley        Paul Gregutt   \n",
              "\n",
              "  taster_twitter_handle                                              title  \\\n",
              "0          @kerinokeefe                  Nicosia 2013 Vulkà Bianco  (Etna)   \n",
              "1            @vossroger      Quinta dos Avidagos 2011 Avidagos Red (Douro)   \n",
              "2           @paulgwine       Rainstorm 2013 Pinot Gris (Willamette Valley)   \n",
              "3                   NaN  St. Julian 2013 Reserve Late Harvest Riesling ...   \n",
              "4           @paulgwine   Sweet Cheeks 2012 Vintner's Reserve Wild Child...   \n",
              "\n",
              "          variety               winery  \n",
              "0     White Blend              Nicosia  \n",
              "1  Portuguese Red  Quinta dos Avidagos  \n",
              "2      Pinot Gris            Rainstorm  \n",
              "3        Riesling           St. Julian  \n",
              "4      Pinot Noir         Sweet Cheeks  "
            ],
            "text/html": [
              "\n",
              "  <div id=\"df-eb4eea02-1470-4757-9138-f2ea09c72f2c\">\n",
              "    <div class=\"colab-df-container\">\n",
              "      <div>\n",
              "<style scoped>\n",
              "    .dataframe tbody tr th:only-of-type {\n",
              "        vertical-align: middle;\n",
              "    }\n",
              "\n",
              "    .dataframe tbody tr th {\n",
              "        vertical-align: top;\n",
              "    }\n",
              "\n",
              "    .dataframe thead th {\n",
              "        text-align: right;\n",
              "    }\n",
              "</style>\n",
              "<table border=\"1\" class=\"dataframe\">\n",
              "  <thead>\n",
              "    <tr style=\"text-align: right;\">\n",
              "      <th></th>\n",
              "      <th>country</th>\n",
              "      <th>description</th>\n",
              "      <th>designation</th>\n",
              "      <th>points</th>\n",
              "      <th>price</th>\n",
              "      <th>province</th>\n",
              "      <th>region_1</th>\n",
              "      <th>region_2</th>\n",
              "      <th>taster_name</th>\n",
              "      <th>taster_twitter_handle</th>\n",
              "      <th>title</th>\n",
              "      <th>variety</th>\n",
              "      <th>winery</th>\n",
              "    </tr>\n",
              "  </thead>\n",
              "  <tbody>\n",
              "    <tr>\n",
              "      <th>0</th>\n",
              "      <td>Italy</td>\n",
              "      <td>Aromas include tropical fruit, broom, brimston...</td>\n",
              "      <td>Vulkà Bianco</td>\n",
              "      <td>87</td>\n",
              "      <td>NaN</td>\n",
              "      <td>Sicily &amp; Sardinia</td>\n",
              "      <td>Etna</td>\n",
              "      <td>NaN</td>\n",
              "      <td>Kerin O’Keefe</td>\n",
              "      <td>@kerinokeefe</td>\n",
              "      <td>Nicosia 2013 Vulkà Bianco  (Etna)</td>\n",
              "      <td>White Blend</td>\n",
              "      <td>Nicosia</td>\n",
              "    </tr>\n",
              "    <tr>\n",
              "      <th>1</th>\n",
              "      <td>Portugal</td>\n",
              "      <td>This is ripe and fruity, a wine that is smooth...</td>\n",
              "      <td>Avidagos</td>\n",
              "      <td>87</td>\n",
              "      <td>15.0</td>\n",
              "      <td>Douro</td>\n",
              "      <td>NaN</td>\n",
              "      <td>NaN</td>\n",
              "      <td>Roger Voss</td>\n",
              "      <td>@vossroger</td>\n",
              "      <td>Quinta dos Avidagos 2011 Avidagos Red (Douro)</td>\n",
              "      <td>Portuguese Red</td>\n",
              "      <td>Quinta dos Avidagos</td>\n",
              "    </tr>\n",
              "    <tr>\n",
              "      <th>2</th>\n",
              "      <td>US</td>\n",
              "      <td>Tart and snappy, the flavors of lime flesh and...</td>\n",
              "      <td>NaN</td>\n",
              "      <td>87</td>\n",
              "      <td>14.0</td>\n",
              "      <td>Oregon</td>\n",
              "      <td>Willamette Valley</td>\n",
              "      <td>Willamette Valley</td>\n",
              "      <td>Paul Gregutt</td>\n",
              "      <td>@paulgwine</td>\n",
              "      <td>Rainstorm 2013 Pinot Gris (Willamette Valley)</td>\n",
              "      <td>Pinot Gris</td>\n",
              "      <td>Rainstorm</td>\n",
              "    </tr>\n",
              "    <tr>\n",
              "      <th>3</th>\n",
              "      <td>US</td>\n",
              "      <td>Pineapple rind, lemon pith and orange blossom ...</td>\n",
              "      <td>Reserve Late Harvest</td>\n",
              "      <td>87</td>\n",
              "      <td>13.0</td>\n",
              "      <td>Michigan</td>\n",
              "      <td>Lake Michigan Shore</td>\n",
              "      <td>NaN</td>\n",
              "      <td>Alexander Peartree</td>\n",
              "      <td>NaN</td>\n",
              "      <td>St. Julian 2013 Reserve Late Harvest Riesling ...</td>\n",
              "      <td>Riesling</td>\n",
              "      <td>St. Julian</td>\n",
              "    </tr>\n",
              "    <tr>\n",
              "      <th>4</th>\n",
              "      <td>US</td>\n",
              "      <td>Much like the regular bottling from 2012, this...</td>\n",
              "      <td>Vintner's Reserve Wild Child Block</td>\n",
              "      <td>87</td>\n",
              "      <td>65.0</td>\n",
              "      <td>Oregon</td>\n",
              "      <td>Willamette Valley</td>\n",
              "      <td>Willamette Valley</td>\n",
              "      <td>Paul Gregutt</td>\n",
              "      <td>@paulgwine</td>\n",
              "      <td>Sweet Cheeks 2012 Vintner's Reserve Wild Child...</td>\n",
              "      <td>Pinot Noir</td>\n",
              "      <td>Sweet Cheeks</td>\n",
              "    </tr>\n",
              "  </tbody>\n",
              "</table>\n",
              "</div>\n",
              "      <button class=\"colab-df-convert\" onclick=\"convertToInteractive('df-eb4eea02-1470-4757-9138-f2ea09c72f2c')\"\n",
              "              title=\"Convert this dataframe to an interactive table.\"\n",
              "              style=\"display:none;\">\n",
              "        \n",
              "  <svg xmlns=\"http://www.w3.org/2000/svg\" height=\"24px\"viewBox=\"0 0 24 24\"\n",
              "       width=\"24px\">\n",
              "    <path d=\"M0 0h24v24H0V0z\" fill=\"none\"/>\n",
              "    <path d=\"M18.56 5.44l.94 2.06.94-2.06 2.06-.94-2.06-.94-.94-2.06-.94 2.06-2.06.94zm-11 1L8.5 8.5l.94-2.06 2.06-.94-2.06-.94L8.5 2.5l-.94 2.06-2.06.94zm10 10l.94 2.06.94-2.06 2.06-.94-2.06-.94-.94-2.06-.94 2.06-2.06.94z\"/><path d=\"M17.41 7.96l-1.37-1.37c-.4-.4-.92-.59-1.43-.59-.52 0-1.04.2-1.43.59L10.3 9.45l-7.72 7.72c-.78.78-.78 2.05 0 2.83L4 21.41c.39.39.9.59 1.41.59.51 0 1.02-.2 1.41-.59l7.78-7.78 2.81-2.81c.8-.78.8-2.07 0-2.86zM5.41 20L4 18.59l7.72-7.72 1.47 1.35L5.41 20z\"/>\n",
              "  </svg>\n",
              "      </button>\n",
              "      \n",
              "  <style>\n",
              "    .colab-df-container {\n",
              "      display:flex;\n",
              "      flex-wrap:wrap;\n",
              "      gap: 12px;\n",
              "    }\n",
              "\n",
              "    .colab-df-convert {\n",
              "      background-color: #E8F0FE;\n",
              "      border: none;\n",
              "      border-radius: 50%;\n",
              "      cursor: pointer;\n",
              "      display: none;\n",
              "      fill: #1967D2;\n",
              "      height: 32px;\n",
              "      padding: 0 0 0 0;\n",
              "      width: 32px;\n",
              "    }\n",
              "\n",
              "    .colab-df-convert:hover {\n",
              "      background-color: #E2EBFA;\n",
              "      box-shadow: 0px 1px 2px rgba(60, 64, 67, 0.3), 0px 1px 3px 1px rgba(60, 64, 67, 0.15);\n",
              "      fill: #174EA6;\n",
              "    }\n",
              "\n",
              "    [theme=dark] .colab-df-convert {\n",
              "      background-color: #3B4455;\n",
              "      fill: #D2E3FC;\n",
              "    }\n",
              "\n",
              "    [theme=dark] .colab-df-convert:hover {\n",
              "      background-color: #434B5C;\n",
              "      box-shadow: 0px 1px 3px 1px rgba(0, 0, 0, 0.15);\n",
              "      filter: drop-shadow(0px 1px 2px rgba(0, 0, 0, 0.3));\n",
              "      fill: #FFFFFF;\n",
              "    }\n",
              "  </style>\n",
              "\n",
              "      <script>\n",
              "        const buttonEl =\n",
              "          document.querySelector('#df-eb4eea02-1470-4757-9138-f2ea09c72f2c button.colab-df-convert');\n",
              "        buttonEl.style.display =\n",
              "          google.colab.kernel.accessAllowed ? 'block' : 'none';\n",
              "\n",
              "        async function convertToInteractive(key) {\n",
              "          const element = document.querySelector('#df-eb4eea02-1470-4757-9138-f2ea09c72f2c');\n",
              "          const dataTable =\n",
              "            await google.colab.kernel.invokeFunction('convertToInteractive',\n",
              "                                                     [key], {});\n",
              "          if (!dataTable) return;\n",
              "\n",
              "          const docLinkHtml = 'Like what you see? Visit the ' +\n",
              "            '<a target=\"_blank\" href=https://colab.research.google.com/notebooks/data_table.ipynb>data table notebook</a>'\n",
              "            + ' to learn more about interactive tables.';\n",
              "          element.innerHTML = '';\n",
              "          dataTable['output_type'] = 'display_data';\n",
              "          await google.colab.output.renderOutput(dataTable, element);\n",
              "          const docLink = document.createElement('div');\n",
              "          docLink.innerHTML = docLinkHtml;\n",
              "          element.appendChild(docLink);\n",
              "        }\n",
              "      </script>\n",
              "    </div>\n",
              "  </div>\n",
              "  "
            ]
          },
          "metadata": {},
          "execution_count": 3
        }
      ]
    },
    {
      "cell_type": "markdown",
      "source": [
        "# **Упражнения**"
      ],
      "metadata": {
        "id": "5xqDCkElNynH"
      }
    },
    {
      "cell_type": "markdown",
      "source": [
        "**1.** Какой рецензент сделал наибольшее колицество рецензий в датасете о вине? \n",
        ">Создайте ```Series``` индексами которой будут ```taster_twitter_handle``` а значениями, сколько отзывов написал каждый из рецензентов.\n",
        "\n",
        "Столбец с отзывами - ```description\t```"
      ],
      "metadata": {
        "id": "pK8bxQ77N28G"
      }
    },
    {
      "cell_type": "code",
      "source": [
        "reviews_written = ____\n",
        "\n",
        "# Проверьте свой ответ\n",
        "q1.check(reviews_written)"
      ],
      "metadata": {
        "id": "Ycg7ZjRLYoEo"
      },
      "execution_count": null,
      "outputs": []
    },
    {
      "cell_type": "code",
      "source": [
        "# подсказка(доступно после 3 попыток проверки ответа)\n",
        "#q1.hint()\n",
        "# решение(доступно после 5 попыток проверки ответа)\n",
        "#q1.solution()"
      ],
      "metadata": {
        "id": "o_4JniU5WEjq"
      },
      "execution_count": null,
      "outputs": []
    },
    {
      "cell_type": "markdown",
      "source": [
        "**2.** Мне нужно знать насколько хорошее вино можно купить за определенную стоимость.\n",
        "\n",
        ">Создайте ```Series``` индексами которой будут цены на вино, а значениями максимальный балл который был дан вину с этой ценой.\n",
        "\n",
        ">Отсортируйте ```Series``` по цене по возрастанию (так цена 4 доллара должна оказаться наверху списка, а 3300 долларов внизу)"
      ],
      "metadata": {
        "id": "AvFN8qkVaIsp"
      }
    },
    {
      "cell_type": "code",
      "source": [
        "best_rating_per_price = ____\n",
        "\n",
        "# Проверьте свой ответ\n",
        "q2.check(best_rating_per_price)"
      ],
      "metadata": {
        "id": "jz1FHsOwbFv3"
      },
      "execution_count": null,
      "outputs": []
    },
    {
      "cell_type": "code",
      "source": [
        "# подсказка(доступно после 3 попыток проверки ответа)\n",
        "#q2.hint()\n",
        "# решение(доступно после 5 попыток проверки ответа)\n",
        "#q2.solution()"
      ],
      "metadata": {
        "id": "GfUGM43jbDwH"
      },
      "execution_count": null,
      "outputs": []
    },
    {
      "cell_type": "markdown",
      "source": [
        "**3.** Какая минимальная и максимальная цены для каждого сорта вина(```variety```)? \n",
        ">Создайте DataFrame в котором индексы это ```variety```, а столбцы это ```min``` и ```max``` цен для каждой из сортов вина."
      ],
      "metadata": {
        "id": "aNqHg36ycrBI"
      }
    },
    {
      "cell_type": "code",
      "source": [
        "price_extremes = ____\n",
        "\n",
        "# Проверьте свой ответ\n",
        "q3.check(price_extremes)"
      ],
      "metadata": {
        "id": "3LdJefPvfvkd"
      },
      "execution_count": null,
      "outputs": []
    },
    {
      "cell_type": "code",
      "source": [
        "# подсказка(доступно после 3 попыток проверки ответа)\n",
        "#q3.hint()\n",
        "# решение(доступно после 5 попыток проверки ответа)\n",
        "#q3.solution()"
      ],
      "metadata": {
        "id": "nhZDHArDfz_N"
      },
      "execution_count": null,
      "outputs": []
    },
    {
      "cell_type": "markdown",
      "source": [
        "**4.** Какой сорт вина самый дорогой?\n",
        "\n",
        ">Создайте переменную ```sorted_varieties``` содержащую копию DataFrame созданного в предыдущем упражнении и остортируйте его сначала по минимальной цене по убыванию, а затем по максимальной цене по максимальной цене тоже по убыванию."
      ],
      "metadata": {
        "id": "FaIGyVgcgrml"
      }
    },
    {
      "cell_type": "code",
      "source": [
        "sorted_varieties = ____\n",
        "\n",
        "# Проверьте свой ответ\n",
        "q4.check(sorted_varieties)"
      ],
      "metadata": {
        "id": "kzcm3Ineh5U0"
      },
      "execution_count": null,
      "outputs": []
    },
    {
      "cell_type": "code",
      "source": [
        "# подсказка(доступно после 3 попыток проверки ответа)\n",
        "#q4.hint()\n",
        "# решение(доступно после 5 попыток проверки ответа)\n",
        "#q4.solution()"
      ],
      "metadata": {
        "id": "JW-z1mA6iEBM"
      },
      "execution_count": null,
      "outputs": []
    },
    {
      "cell_type": "markdown",
      "source": [
        "**5.**\n",
        ">Создайте ```Series``` индексы которого будут имена рецензентов, а значения это среднее арифметическое баллов проставленных соответвствующими рецензентами.\n",
        "\n",
        "Необходимые вам столбцы это: ```taster_name``` и ```points```"
      ],
      "metadata": {
        "id": "KvcTBiR0ikqM"
      }
    },
    {
      "cell_type": "code",
      "source": [
        "reviewer_mean_ratings = ____\n",
        "\n",
        "# Проверьте свой ответ\n",
        "q5.check(reviewer_mean_ratings)"
      ],
      "metadata": {
        "id": "2dUNJ6tukLCS"
      },
      "execution_count": null,
      "outputs": []
    },
    {
      "cell_type": "code",
      "source": [
        "# подсказка(доступно после 3 попыток проверки ответа)\n",
        "#q5.hint()\n",
        "# решение(доступно после 5 попыток проверки ответа)\n",
        "#q5.solution()"
      ],
      "metadata": {
        "id": "BwNYQVe5kOd7"
      },
      "execution_count": null,
      "outputs": []
    },
    {
      "cell_type": "markdown",
      "source": [
        "Существует ли большая разница в средних оценках рецензентов?\n",
        "Запустите код ниже, который использует ```describe()``` для просмотра сводной информации о получившихся результатах:"
      ],
      "metadata": {
        "id": "qUZUpIg6kuXT"
      }
    },
    {
      "cell_type": "code",
      "source": [
        "reviewer_mean_ratings.describe()"
      ],
      "metadata": {
        "id": "o9h7ep17lM2T"
      },
      "execution_count": null,
      "outputs": []
    },
    {
      "cell_type": "markdown",
      "source": [
        "**6.** Какая комбинация из страны и сорта вина наиболее распространена в этом массиве?\n",
        "\n",
        ">Создайте ```Series``` в которой индексом будет **Мульти-индекс** (```country```,```varienty```).\n",
        ">Отсортируйте данные в ```Series``` по убыванию количества вина."
      ],
      "metadata": {
        "id": "9Ycwd1IjnLv6"
      }
    },
    {
      "cell_type": "code",
      "source": [
        "country_variety_counts = ____\n",
        "\n",
        "# Проверьте свой ответ\n",
        "q6.check(country_variety_counts)"
      ],
      "metadata": {
        "id": "DkvPisWGou6X"
      },
      "execution_count": null,
      "outputs": []
    },
    {
      "cell_type": "code",
      "source": [
        "# подсказка(доступно после 3 попыток проверки ответа)\n",
        "#q6.hint()\n",
        "# решение(доступно после 5 попыток проверки ответа)\n",
        "#q6.solution()"
      ],
      "metadata": {
        "id": "m0dXsaCWoySh"
      },
      "execution_count": null,
      "outputs": []
    }
  ]
}