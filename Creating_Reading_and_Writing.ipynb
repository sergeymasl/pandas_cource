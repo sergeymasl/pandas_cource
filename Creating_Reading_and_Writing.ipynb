{
  "nbformat": 4,
  "nbformat_minor": 0,
  "metadata": {
    "colab": {
      "name": "Creating, Reading and Writing.ipynb",
      "provenance": [],
      "collapsed_sections": [],
      "toc_visible": true,
      "authorship_tag": "ABX9TyP2OrhcZS7HiYF67FwjRlSI",
      "include_colab_link": true
    },
    "kernelspec": {
      "name": "python3",
      "display_name": "Python 3"
    },
    "language_info": {
      "name": "python"
    }
  },
  "cells": [
    {
      "cell_type": "markdown",
      "metadata": {
        "id": "view-in-github",
        "colab_type": "text"
      },
      "source": [
        "<a href=\"https://colab.research.google.com/github/sergeymasl/pandas_cource/blob/main/Creating_Reading_and_Writing.ipynb\" target=\"_parent\"><img src=\"https://colab.research.google.com/assets/colab-badge.svg\" alt=\"Open In Colab\"/></a>"
      ]
    },
    {
      "cell_type": "markdown",
      "source": [
        "# **Creating, Reading and Writing**"
      ],
      "metadata": {
        "id": "DsZCOaqfrC45"
      }
    },
    {
      "cell_type": "markdown",
      "source": [
        "## Вступление\n",
        "В этом мини-курсе вы познакомитесь и изучите основы библиотеки [pandas](https://pandas.pydata.org/), самой популярной библиотеки Python для анализа данных.\n",
        "\n",
        "Во время обучения, вы самостоятельно выполните несколько упражнений на реальных данных. После прочтения блоков курса, рекомендуется выполнять блоки соответствующих упражнений.\n",
        "\n",
        "\n",
        "В этом блоке вы изучете, как создать ваш собственный массив данных и как работать с уже созданными данными."
      ],
      "metadata": {
        "id": "EX0WfS4CrL9p"
      }
    },
    {
      "cell_type": "markdown",
      "source": [
        "## Начало работы\n",
        "\n",
        "При работе с библиотекой pandas, вы, как правило, будете начинать свою работу со следующего кода:"
      ],
      "metadata": {
        "id": "nSg7Iuk-s5EZ"
      }
    },
    {
      "cell_type": "code",
      "execution_count": null,
      "metadata": {
        "id": "tPi9njTlY0zG"
      },
      "outputs": [],
      "source": [
        "import pandas as pd"
      ]
    },
    {
      "cell_type": "markdown",
      "source": [
        "## Создание фрейма данных\n",
        "\n",
        "В библиотеке Pandas есть два ключевых объекта: **DataFrame** и **Series**"
      ],
      "metadata": {
        "id": "_WMSfloMufsw"
      }
    },
    {
      "cell_type": "markdown",
      "source": [
        "### DataFrame\n",
        "\n",
        "Говоря простыми словами DataFrame это таблица. Он содержит набор *ячеек* каждая из которых содержит собственное значение. Каждой ячейке соответсвует *строка* и *столбец*.\n",
        "\n",
        "Для примера, расмотрим ниже простой DataFrame:\n"
      ],
      "metadata": {
        "id": "az2em-UQu1Ax"
      }
    },
    {
      "cell_type": "code",
      "source": [
        "pd.DataFrame({'Yes' : [50, 21], 'No' : [131, 2]})"
      ],
      "metadata": {
        "id": "M3-h1H1HufKp"
      },
      "execution_count": null,
      "outputs": []
    },
    {
      "cell_type": "markdown",
      "source": [
        "Out:\n",
        "\n",
        "\n",
        "|    |   Yes |   No |\n",
        "|---:|------:|-----:|\n",
        "|  0 |    50 |  131 |\n",
        "|  1 |    21 |    2 |\n",
        "\n",
        "\\\n",
        "\n",
        "В этом примере, *ячейка* с *адресом* \"0, No\" имеет значение 131. *ячейка* с *адресом* \"0, Yes\" имеет значение 50, и так далее."
      ],
      "metadata": {
        "id": "IT7A35K2Onm0"
      }
    },
    {
      "cell_type": "markdown",
      "source": [
        "\n",
        "Значения в DataFrame не ограничиваются только целыми числами (```Int```). Для примера вот DataFrame в котором данные являются строками (```Str```)"
      ],
      "metadata": {
        "id": "I8_ASNiuD3Fu"
      }
    },
    {
      "cell_type": "code",
      "source": [
        "pd.DataFrame({'Bob': ['I liked it.', 'It was awful.'], 'Sue': ['Pretty good.', 'Bland.']})"
      ],
      "metadata": {
        "id": "Ehj7rkVGEXnm"
      },
      "execution_count": null,
      "outputs": []
    },
    {
      "cell_type": "markdown",
      "source": [
        "Out:\n",
        "\n",
        "|    | Bob           | Sue          |\n",
        "|---:|:--------------|:-------------|\n",
        "|  0 | I liked it.   | Pretty good. |\n",
        "|  1 | It was awful. | Bland.       |"
      ],
      "metadata": {
        "id": "O76Efa6vMx-k"
      }
    },
    {
      "cell_type": "markdown",
      "source": [
        "Мы использовали конструкцию ```pd.DataFrame()``` для создания этих объектов DataFrame. Синтаксис, сообщающий системе о создании нового DataFrame, это словарь (```dict```), ключи которого ивляются **именами столбцов** (```Bod``` и ```Sue``` в примере), а значения - это списки (```list```) с данными в столбцах. Это один из стандартных способ создания нового DataFrame, который будет встречаться вам наиболее часто.\n",
        "\n",
        "\\\n",
        "Конструкция со словарем сообщает **имена столбцов**, но при этом использует нумерация строк от 0 (0,1,2,3,...) для **имен строк**. Иногда это нормально, но чаще всего мы заходим дать **имена этим строка** самостоятельно, для лучшей ориентации в данных.\n",
        "\n",
        "**Имена строк** в DataFrame (и не только в нем) именуются как **index**. Мы можем самостоятельно назначить индексы использую параметр ```index``` при создании DataFrame."
      ],
      "metadata": {
        "id": "8UCSayZuIAFv"
      }
    },
    {
      "cell_type": "code",
      "source": [
        "pd.DataFrame({'Bob': ['I liked it.', 'It was awful.'], \n",
        "              'Sue': ['Pretty good.', 'Bland.']},\n",
        "             index=['Product A', 'Product B'])"
      ],
      "metadata": {
        "id": "fsBEQt9VMiF2"
      },
      "execution_count": null,
      "outputs": []
    },
    {
      "cell_type": "markdown",
      "source": [
        "Out:\n",
        "\n",
        "|           | Bob           | Sue          |\n",
        "|:----------|:--------------|:-------------|\n",
        "| Product A | I liked it.   | Pretty good. |\n",
        "| Product B | It was awful. | Bland.       |\n"
      ],
      "metadata": {
        "id": "yvhfOk7VMuZ8"
      }
    },
    {
      "cell_type": "markdown",
      "source": [
        "### Series\n",
        "\n",
        "Series представляет собой набор данных. Если DataFrame это таблица, то Series это список. Поэтому вы можете создать Series используя лишь один список:"
      ],
      "metadata": {
        "id": "FPpgk7mVM848"
      }
    },
    {
      "cell_type": "code",
      "source": [
        "pd.Series([1, 2, 3, 4, 5])"
      ],
      "metadata": {
        "id": "ZQOyMgXkPTkn"
      },
      "execution_count": null,
      "outputs": []
    },
    {
      "cell_type": "markdown",
      "source": [
        "Out:\n",
        "\n",
        "|    |   0 |\n",
        "|---:|----:|\n",
        "|  0 |   1 |\n",
        "|  1 |   2 |\n",
        "|  2 |   3 |\n",
        "|  3 |   4 |\n",
        "|  4 |   5 |"
      ],
      "metadata": {
        "id": "xoFJa7oiPYF8"
      }
    },
    {
      "cell_type": "markdown",
      "source": [
        "Series, по сути, это один столбец из DataFrame. Так что вы можете создать **имена строк** так же как мы сделали это ранее, использую параметр ```index```. Однако Sereies не имеет **имен столбцов**, у неё есть лишь общее название, параметр ```name```."
      ],
      "metadata": {
        "id": "Uel3NoXMPg_9"
      }
    },
    {
      "cell_type": "code",
      "source": [
        "pd.Series([30, 35, 40], index=['2015 Sales', '2016 Sales', '2017 Sales'], name='Product A')"
      ],
      "metadata": {
        "id": "R8b8MhXoQUQV"
      },
      "execution_count": null,
      "outputs": []
    },
    {
      "cell_type": "markdown",
      "source": [
        "Out:\n",
        "\n",
        "|            |   Product A |\n",
        "|:-----------|------------:|\n",
        "| 2015 Sales |          30 |\n",
        "| 2016 Sales |          35 |\n",
        "| 2017 Sales |          40 |"
      ],
      "metadata": {
        "id": "AvkFg3NYQbm1"
      }
    },
    {
      "cell_type": "markdown",
      "source": [
        "Series и DataFrame тесно связаны. На самом деле DataFrame, это \"склееный вместе\" набор Series. **То есть отдельно взятый столбец DataFrame будет являться Series.**  Мы познакомимся с этим поближе в следующих блоках курса. "
      ],
      "metadata": {
        "id": "Y1GLJtbeQfAt"
      }
    },
    {
      "cell_type": "markdown",
      "source": [
        "### Чтение файлов с данными\n",
        "\n",
        "Возможность создавать DataFrame и Series вручную очень важна и удобна. Но, в большинстве случаев, мы не будем создавать наши данные вручную. Вместо этого, мы будем работать с данными каторые уже созданы.\n",
        "\n",
        "Данные могут храниться во множестве разных форм и форматов. Безусловно, самый распространенный и простой из них это CSV файл. Если вы откроете CSV файл вы увидите что то похожее на это:\n",
        "\n",
        "```\n",
        "Product A,Product B,Product C,\n",
        "30,21,9,\n",
        "35,34,1,\n",
        "41,11,11\n",
        "```\n",
        "\n",
        "То есть CSV файл это строчки с данными, столбцы в которых разделены запятыми.CSV так и расшифрововется: \"Comma-Separated Values\" - данные разделенные запятыми.\n",
        "Стоит отметить, что разделитем может выступать и другие символы, наиболее распространенные из них, наряду с запятой, это точка с запятой и табуляция.\n",
        "\n",
        "\n",
        "Давайте отложим наши игрушечные наборы данных и посмотри как выглядит реальный набор данных, когда мы загрузим его в DataFrame. Мы будем использовать конструкцию ```pd.read_csv()```. Это происходит вот так:"
      ],
      "metadata": {
        "id": "KNME4qebRY4O"
      }
    },
    {
      "cell_type": "code",
      "source": [
        "# https://clck.ru/sP8zH это ссылка на файл .csv на GoogleDrive\n",
        "# название файла winemag-data-130k-v2\n",
        "wine_reviews = pd.read_csv('https://clck.ru/sP8zH')"
      ],
      "metadata": {
        "id": "luw2nOvffcyb"
      },
      "execution_count": null,
      "outputs": []
    },
    {
      "cell_type": "markdown",
      "source": [
        "Для просмотра размера нашего DataFrame, мы можем использовать команду ```shape```:"
      ],
      "metadata": {
        "id": "4Wrrcm7MfxF7"
      }
    },
    {
      "cell_type": "code",
      "source": [
        "wine_reviews.shape"
      ],
      "metadata": {
        "id": "tQvvEioegGHh",
        "outputId": "8163e537-2ca3-479e-e1f1-3f3aabb67fba",
        "colab": {
          "base_uri": "https://localhost:8080/"
        }
      },
      "execution_count": null,
      "outputs": [
        {
          "output_type": "execute_result",
          "data": {
            "text/plain": [
              "(129971, 14)"
            ]
          },
          "metadata": {},
          "execution_count": 4
        }
      ]
    },
    {
      "cell_type": "markdown",
      "source": [
        "Out:\n",
        "\n",
        "(129971, 14)"
      ],
      "metadata": {
        "id": "vqPUXQN7gJ1T"
      }
    },
    {
      "cell_type": "markdown",
      "source": [
        "Итак наш новый DataFrame имеет около 130 000 записей разделенных на 14 разных столбцов. Это почти 2 миллиона ячеек!\n",
        "\n",
        "Мы можем ознакомиться с наполнением DataFrame используя команду ```head()```, которая выводит первые пять строк из DataFrame:"
      ],
      "metadata": {
        "id": "n81ydLmbgLdD"
      }
    },
    {
      "cell_type": "code",
      "source": [
        "wine_reviews.head()"
      ],
      "metadata": {
        "id": "VyOUGkN9gyG8"
      },
      "execution_count": null,
      "outputs": []
    },
    {
      "cell_type": "markdown",
      "source": [
        "Out:\n",
        "\n",
        "|    |   Unnamed: 0 | country   | description                                                                                                                                                                                                                                               | designation                        |   points |   price | province          | region_1            | region_2          | taster_name        | taster_twitter_handle   | title                                                                               | variety        | winery              |\n",
        "|---:|-------------:|:----------|:----------------------------------------------------------------------------------------------------------------------------------------------------------------------------------------------------------------------------------------------------------|:-----------------------------------|---------:|--------:|:------------------|:--------------------|:------------------|:-------------------|:------------------------|:------------------------------------------------------------------------------------|:---------------|:--------------------|\n",
        "|  0 |            0 | Italy     | Aromas include tropical fruit, broom, brimstone and dried herb. The palate isn't overly expressive, offering unripened apple, citrus and dried sage alongside brisk acidity.                                                                              | Vulkà Bianco                       |       87 |     nan | Sicily & Sardinia | Etna                | nan               | Kerin O’Keefe      | @kerinokeefe            | Nicosia 2013 Vulkà Bianco  (Etna)                                                   | White Blend    | Nicosia             |\n",
        "|  1 |            1 | Portugal  | This is ripe and fruity, a wine that is smooth while still structured. Firm tannins are filled out with juicy red berry fruits and freshened with acidity. It's  already drinkable, although it will certainly be better from 2016.                       | Avidagos                           |       87 |      15 | Douro             | nan                 | nan               | Roger Voss         | @vossroger              | Quinta dos Avidagos 2011 Avidagos Red (Douro)                                       | Portuguese Red | Quinta dos Avidagos |\n",
        "|  2 |            2 | US        | Tart and snappy, the flavors of lime flesh and rind dominate. Some green pineapple pokes through, with crisp acidity underscoring the flavors. The wine was all stainless-steel fermented.                                                                | nan                                |       87 |      14 | Oregon            | Willamette Valley   | Willamette Valley | Paul Gregutt       | @paulgwine              | Rainstorm 2013 Pinot Gris (Willamette Valley)                                       | Pinot Gris     | Rainstorm           |\n",
        "|  3 |            3 | US        | Pineapple rind, lemon pith and orange blossom start off the aromas. The palate is a bit more opulent, with notes of honey-drizzled guava and mango giving way to a slightly astringent, semidry finish.                                                   | Reserve Late Harvest               |       87 |      13 | Michigan          | Lake Michigan Shore | nan               | Alexander Peartree | nan                     | St. Julian 2013 Reserve Late Harvest Riesling (Lake Michigan Shore)                 | Riesling       | St. Julian          |\n",
        "|  4 |            4 | US        | Much like the regular bottling from 2012, this comes across as rather rough and tannic, with rustic, earthy, herbal characteristics. Nonetheless, if you think of it as a pleasantly unfussy country wine, it's a good companion to a hearty winter stew. | Vintner's Reserve Wild Child Block |       87 |      65 | Oregon            | Willamette Valley   | Willamette Valley | Paul Gregutt       | @paulgwine              | Sweet Cheeks 2012 Vintner's Reserve Wild Child Block Pinot Noir (Willamette Valley) | Pinot Noir     | Sweet Cheeks        |"
      ],
      "metadata": {
        "id": "0k7uiatGg1Mr"
      }
    },
    {
      "cell_type": "markdown",
      "source": [
        "Функция ```pd.read_csv()``` очень настраиваемая и имеет более 30 параметров, каждый из которых, вы можете использовать. Например, в этом наборе данных вы можете увидеть, что файл CSV уже имеет столбец с индексами, который pandas не определил автоматически. Для того, чтобы pandas использовал данные из этого столбца как индексы для строк, мы можем использовать параметр ```index_col```:"
      ],
      "metadata": {
        "id": "ykalh9_chG2L"
      }
    },
    {
      "cell_type": "code",
      "source": [
        "wine_reviews = pd.read_csv('https://clck.ru/sP8zH', index_col=0)\n",
        "wine_reviews.head()"
      ],
      "metadata": {
        "id": "hHU-JpoEid2c",
        "outputId": "d64fd25c-4027-4456-b9d2-c847c1ce5852",
        "colab": {
          "base_uri": "https://localhost:8080/",
          "height": 206
        }
      },
      "execution_count": null,
      "outputs": [
        {
          "output_type": "execute_result",
          "data": {
            "text/plain": [
              "    country                                        description  \\\n",
              "0     Italy  Aromas include tropical fruit, broom, brimston...   \n",
              "1  Portugal  This is ripe and fruity, a wine that is smooth...   \n",
              "2        US  Tart and snappy, the flavors of lime flesh and...   \n",
              "3        US  Pineapple rind, lemon pith and orange blossom ...   \n",
              "4        US  Much like the regular bottling from 2012, this...   \n",
              "\n",
              "                          designation  points  price           province  \\\n",
              "0                        Vulkà Bianco      87    NaN  Sicily & Sardinia   \n",
              "1                            Avidagos      87   15.0              Douro   \n",
              "2                                 NaN      87   14.0             Oregon   \n",
              "3                Reserve Late Harvest      87   13.0           Michigan   \n",
              "4  Vintner's Reserve Wild Child Block      87   65.0             Oregon   \n",
              "\n",
              "              region_1           region_2         taster_name  \\\n",
              "0                 Etna                NaN       Kerin O’Keefe   \n",
              "1                  NaN                NaN          Roger Voss   \n",
              "2    Willamette Valley  Willamette Valley        Paul Gregutt   \n",
              "3  Lake Michigan Shore                NaN  Alexander Peartree   \n",
              "4    Willamette Valley  Willamette Valley        Paul Gregutt   \n",
              "\n",
              "  taster_twitter_handle                                              title  \\\n",
              "0          @kerinokeefe                  Nicosia 2013 Vulkà Bianco  (Etna)   \n",
              "1            @vossroger      Quinta dos Avidagos 2011 Avidagos Red (Douro)   \n",
              "2           @paulgwine       Rainstorm 2013 Pinot Gris (Willamette Valley)   \n",
              "3                   NaN  St. Julian 2013 Reserve Late Harvest Riesling ...   \n",
              "4           @paulgwine   Sweet Cheeks 2012 Vintner's Reserve Wild Child...   \n",
              "\n",
              "          variety               winery  \n",
              "0     White Blend              Nicosia  \n",
              "1  Portuguese Red  Quinta dos Avidagos  \n",
              "2      Pinot Gris            Rainstorm  \n",
              "3        Riesling           St. Julian  \n",
              "4      Pinot Noir         Sweet Cheeks  "
            ],
            "text/html": [
              "\n",
              "  <div id=\"df-71967341-b7ec-4228-a67e-e7b3f5410af5\">\n",
              "    <div class=\"colab-df-container\">\n",
              "      <div>\n",
              "<style scoped>\n",
              "    .dataframe tbody tr th:only-of-type {\n",
              "        vertical-align: middle;\n",
              "    }\n",
              "\n",
              "    .dataframe tbody tr th {\n",
              "        vertical-align: top;\n",
              "    }\n",
              "\n",
              "    .dataframe thead th {\n",
              "        text-align: right;\n",
              "    }\n",
              "</style>\n",
              "<table border=\"1\" class=\"dataframe\">\n",
              "  <thead>\n",
              "    <tr style=\"text-align: right;\">\n",
              "      <th></th>\n",
              "      <th>country</th>\n",
              "      <th>description</th>\n",
              "      <th>designation</th>\n",
              "      <th>points</th>\n",
              "      <th>price</th>\n",
              "      <th>province</th>\n",
              "      <th>region_1</th>\n",
              "      <th>region_2</th>\n",
              "      <th>taster_name</th>\n",
              "      <th>taster_twitter_handle</th>\n",
              "      <th>title</th>\n",
              "      <th>variety</th>\n",
              "      <th>winery</th>\n",
              "    </tr>\n",
              "  </thead>\n",
              "  <tbody>\n",
              "    <tr>\n",
              "      <th>0</th>\n",
              "      <td>Italy</td>\n",
              "      <td>Aromas include tropical fruit, broom, brimston...</td>\n",
              "      <td>Vulkà Bianco</td>\n",
              "      <td>87</td>\n",
              "      <td>NaN</td>\n",
              "      <td>Sicily &amp; Sardinia</td>\n",
              "      <td>Etna</td>\n",
              "      <td>NaN</td>\n",
              "      <td>Kerin O’Keefe</td>\n",
              "      <td>@kerinokeefe</td>\n",
              "      <td>Nicosia 2013 Vulkà Bianco  (Etna)</td>\n",
              "      <td>White Blend</td>\n",
              "      <td>Nicosia</td>\n",
              "    </tr>\n",
              "    <tr>\n",
              "      <th>1</th>\n",
              "      <td>Portugal</td>\n",
              "      <td>This is ripe and fruity, a wine that is smooth...</td>\n",
              "      <td>Avidagos</td>\n",
              "      <td>87</td>\n",
              "      <td>15.0</td>\n",
              "      <td>Douro</td>\n",
              "      <td>NaN</td>\n",
              "      <td>NaN</td>\n",
              "      <td>Roger Voss</td>\n",
              "      <td>@vossroger</td>\n",
              "      <td>Quinta dos Avidagos 2011 Avidagos Red (Douro)</td>\n",
              "      <td>Portuguese Red</td>\n",
              "      <td>Quinta dos Avidagos</td>\n",
              "    </tr>\n",
              "    <tr>\n",
              "      <th>2</th>\n",
              "      <td>US</td>\n",
              "      <td>Tart and snappy, the flavors of lime flesh and...</td>\n",
              "      <td>NaN</td>\n",
              "      <td>87</td>\n",
              "      <td>14.0</td>\n",
              "      <td>Oregon</td>\n",
              "      <td>Willamette Valley</td>\n",
              "      <td>Willamette Valley</td>\n",
              "      <td>Paul Gregutt</td>\n",
              "      <td>@paulgwine</td>\n",
              "      <td>Rainstorm 2013 Pinot Gris (Willamette Valley)</td>\n",
              "      <td>Pinot Gris</td>\n",
              "      <td>Rainstorm</td>\n",
              "    </tr>\n",
              "    <tr>\n",
              "      <th>3</th>\n",
              "      <td>US</td>\n",
              "      <td>Pineapple rind, lemon pith and orange blossom ...</td>\n",
              "      <td>Reserve Late Harvest</td>\n",
              "      <td>87</td>\n",
              "      <td>13.0</td>\n",
              "      <td>Michigan</td>\n",
              "      <td>Lake Michigan Shore</td>\n",
              "      <td>NaN</td>\n",
              "      <td>Alexander Peartree</td>\n",
              "      <td>NaN</td>\n",
              "      <td>St. Julian 2013 Reserve Late Harvest Riesling ...</td>\n",
              "      <td>Riesling</td>\n",
              "      <td>St. Julian</td>\n",
              "    </tr>\n",
              "    <tr>\n",
              "      <th>4</th>\n",
              "      <td>US</td>\n",
              "      <td>Much like the regular bottling from 2012, this...</td>\n",
              "      <td>Vintner's Reserve Wild Child Block</td>\n",
              "      <td>87</td>\n",
              "      <td>65.0</td>\n",
              "      <td>Oregon</td>\n",
              "      <td>Willamette Valley</td>\n",
              "      <td>Willamette Valley</td>\n",
              "      <td>Paul Gregutt</td>\n",
              "      <td>@paulgwine</td>\n",
              "      <td>Sweet Cheeks 2012 Vintner's Reserve Wild Child...</td>\n",
              "      <td>Pinot Noir</td>\n",
              "      <td>Sweet Cheeks</td>\n",
              "    </tr>\n",
              "  </tbody>\n",
              "</table>\n",
              "</div>\n",
              "      <button class=\"colab-df-convert\" onclick=\"convertToInteractive('df-71967341-b7ec-4228-a67e-e7b3f5410af5')\"\n",
              "              title=\"Convert this dataframe to an interactive table.\"\n",
              "              style=\"display:none;\">\n",
              "        \n",
              "  <svg xmlns=\"http://www.w3.org/2000/svg\" height=\"24px\"viewBox=\"0 0 24 24\"\n",
              "       width=\"24px\">\n",
              "    <path d=\"M0 0h24v24H0V0z\" fill=\"none\"/>\n",
              "    <path d=\"M18.56 5.44l.94 2.06.94-2.06 2.06-.94-2.06-.94-.94-2.06-.94 2.06-2.06.94zm-11 1L8.5 8.5l.94-2.06 2.06-.94-2.06-.94L8.5 2.5l-.94 2.06-2.06.94zm10 10l.94 2.06.94-2.06 2.06-.94-2.06-.94-.94-2.06-.94 2.06-2.06.94z\"/><path d=\"M17.41 7.96l-1.37-1.37c-.4-.4-.92-.59-1.43-.59-.52 0-1.04.2-1.43.59L10.3 9.45l-7.72 7.72c-.78.78-.78 2.05 0 2.83L4 21.41c.39.39.9.59 1.41.59.51 0 1.02-.2 1.41-.59l7.78-7.78 2.81-2.81c.8-.78.8-2.07 0-2.86zM5.41 20L4 18.59l7.72-7.72 1.47 1.35L5.41 20z\"/>\n",
              "  </svg>\n",
              "      </button>\n",
              "      \n",
              "  <style>\n",
              "    .colab-df-container {\n",
              "      display:flex;\n",
              "      flex-wrap:wrap;\n",
              "      gap: 12px;\n",
              "    }\n",
              "\n",
              "    .colab-df-convert {\n",
              "      background-color: #E8F0FE;\n",
              "      border: none;\n",
              "      border-radius: 50%;\n",
              "      cursor: pointer;\n",
              "      display: none;\n",
              "      fill: #1967D2;\n",
              "      height: 32px;\n",
              "      padding: 0 0 0 0;\n",
              "      width: 32px;\n",
              "    }\n",
              "\n",
              "    .colab-df-convert:hover {\n",
              "      background-color: #E2EBFA;\n",
              "      box-shadow: 0px 1px 2px rgba(60, 64, 67, 0.3), 0px 1px 3px 1px rgba(60, 64, 67, 0.15);\n",
              "      fill: #174EA6;\n",
              "    }\n",
              "\n",
              "    [theme=dark] .colab-df-convert {\n",
              "      background-color: #3B4455;\n",
              "      fill: #D2E3FC;\n",
              "    }\n",
              "\n",
              "    [theme=dark] .colab-df-convert:hover {\n",
              "      background-color: #434B5C;\n",
              "      box-shadow: 0px 1px 3px 1px rgba(0, 0, 0, 0.15);\n",
              "      filter: drop-shadow(0px 1px 2px rgba(0, 0, 0, 0.3));\n",
              "      fill: #FFFFFF;\n",
              "    }\n",
              "  </style>\n",
              "\n",
              "      <script>\n",
              "        const buttonEl =\n",
              "          document.querySelector('#df-71967341-b7ec-4228-a67e-e7b3f5410af5 button.colab-df-convert');\n",
              "        buttonEl.style.display =\n",
              "          google.colab.kernel.accessAllowed ? 'block' : 'none';\n",
              "\n",
              "        async function convertToInteractive(key) {\n",
              "          const element = document.querySelector('#df-71967341-b7ec-4228-a67e-e7b3f5410af5');\n",
              "          const dataTable =\n",
              "            await google.colab.kernel.invokeFunction('convertToInteractive',\n",
              "                                                     [key], {});\n",
              "          if (!dataTable) return;\n",
              "\n",
              "          const docLinkHtml = 'Like what you see? Visit the ' +\n",
              "            '<a target=\"_blank\" href=https://colab.research.google.com/notebooks/data_table.ipynb>data table notebook</a>'\n",
              "            + ' to learn more about interactive tables.';\n",
              "          element.innerHTML = '';\n",
              "          dataTable['output_type'] = 'display_data';\n",
              "          await google.colab.output.renderOutput(dataTable, element);\n",
              "          const docLink = document.createElement('div');\n",
              "          docLink.innerHTML = docLinkHtml;\n",
              "          element.appendChild(docLink);\n",
              "        }\n",
              "      </script>\n",
              "    </div>\n",
              "  </div>\n",
              "  "
            ]
          },
          "metadata": {},
          "execution_count": 3
        }
      ]
    },
    {
      "cell_type": "markdown",
      "source": [
        "Out:\n",
        "\n",
        "|    | country   | description                                                                                                                                                                                                                                               | designation                        |   points |   price | province          | region_1            | region_2          | taster_name        | taster_twitter_handle   | title                                                                               | variety        | winery              |\n",
        "|---:|:----------|:----------------------------------------------------------------------------------------------------------------------------------------------------------------------------------------------------------------------------------------------------------|:-----------------------------------|---------:|--------:|:------------------|:--------------------|:------------------|:-------------------|:------------------------|:------------------------------------------------------------------------------------|:---------------|:--------------------|\n",
        "|  0 | Italy     | Aromas include tropical fruit, broom, brimstone and dried herb. The palate isn't overly expressive, offering unripened apple, citrus and dried sage alongside brisk acidity.                                                                              | Vulkà Bianco                       |       87 |     nan | Sicily & Sardinia | Etna                | nan               | Kerin O’Keefe      | @kerinokeefe            | Nicosia 2013 Vulkà Bianco  (Etna)                                                   | White Blend    | Nicosia             |\n",
        "|  1 | Portugal  | This is ripe and fruity, a wine that is smooth while still structured. Firm tannins are filled out with juicy red berry fruits and freshened with acidity. It's  already drinkable, although it will certainly be better from 2016.                       | Avidagos                           |       87 |      15 | Douro             | nan                 | nan               | Roger Voss         | @vossroger              | Quinta dos Avidagos 2011 Avidagos Red (Douro)                                       | Portuguese Red | Quinta dos Avidagos |\n",
        "|  2 | US        | Tart and snappy, the flavors of lime flesh and rind dominate. Some green pineapple pokes through, with crisp acidity underscoring the flavors. The wine was all stainless-steel fermented.                                                                | nan                                |       87 |      14 | Oregon            | Willamette Valley   | Willamette Valley | Paul Gregutt       | @paulgwine              | Rainstorm 2013 Pinot Gris (Willamette Valley)                                       | Pinot Gris     | Rainstorm           |\n",
        "|  3 | US        | Pineapple rind, lemon pith and orange blossom start off the aromas. The palate is a bit more opulent, with notes of honey-drizzled guava and mango giving way to a slightly astringent, semidry finish.                                                   | Reserve Late Harvest               |       87 |      13 | Michigan          | Lake Michigan Shore | nan               | Alexander Peartree | nan                     | St. Julian 2013 Reserve Late Harvest Riesling (Lake Michigan Shore)                 | Riesling       | St. Julian          |\n",
        "|  4 | US        | Much like the regular bottling from 2012, this comes across as rather rough and tannic, with rustic, earthy, herbal characteristics. Nonetheless, if you think of it as a pleasantly unfussy country wine, it's a good companion to a hearty winter stew. | Vintner's Reserve Wild Child Block |       87 |      65 | Oregon            | Willamette Valley   | Willamette Valley | Paul Gregutt       | @paulgwine              | Sweet Cheeks 2012 Vintner's Reserve Wild Child Block Pinot Noir (Willamette Valley) | Pinot Noir     | Sweet Cheeks        |"
      ],
      "metadata": {
        "id": "s0xzunCWimXj"
      }
    },
    {
      "cell_type": "markdown",
      "source": [
        "## Ваш черед\n",
        "\n",
        "Вы прочли первую часть курса, пора закрепить это на практике.\n",
        "Решите задачки [здесь](https://github.com/sergeymasl/pandas_cource/blob/main/Exercise_Creating%2C_Reading_and_Writing.ipynb)"
      ],
      "metadata": {
        "id": "hiLw2oTmiuIr"
      }
    }
  ]
}