{
  "nbformat": 4,
  "nbformat_minor": 0,
  "metadata": {
    "colab": {
      "name": "Creating, Reading and Writing.ipynb",
      "provenance": [],
      "collapsed_sections": [],
      "toc_visible": true,
      "authorship_tag": "ABX9TyOzXlwu8PZq3I44FpinQ3VG",
      "include_colab_link": true
    },
    "kernelspec": {
      "name": "python3",
      "display_name": "Python 3"
    },
    "language_info": {
      "name": "python"
    }
  },
  "cells": [
    {
      "cell_type": "markdown",
      "metadata": {
        "id": "view-in-github",
        "colab_type": "text"
      },
      "source": [
        "<a href=\"https://colab.research.google.com/github/sergeymasl/pandas_cource/blob/main/Creating%2C_Reading_and_Writing.ipynb\" target=\"_parent\"><img src=\"https://colab.research.google.com/assets/colab-badge.svg\" alt=\"Open In Colab\"/></a>"
      ]
    },
    {
      "cell_type": "markdown",
      "source": [
        "# **Creating, Reading and Writing**"
      ],
      "metadata": {
        "id": "DsZCOaqfrC45"
      }
    },
    {
      "cell_type": "markdown",
      "source": [
        "## Вступление\n",
        "В этом мини-курсе вы познакомитесь и изучите основы библиотеки [pandas](https://pandas.pydata.org/), самой популярной библиотеки Python для анализа данных.\n",
        "\n",
        "Во время обучения, вы самостоятельно выполните несколько упражнений на реальных данных. После прочтения блоков курса, рекомендуется выполнять блоки соответствующих упражнений.\n",
        "\n",
        "\n",
        "В этом блоке вы изучете, как создать ваш собственный массив данных и как работать с уже созданными данными.\n",
        "\n",
        "\n",
        "**Отступление по условностям работы с платформой**\n",
        "После блока с обучающим материалом идут ячейки с кодом, выполняя который вы можете проверить работу кода, данного в обучающем материале.\n",
        "\n",
        "Для запуска ячейки клацните по иконке *play*\n",
        "\n",
        "![image.png](data:image/png;base64,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)\n",
        "\n",
        "Или нажмите Ctrl + Enter находясь в ячейке"
      ],
      "metadata": {
        "id": "EX0WfS4CrL9p"
      }
    },
    {
      "cell_type": "markdown",
      "source": [
        "## Начало работы\n",
        "\n",
        "При работе с библиотекой pandas, вы, как правило, будете начинать свою работу со следующего кода.\n",
        "\n",
        "```python\n",
        "import pandas as pd\n",
        "```"
      ],
      "metadata": {
        "id": "nSg7Iuk-s5EZ"
      }
    },
    {
      "cell_type": "code",
      "execution_count": 2,
      "metadata": {
        "id": "tPi9njTlY0zG"
      },
      "outputs": [],
      "source": [
        "import pandas as pd"
      ]
    },
    {
      "cell_type": "markdown",
      "source": [
        "## Создание фрейма данных\n",
        "\n",
        "В библиотеке Pandas есть два ключевых объекта: **DataFrame** и **Series**"
      ],
      "metadata": {
        "id": "_WMSfloMufsw"
      }
    },
    {
      "cell_type": "markdown",
      "source": [
        "### DataFrame\n",
        "\n",
        "Говоря простыми словами DataFrame это таблица. Он содержит набор *ячеек* каждая из которых содержит собственное значение. Каждой ячейке соответсвует *строка* и *столбец*.\n",
        "\n",
        "Для примера, расмотрим ниже простой DataFrame:\n",
        "```python\n",
        "pd.DataFrame({'Yes' : [50, 21], 'No' : [131, 2]})\n",
        "```\n",
        "\n",
        "|    |   Yes |   No |\n",
        "|---:|------:|-----:|\n",
        "|  0 |    50 |  131 |\n",
        "|  1 |    21 |    2 |\n",
        "\n",
        "\\\n",
        "\n",
        "В этом примере, *ячейка* с *адресом* \"0, No\" имеет значение 131. *ячейка* с *адресом* \"0, Yes\" имеет значение 50, и так далее."
      ],
      "metadata": {
        "id": "az2em-UQu1Ax"
      }
    },
    {
      "cell_type": "code",
      "source": [
        "pd.DataFrame({'Yes' : [50, 21], 'No' : [131, 2]})"
      ],
      "metadata": {
        "id": "M3-h1H1HufKp"
      },
      "execution_count": null,
      "outputs": []
    },
    {
      "cell_type": "markdown",
      "source": [
        "\n",
        "Значения в DataFrame не ограничиваются только целыми числами (```Int```). Для примера вот DataFrame в котором данные являются строками (```Str```)\n",
        "\n",
        "```python\n",
        "pd.DataFrame({'Bob': ['I liked it.', 'It was awful.'], 'Sue': ['Pretty good.', 'Bland.']})\n",
        "```"
      ],
      "metadata": {
        "id": "I8_ASNiuD3Fu"
      }
    },
    {
      "cell_type": "markdown",
      "source": [
        "|    | Bob           | Sue          |\n",
        "|---:|:--------------|:-------------|\n",
        "|  0 | I liked it.   | Pretty good. |\n",
        "|  1 | It was awful. | Bland.       |"
      ],
      "metadata": {
        "id": "O76Efa6vMx-k"
      }
    },
    {
      "cell_type": "code",
      "source": [
        "pd.DataFrame({'Bob': ['I liked it.', 'It was awful.'], 'Sue': ['Pretty good.', 'Bland.']})"
      ],
      "metadata": {
        "id": "Ehj7rkVGEXnm"
      },
      "execution_count": null,
      "outputs": []
    },
    {
      "cell_type": "markdown",
      "source": [
        "Мы использовали конструкцию ```pd.DataFrame()``` для создания этих объектов DataFrame. Синтаксис, сообщающий системе о создании нового DataFrame, это словарь (```dict```), ключи которого ивляются **именами столбцов** (```Bod``` и ```Sue``` в примере), а значения - это списки (```list```) с данными в столбцах. Это один из стандартных способ создания нового DataFrame, который будет встречаться вам наиболее часто.\n",
        "\n",
        "\\\n",
        "Конструкция со словарем сообщает **имена столбцов**, но при этом использует нумерация строк от 0 (0,1,2,3,...) для **имен строк**. Иногда это нормально, но чаще всего мы заходим дать **имена этим строка** самостоятельно, для лучшей ориентации в данных.\n",
        "\n",
        "**Имена строк** в DataFrame (и не только в нем) именуются как **index**. Мы можем самостоятельно назначить индексы использую параметр ```index``` при создании DataFrame.\n",
        "\n",
        "```python\n",
        "pd.DataFrame({'Bob': ['I liked it.', 'It was awful.'], \n",
        "              'Sue': ['Pretty good.', 'Bland.']},\n",
        "             index=['Product A', 'Product B'])\n",
        "```"
      ],
      "metadata": {
        "id": "8UCSayZuIAFv"
      }
    },
    {
      "cell_type": "markdown",
      "source": [
        "|           | Bob           | Sue          |\n",
        "|:----------|:--------------|:-------------|\n",
        "| Product A | I liked it.   | Pretty good. |\n",
        "| Product B | It was awful. | Bland.       |\n"
      ],
      "metadata": {
        "id": "yvhfOk7VMuZ8"
      }
    },
    {
      "cell_type": "code",
      "source": [
        "pd.DataFrame({'Bob': ['I liked it.', 'It was awful.'], \n",
        "              'Sue': ['Pretty good.', 'Bland.']},\n",
        "             index=['Product A', 'Product B'])"
      ],
      "metadata": {
        "id": "fsBEQt9VMiF2"
      },
      "execution_count": null,
      "outputs": []
    },
    {
      "cell_type": "markdown",
      "source": [
        "### Series"
      ],
      "metadata": {
        "id": "FPpgk7mVM848"
      }
    }
  ]
}