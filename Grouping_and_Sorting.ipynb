{
  "nbformat": 4,
  "nbformat_minor": 0,
  "metadata": {
    "colab": {
      "name": "Grouping and Sorting.ipynb",
      "provenance": [],
      "toc_visible": true,
      "authorship_tag": "ABX9TyMs2RyrgGUzGQacoy8kXEZ+",
      "include_colab_link": true
    },
    "kernelspec": {
      "name": "python3",
      "display_name": "Python 3"
    },
    "language_info": {
      "name": "python"
    }
  },
  "cells": [
    {
      "cell_type": "markdown",
      "metadata": {
        "id": "view-in-github",
        "colab_type": "text"
      },
      "source": [
        "<a href=\"https://colab.research.google.com/github/sergeymasl/pandas_cource/blob/main/Grouping_and_Sorting.ipynb\" target=\"_parent\"><img src=\"https://colab.research.google.com/assets/colab-badge.svg\" alt=\"Open In Colab\"/></a>"
      ]
    },
    {
      "cell_type": "markdown",
      "source": [
        "# **Grouping and Sorting**"
      ],
      "metadata": {
        "id": "1ID-E0F3TR5E"
      }
    },
    {
      "cell_type": "markdown",
      "source": [
        "Фунции для преобразования каждого элемента (Maps) преобразуют каждый отдельный элемент, но часто нам совершить операцию над группой элементов (найти сумму, среднее и т.п)\n",
        "\n",
        "В этом уроке мы научимся делать операции на группой данных с методом ```groupby()```, взглянем на более сложные способы индексации данных и изучим методы сортировки данных."
      ],
      "metadata": {
        "id": "4fGIxd0LUh4L"
      }
    },
    {
      "cell_type": "markdown",
      "source": [
        "##"
      ],
      "metadata": {
        "id": "GIow4ejSWYpb"
      }
    },
    {
      "cell_type": "code",
      "execution_count": null,
      "metadata": {
        "id": "IgSv9QQnTNuK"
      },
      "outputs": [],
      "source": [
        ""
      ]
    }
  ]
}